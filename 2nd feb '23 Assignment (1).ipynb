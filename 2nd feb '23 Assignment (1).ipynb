{
 "cells": [
  {
   "cell_type": "code",
   "execution_count": null,
   "id": "378ca4b0-ef6e-4c47-a37e-364181f28c8a",
   "metadata": {},
   "outputs": [],
   "source": [
    "\"\"\"***************************** 2nd feb'23 Assignment *****************************\"\"\""
   ]
  },
  {
   "cell_type": "code",
   "execution_count": 1,
   "id": "6a4d4262-00c6-483e-9dd4-840a3b8e2456",
   "metadata": {},
   "outputs": [
    {
     "name": "stdout",
     "output_type": "stream",
     "text": [
      "For loop:\n",
      "trimal\n",
      "avinash\n",
      "sai ashish\n",
      "\n",
      "\n",
      "While loop:\n",
      "1\n",
      "2\n",
      "3\n",
      "4\n"
     ]
    }
   ],
   "source": [
    "\"\"\"Q1. Explain with an example each when to use a for loop and a while loop.\"\"\"\n",
    "\n",
    "#  For loop: A for loop is a control flow statement that executes code repeatedly for a particular number of iterations.\n",
    "#            In this control flow statement, the keyword used is \"for\". \n",
    "#            The for loop is used when the number of iterations is already known.\n",
    "\n",
    "\"\"\"example\"\"\"\n",
    "print(\"For loop:\")\n",
    "names = ['trimal', 'avinash', 'sai ashish']\n",
    "for i in names:\n",
    "    print(i)\n",
    "    \n",
    "print(\"\\n\")    \n",
    "# While loop: A loop that executes a single statement or a group of statements for the given true condition.\n",
    "#             The keyword used to represent this loop is \"while\".\n",
    "#             A \"while\" loop is used when the number of iterations is unknown.\n",
    "\n",
    "\"\"\"example\"\"\"\n",
    "print(\"While loop:\")\n",
    "expr=True\n",
    "i=0\n",
    "while i<4:\n",
    "    print(i+1)\n",
    "    i=i+1"
   ]
  },
  {
   "cell_type": "code",
   "execution_count": 2,
   "id": "4a4ccbbe-b4f9-4d07-b9a7-d3d5952f1d9d",
   "metadata": {},
   "outputs": [
    {
     "name": "stdout",
     "output_type": "stream",
     "text": [
      "for loop:\n",
      "sum: 55\n",
      "product: 3628800\n",
      "\n",
      "\n",
      "while loop:\n",
      "sum: 55\n",
      "product: 3628800\n"
     ]
    }
   ],
   "source": [
    "\"\"\"Write a python program to print the sum and product of the first 10 natural numbers using for\n",
    "   and while loop.\"\"\"\n",
    "\n",
    "print(\"for loop:\")\n",
    "sum=0\n",
    "product=1\n",
    "for i in range (1,11):\n",
    "    sum=sum+i\n",
    "    product=product*i\n",
    "    i=i+1\n",
    "print(\"sum:\",sum)\n",
    "print(\"product:\",product)\n",
    "\n",
    "print(\"\\n\")\n",
    "print(\"while loop:\")\n",
    "i=1\n",
    "sum=0\n",
    "product=1\n",
    "while i<11:\n",
    "    sum=sum+i\n",
    "    product=product*i\n",
    "    i=i+1\n",
    "print(\"sum:\",sum)\n",
    "print(\"product:\",product)"
   ]
  },
  {
   "cell_type": "code",
   "execution_count": 3,
   "id": "0516578d-e283-4e49-92a5-92a9973448e2",
   "metadata": {},
   "outputs": [
    {
     "name": "stdin",
     "output_type": "stream",
     "text": [
      "Enter the no. of units in your house : 310\n"
     ]
    },
    {
     "name": "stdout",
     "output_type": "stream",
     "text": [
      "2250.0\n"
     ]
    }
   ],
   "source": [
    "\"\"\"Q3. Create a python program to compute the electricity bill for a household.\n",
    "   The per-unit charges in rupees are as follows: For the first 100 units, the user will be charged Rs. 4.5 per\n",
    "   unit, for the next 100 units, the user will be charged Rs. 6 per unit, and for the next 100 units, the user will\n",
    "   be charged Rs. 10 per unit, After 300 units and above the user will be charged Rs. 20 per unit.\"\"\"\n",
    "\n",
    "\"\"\"Your program must pass this test case: when the unit of electricity consumed by the user in a month is\n",
    "   310, the total electricity bill should be 2250.\"\"\"\n",
    "\n",
    "unit=int(input(\"Enter the no. of units in your house :\"))\n",
    "bill=0.00\n",
    "if unit<=100:\n",
    "    bill=(unit*4.5)\n",
    "elif unit>100 and unit <=200:\n",
    "    bill=(100*4.5)+((unit-100)*6)\n",
    "elif unit>200 and unit<=300:\n",
    "    bill=(100*4.5)+(100*6)+((unit-200)*10)\n",
    "else:\n",
    "    bill=(100*4.5)+(100*6)+(100*10)+((unit-300)*20)\n",
    "print(bill)\n"
   ]
  },
  {
   "cell_type": "code",
   "execution_count": 3,
   "id": "120753ed-e5de-42e0-af47-1de9d060c569",
   "metadata": {},
   "outputs": [
    {
     "name": "stdout",
     "output_type": "stream",
     "text": [
      "For loop:\n",
      "[2, 4, 5, 6, 8, 10, 12, 14, 15, 16, 18, 20, 22, 24, 25, 26, 28, 30, 32, 34, 35, 36, 38, 40, 42, 44, 45, 46, 48, 50, 52, 54, 55, 56, 58, 60, 62, 64, 65, 66, 68, 70, 72, 74, 75, 76, 78, 80, 82, 84, 85, 86, 88, 90, 92, 94, 95, 96, 98, 100] \n",
      "\n",
      "While loop:\n",
      "[2, 4, 5, 6, 8, 10, 12, 14, 15, 16, 18, 20, 22, 24, 25, 26, 28, 30, 32, 34, 35, 36, 38, 40, 42, 44, 45, 46, 48, 50, 52, 54, 55, 56, 58, 60, 62, 64, 65, 66, 68, 70, 72, 74, 75, 76, 78, 80, 82, 84, 85, 86, 88, 90, 92, 94, 95, 96, 98, 100]\n"
     ]
    }
   ],
   "source": [
    "\"\"\"Q4. Create a list of numbers from 1 to 100. Use for loop and while loop to calculate the cube of each\n",
    "   number and if the cube of that number is divisible by 4 or 5 then append that number in a list and print\n",
    "   that list.\"\"\"\n",
    "\n",
    "print(\"For loop:\")\n",
    "l = list(range(1,101))\n",
    "lst_for=[]\n",
    "lst_while=[]\n",
    "\n",
    "for i in l:\n",
    "    cube=i**3\n",
    "    if(cube%4==0 or cube%5==0):\n",
    "        lst_for.append(i)\n",
    "print(lst_for,\"\\n\")\n",
    "\n",
    "print(\"While loop:\")\n",
    "J=1\n",
    "while J<=100:\n",
    "    cube_1=J**3\n",
    "    if(cube_1%4==0 or cube_1%5==0):\n",
    "            lst_while.append(J)\n",
    "    J=J+1\n",
    "print(lst_while)"
   ]
  },
  {
   "cell_type": "code",
   "execution_count": 4,
   "id": "829d65b9-4000-452e-919c-b17517777b95",
   "metadata": {},
   "outputs": [
    {
     "name": "stdout",
     "output_type": "stream",
     "text": [
      "12\n"
     ]
    }
   ],
   "source": [
    "\"\"\"Q5. Write a program to filter count vowels in the below-given string.\n",
    "   string = 'I want to become a data scientist'\"\"\"\n",
    "\n",
    "str_1=\"I want to become a data scientist\"\n",
    "count=0\n",
    "for i in str_1:\n",
    "    if(i.lower() in ['a','e','i','o','u']):\n",
    "        count=count+1\n",
    "print(count)"
   ]
  },
  {
   "cell_type": "code",
   "execution_count": null,
   "id": "e83e5f47-90f1-4299-8b3a-856ed77efe38",
   "metadata": {},
   "outputs": [],
   "source": []
  }
 ],
 "metadata": {
  "kernelspec": {
   "display_name": "Python 3 (ipykernel)",
   "language": "python",
   "name": "python3"
  },
  "language_info": {
   "codemirror_mode": {
    "name": "ipython",
    "version": 3
   },
   "file_extension": ".py",
   "mimetype": "text/x-python",
   "name": "python",
   "nbconvert_exporter": "python",
   "pygments_lexer": "ipython3",
   "version": "3.10.8"
  }
 },
 "nbformat": 4,
 "nbformat_minor": 5
}
