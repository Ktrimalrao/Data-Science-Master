{
 "cells": [
  {
   "cell_type": "code",
   "execution_count": 3,
   "id": "c0f91acf-50ca-47f0-b2a9-f89d570ef3ab",
   "metadata": {},
   "outputs": [
    {
     "data": {
      "text/plain": [
       "\"***************************** 19th feb'23 Assignment *****************************\""
      ]
     },
     "execution_count": 3,
     "metadata": {},
     "output_type": "execute_result"
    }
   ],
   "source": [
    "\"\"\"***************************** 19th feb'23 Assignment *****************************\"\"\""
   ]
  },
  {
   "cell_type": "code",
   "execution_count": null,
   "id": "736fad87-cea7-4d8e-bc61-8a2c5a9b8a93",
   "metadata": {},
   "outputs": [],
   "source": [
    "\"\"\"Q1. What is Flask Framework? What are the advantages of Flask Framework?\"\"\"\n",
    "\n",
    "Ans.\n",
    "    Flask allows you to create web applications by defining routes or URLs that correspond to different\n",
    "    pages or functionalities of your application. When a user visits a specific URL, Flask maps that URL\n",
    "    to a particular function in your code, known as a view function. This function then generates the \n",
    "    content that will be displayed on the users browser.\n",
    "\n",
    "    Advantages:\n",
    " * Flask is a lightweight web framework for Python.\n",
    " * It helps you build web applications quickly and easily.\n",
    " * With Flask, you define routes that correspond to different pages or functionalities.\n",
    " * It handles HTTP requests and generates responses for users.\n",
    " * Flask simplifies web development, allowing you to focus on your applications logic."
   ]
  },
  {
   "cell_type": "code",
   "execution_count": null,
   "id": "633e37cb-3dd1-4c11-aff9-f9f11ae19aee",
   "metadata": {},
   "outputs": [],
   "source": [
    "\"\"\"Q2. Create a simple Flask application to display ‘Hello World!!’. Attach the screenshot of the output in\n",
    "        Jupyter Notebook.\"\"\"\n",
    "\n",
    "Ans.\n",
    "\n",
    "from flask import Flask\n",
    "app = Flask(__name__)\n",
    "\n",
    "@app.route(\"/hello world\")\n",
    "def hello_world():\n",
    "    return \"Hello World !\"\n",
    "\n",
    "if _name__==\"__main__\":\n",
    "    app.run(host=\"0.0.0.0\")\n",
    "\n",
    "Run this code.\n",
    "Then see the terminal\n",
    " * Running on all addresses (0.0.0.0)\n",
    " * Running on http://127.0.0.1:5000\n",
    " * Running on http://172.18.0.23:5000\n",
    "    \n",
    "Then you open new browser url copy the > salmon-doctor-ydzll.pwskills.app:5000\n",
    "output:\n",
    "Hello World !"
   ]
  },
  {
   "cell_type": "code",
   "execution_count": null,
   "id": "d9614c47-d191-4a96-87fc-2112dd3da444",
   "metadata": {},
   "outputs": [],
   "source": [
    "\"\"\"Q3. What is App routing in Flask? Why do we use app routes?\"\"\"\n",
    "\n",
    "Ans.\n",
    "    In Flask, app routing is the process of mapping URLs to specific functions in your web application.\n",
    "    It determines how different URLs will be handled and which code will be executed.\n",
    "    App routing allows you to define the structure & behavior of your web applications pages & functionalities.\n",
    "    \n",
    "    \n",
    "    We use app routes in Flask to define the different URLs or pages of our web application and specify\n",
    "    the corresponding functions that handle those URLs. App routes allow users to navigate through \n",
    "    the application and interact with different features or retrieve specific information based on the URL they visit."
   ]
  },
  {
   "cell_type": "code",
   "execution_count": null,
   "id": "363a0a05-fac6-4bee-be63-d51e7b2c3dab",
   "metadata": {},
   "outputs": [],
   "source": [
    "\"\"\"Q4. Create a “/welcome” route to display the welcome message “Welcome to ABC Corporation” and a “/”\n",
    "        route to show the following details:\n",
    "        Company Name: ABC Corporation\n",
    "        Location: India\n",
    "        Contact Detail: 999-999-9999                                                                     \"\"\"\n",
    "\n",
    "Ans.\n",
    "from flask import Flask\n",
    "app = Flask(__name__)\n",
    "\n",
    "@app.route(\"/welcome\")\n",
    "def welcome():\n",
    "    return \"Welcome to ABC Corporation\"\n",
    "\n",
    "@app.route(\"/\")\n",
    "def details():\n",
    "    return  '''Company Name: ABC Corporation\n",
    "    <br>Location: India\n",
    "    <br>Contact Detail: 999-999-9999'''\n",
    "\n",
    "if _name__==\"__main__\":\n",
    "    app.run(host=\"0.0.0.0\")\n",
    "    \n",
    "Then you open new browser : https://salmon-doctor-ydzll.pwskills.app:5000/welcome\n",
    "output: Welcome to ABC Corporation\n",
    "\n",
    "Then you open new browser : https://salmon-doctor-ydzll.pwskills.app:5000/\n",
    "output:\n",
    "    \n",
    "Company Name: ABC Corporation\n",
    "Location: India\n",
    "Contact Detail: 999-999-9999"
   ]
  },
  {
   "cell_type": "code",
   "execution_count": null,
   "id": "14e682eb-21e8-4658-8a30-68c20dad4312",
   "metadata": {},
   "outputs": [],
   "source": [
    "\"\"\"Q5. What function is used in Flask for URL Building? Write a Python code to demonstrate the working of the\n",
    "        url_for() function.\"\"\"\n",
    "\n",
    "Ans.\n",
    "    In Flask, the \"url_for()\" function is used for URL building.\n",
    "    \n",
    "from flask import Flask, url_for\n",
    "\n",
    "app = Flask(__name__)\n",
    "\n",
    "@app.route('/')\n",
    "def home():\n",
    "    return 'Welcome to the Home Page'\n",
    "\n",
    "@app.route('/about')\n",
    "def about():\n",
    "    return 'This is the About Page'\n",
    "\n",
    "if __name__ == '__main__':\n",
    "    with app.test_request_context():\n",
    "        \n",
    "        home_url = url_for('home')\n",
    "        about_url = url_for('about')\n",
    "\n",
    "        print(\"Home URL:\", home_url)\n",
    "        print(\"About URL:\", about_url)\n"
   ]
  }
 ],
 "metadata": {
  "kernelspec": {
   "display_name": "Python 3 (ipykernel)",
   "language": "python",
   "name": "python3"
  },
  "language_info": {
   "codemirror_mode": {
    "name": "ipython",
    "version": 3
   },
   "file_extension": ".py",
   "mimetype": "text/x-python",
   "name": "python",
   "nbconvert_exporter": "python",
   "pygments_lexer": "ipython3",
   "version": "3.10.8"
  }
 },
 "nbformat": 4,
 "nbformat_minor": 5
}
