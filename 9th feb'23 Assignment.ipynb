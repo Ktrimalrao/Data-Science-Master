{
 "cells": [
  {
   "cell_type": "code",
   "execution_count": 1,
   "id": "988211f4-8867-4c6d-ad41-a1043bbaa68f",
   "metadata": {},
   "outputs": [
    {
     "data": {
      "text/plain": [
       "\"***************************** 9th feb'23 Assignment *****************************\""
      ]
     },
     "execution_count": 1,
     "metadata": {},
     "output_type": "execute_result"
    }
   ],
   "source": [
    "\"\"\"***************************** 9th feb'23 Assignment *****************************\"\"\""
   ]
  },
  {
   "cell_type": "code",
   "execution_count": 8,
   "id": "e4d66b01-746c-4c5a-85b4-1a6b0840cedb",
   "metadata": {},
   "outputs": [],
   "source": [
    "\"\"\"Q1. Create a vehicle class with an init method having instance variables as name_of_vehicle, max_speed\n",
    "        and average_of_vehicle.\"\"\"\n",
    "\n",
    "class vehical:\n",
    "    def __init__(self,name_of_vehicle,max_speed,average_of_vehicle):\n",
    "        self.name_of_vehicle=name_of_vehicle\n",
    "        self.max_speed=max_speed\n",
    "        self.average_of_vehicle=average_of_vehicle\n",
    "    def detials(self):\n",
    "        return self.name_of_vehicle,self.max_speed,self.average_of_vehicle"
   ]
  },
  {
   "cell_type": "code",
   "execution_count": 9,
   "id": "d5895462-f572-4d1e-b21b-e84ae22437ad",
   "metadata": {},
   "outputs": [],
   "source": [
    "Tilak=vehical(\"AUDI\",350,\"17.84 kmpl\")"
   ]
  },
  {
   "cell_type": "code",
   "execution_count": 10,
   "id": "07150866-5eba-4188-acc4-03f3d55271f5",
   "metadata": {},
   "outputs": [
    {
     "data": {
      "text/plain": [
       "('AUDI', 350, '17.84 kmpl')"
      ]
     },
     "execution_count": 10,
     "metadata": {},
     "output_type": "execute_result"
    }
   ],
   "source": [
    "Tilak.detials()"
   ]
  },
  {
   "cell_type": "code",
   "execution_count": 13,
   "id": "7818b392-fab7-4ab3-8a91-6579f28aed09",
   "metadata": {},
   "outputs": [],
   "source": [
    "\"\"\"Q2. Create a child class car from the vehicle class created in Que 1, which will inherit the vehicle class.\n",
    "        Create a method named seating_capacity which takes capacity as an argument and returns the name of\n",
    "        the vehicle and its seating capacity.\"\"\"\n",
    "\n",
    "class vehicle:\n",
    "    def __init__(self,name):\n",
    "        self.name=name\n",
    "        \n",
    "    def seating_capacity(self,capacity):\n",
    "        return self.name,capacity\n",
    "    \n",
    "class car(vehicle):\n",
    "    def seating_capacity(self,capacity):\n",
    "        return self.name,capacity"
   ]
  },
  {
   "cell_type": "code",
   "execution_count": 19,
   "id": "eca1796e-17c8-41e2-8796-721d2d5d2444",
   "metadata": {},
   "outputs": [
    {
     "data": {
      "text/plain": [
       "('B_M_W', 6)"
      ]
     },
     "execution_count": 19,
     "metadata": {},
     "output_type": "execute_result"
    }
   ],
   "source": [
    "car(\"B_M_W\").seating_capacity(6)"
   ]
  },
  {
   "cell_type": "code",
   "execution_count": 33,
   "id": "2fff4cb7-3c2a-4bb2-a91e-9f65b751df1e",
   "metadata": {},
   "outputs": [
    {
     "name": "stdout",
     "output_type": "stream",
     "text": [
      "present Base-1\n",
      "present Base-2\n",
      "present Base-3\n"
     ]
    }
   ],
   "source": [
    "\"\"\"Q3. What is multiple inheritance? Write a python code to demonstrate multiple inheritance.\"\"\"\n",
    "\n",
    "# When a class is derived from more than one base class it is called multiple Inheritance.\n",
    "# The derived class inherits all the features of the base case.\n",
    "\n",
    "class Base_1:\n",
    "    def method1(self):\n",
    "        print(\"present Base-1\")\n",
    "class Base_2(Base_1):\n",
    "    def method2(self):\n",
    "        print(\"present Base-2\")\n",
    "class Base_3(Base_2):\n",
    "    def method3(self):\n",
    "        print(\"present Base-3\")\n",
    "        \n",
    "obj=Base_3()\n",
    "obj.method1()\n",
    "obj.method2()\n",
    "obj.method3()"
   ]
  },
  {
   "cell_type": "code",
   "execution_count": 45,
   "id": "b262760d-02e0-4273-86c5-3c911f78fce8",
   "metadata": {},
   "outputs": [
    {
     "data": {
      "text/plain": [
       "3500"
      ]
     },
     "execution_count": 45,
     "metadata": {},
     "output_type": "execute_result"
    }
   ],
   "source": [
    "\"\"\"Q4. What are getter and setter in python? Create a class and create a getter and a setter method in this\n",
    "        class.\"\"\"\n",
    "\n",
    "# Getter: A method that allows you to access an attribute in a given class.\n",
    "# Setter: A method that allows you to set or mutate the value of an attribute in a class.\n",
    "\n",
    "class PWSkills:\n",
    "    def __init__(self,course_name,course_price):\n",
    "        self.course_name=course_name\n",
    "        self.__course_price=course_price\n",
    "    @property\n",
    "    def cource_price_access(self):\n",
    "        return self.__course_price\n",
    "    @cource_price_access.setter\n",
    "    def course_price_set(self,price):\n",
    "        if price <= 3500:\n",
    "            pass\n",
    "        else:\n",
    "            self.__course_price=price\n",
    "            \n",
    "pwians=PWSkills(\"Data Scientist\",3500)\n",
    "pwians._PWSkills__course_price"
   ]
  },
  {
   "cell_type": "code",
   "execution_count": 48,
   "id": "3fac2447-a943-4086-9693-de81987ac41d",
   "metadata": {},
   "outputs": [],
   "source": [
    "pwians.course_price_set=4500"
   ]
  },
  {
   "cell_type": "code",
   "execution_count": 49,
   "id": "eb4d3965-6b93-4033-aa7a-c95cf2d3ec8c",
   "metadata": {},
   "outputs": [
    {
     "data": {
      "text/plain": [
       "4500"
      ]
     },
     "execution_count": 49,
     "metadata": {},
     "output_type": "execute_result"
    }
   ],
   "source": [
    "pwians.cource_price_access"
   ]
  },
  {
   "cell_type": "code",
   "execution_count": 54,
   "id": "55389b13-b1fc-436f-8a39-6fb24f928f7d",
   "metadata": {},
   "outputs": [
    {
     "name": "stdout",
     "output_type": "stream",
     "text": [
      "child class - Lion\n",
      "parent class - Lion\n"
     ]
    }
   ],
   "source": [
    "\"\"\"Q5.What is method overriding in python? Write a python code to demonstrate method overriding.\"\"\"\n",
    "\n",
    "# when you have two methods with the same name that each perform different tasks.\n",
    "# In method overriding, the child class can change its functions that are defined by its ancestral classes.\n",
    "\n",
    "class Animal:\n",
    "    def lion(self):\n",
    "        print(\"parent class - Lion\")\n",
    "\n",
    "class Wild_animal(Animal):\n",
    "    def lion(self):\n",
    "        print(\"child class - Lion\")\n",
    "        \n",
    "r=Wild_animal()\n",
    "r.lion()\n",
    "\n",
    "r=Animal()\n",
    "r.lion()\n",
    "\n",
    "# lion is overriding."
   ]
  },
  {
   "cell_type": "code",
   "execution_count": null,
   "id": "a5349452-0370-4a9a-a3a6-33cc7366995d",
   "metadata": {},
   "outputs": [],
   "source": []
  }
 ],
 "metadata": {
  "kernelspec": {
   "display_name": "Python 3 (ipykernel)",
   "language": "python",
   "name": "python3"
  },
  "language_info": {
   "codemirror_mode": {
    "name": "ipython",
    "version": 3
   },
   "file_extension": ".py",
   "mimetype": "text/x-python",
   "name": "python",
   "nbconvert_exporter": "python",
   "pygments_lexer": "ipython3",
   "version": "3.10.8"
  }
 },
 "nbformat": 4,
 "nbformat_minor": 5
}
