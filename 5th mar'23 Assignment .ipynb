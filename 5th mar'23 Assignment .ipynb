{
 "cells": [
  {
   "cell_type": "code",
   "execution_count": 1,
   "id": "342e2c92-e47f-462e-a254-18acae626999",
   "metadata": {},
   "outputs": [
    {
     "data": {
      "text/plain": [
       "\"***************************** 5th mar'23 Assignment *****************************\""
      ]
     },
     "execution_count": 1,
     "metadata": {},
     "output_type": "execute_result"
    }
   ],
   "source": [
    "\"\"\"***************************** 5th mar'23 Assignment *****************************\"\"\""
   ]
  },
  {
   "cell_type": "code",
   "execution_count": 3,
   "id": "ad6d9f1a-2b06-41c2-bf17-b274b60476e6",
   "metadata": {},
   "outputs": [
    {
     "data": {
      "text/plain": [
       "'https://colab.research.google.com/drive/1Q-sw0X7ZXnwDY5rRw7uawT0068-qpQc0?usp=sharing'"
      ]
     },
     "execution_count": 3,
     "metadata": {},
     "output_type": "execute_result"
    }
   ],
   "source": [
    "#IMPORTANT NOTE :\n",
    "    \n",
    "#if you see the Answer 'google colab' go through this link:\n",
    "\n",
    "#--->\n",
    "\"\"\"https://colab.research.google.com/drive/1Q-sw0X7ZXnwDY5rRw7uawT0068-qpQc0?usp=sharing\"\"\""
   ]
  },
  {
   "cell_type": "code",
   "execution_count": null,
   "id": "821ab106-4288-464d-b56c-4349672d5dfd",
   "metadata": {},
   "outputs": [],
   "source": [
    "\"\"\"Q1. How can you create a Bokeh plot using Python code?\"\"\"\n",
    "\n",
    "!pip install bokeh\n",
    "import bokeh.io\n",
    "import bokeh.plotting\n",
    "bokeh.io.output_notebook()\n",
    "\n",
    "\n",
    "from bokeh.plotting import figure ,output_file , show\n",
    "from bokeh.sampledata.iris import flowers\n",
    "\n",
    "output_file('test.html')\n",
    "\n",
    "p = figure(title = 'test flower')\n",
    "p.xaxis.axis_label = 'petal_length'\n",
    "p.yaxis.axis_label = 'petal_width'\n",
    "p.circle(flowers['petal_length'] , flowers['petal_width'])\n",
    "show(p)"
   ]
  },
  {
   "cell_type": "code",
   "execution_count": null,
   "id": "f9ae0da7-54de-4da5-87aa-994d20abb09c",
   "metadata": {},
   "outputs": [],
   "source": [
    "\"\"\"Q2. What are glyphs in Bokeh, and how can you add them to a Bokeh plot? Explain with an example.\"\"\"\n",
    "\n",
    "Ans.\n",
    "    In Bokeh, glyphs are visual shapes or markers that represent data points on a plot.They are used to visualize the data\n",
    "    in a meaningful way. Bokeh provides a variety of glyphs, including circles, squares, lines, bars, patches, and more.\n",
    "    \n",
    "    To add glyphs to a Bokeh plot, you need to use the appropriate glyph function provided by Bokeh and \n",
    "    specify the data and visual properties of the glyphs.\n",
    "\n",
    "    \n",
    "    \n",
    "    \n",
    "from bokeh.plotting import figure, show\n",
    "\n",
    "x = [10, 12, 32, 34, 45]\n",
    "y = [26, 17, 23, 42, 53]\n",
    "p = figure(title='Scatter Plot', x_axis_label='X', y_axis_label='Y')\n",
    "p.circle(x, y, size=10, color='black', alpha=0.9)\n",
    "p.square(x, y, size=15, color='yellow', alpha=0.4)\n",
    "show(p)    "
   ]
  },
  {
   "cell_type": "code",
   "execution_count": null,
   "id": "e0d3795f-c632-4094-b5ea-e01979754573",
   "metadata": {},
   "outputs": [],
   "source": [
    "\"\"\"Q3. How can you customize the appearance of a Bokeh plot, including the axes, title, and legend?\"\"\"\n",
    "\n",
    "from bokeh.plotting import figure ,output_file , show\n",
    "from bokeh.sampledata.iris import flowers\n",
    "output_file('test.html')\n",
    "\n",
    "p = figure(title = 'test flower')\n",
    "p.xaxis.axis_label = 'sepal_length'\n",
    "p.yaxis.axis_label = 'sepal_width'\n",
    "p.scatter(flowers['sepal_length'] , flowers['sepal_width'],fill_color = 'green',legend_label='Highest sepal width & length',size=5.8)\n",
    "show(p)"
   ]
  },
  {
   "cell_type": "code",
   "execution_count": null,
   "id": "b975829e-ab7a-4865-b45b-5ad22cbebe0d",
   "metadata": {},
   "outputs": [],
   "source": [
    "\"\"\"Q4. What is a Bokeh server, and how can you use it to create interactive plots that can be updated in\n",
    "        real time?\"\"\"\n",
    "\n",
    "Ans.\n",
    "    A Bokeh server is a Python server application that allows you to create interactive plots and applications with Bokeh.\n",
    "    It enables you to build web-based interactive visualizations and dashboards that can be updated and respond to user input in real-time.\n",
    "    \n",
    "    "
   ]
  },
  {
   "cell_type": "code",
   "execution_count": null,
   "id": "7952ab59-42d5-431e-a6c8-f3f42725c288",
   "metadata": {},
   "outputs": [],
   "source": [
    "from bokeh.plotting import curdoc, figure\n",
    "from bokeh.models import ColumnDataSource\n",
    "from bokeh.layouts import row\n",
    "from bokeh.io import push_notebook, show, output_notebook\n",
    "import numpy as np\n",
    "import time\n",
    "\n",
    "# Function to update the plot\n",
    "def update_plot():\n",
    "    new_data = {'x': np.random.random(100), 'y': np.random.random(100)}\n",
    "    source.data = new_data\n",
    "\n",
    "# Create a figure and data source\n",
    "p = figure()\n",
    "source = ColumnDataSource(data={'x': [1,2,3,4,5,6,7], 'y': [12,9,8,7,2,3,4]})\n",
    "\n",
    "# Add glyphs\n",
    "p.circle('x', 'y', source=source)\n",
    "\n",
    "# Add the figure to the document\n",
    "curdoc().add_root(row(p))\n",
    "\n",
    "# Schedule the plot update\n",
    "curdoc().add_periodic_callback(update_plot, 1000)\n",
    "\n",
    "# Run the Bokeh server\n",
    "output_notebook()\n",
    "show(p, notebook_handle=True)\n"
   ]
  },
  {
   "cell_type": "code",
   "execution_count": null,
   "id": "908f7166-9655-48d5-93a8-612ca036904f",
   "metadata": {},
   "outputs": [],
   "source": [
    "--> Create a function to update the plot: Define a function that updates the plot based on new data or user input. \n",
    "    This function will be called whenever there is a change that requires updating the plot.\n",
    "\n",
    "--> Create a figure and data source: Initialize a figure and create a ColumnDataSource to hold the data for your plot.\n",
    "\n",
    "-->Add glyphs and other interactive elements: Add glyphs, annotations, widgets, or other interactive elements to the figure.\n",
    "\n",
    "-->Add interactions and callbacks: Define interactions and callbacks that trigger the update function when there\n",
    "    is user input or changes to the data.\n",
    "\n",
    "-->Run the Bokeh server: Use the curdoc object to define the layout and add the figure and other elements to it.\n",
    "    Then, use the show or push_notebook function to display the plot."
   ]
  },
  {
   "cell_type": "code",
   "execution_count": null,
   "id": "bd61bcdf-538b-4afc-98d8-6e6778375c4d",
   "metadata": {},
   "outputs": [],
   "source": [
    "\"\"\"Q5. How can you embed a Bokeh plot into a web page or dashboard using Flask or Django?\"\"\"\n",
    "\n",
    "Ans.\n",
    "    \n",
    "!pip install flask\n",
    "!pip install bokeh\n",
    "\n",
    "from bokeh.plotting import figure\n",
    "from bokeh.embed import components\n",
    "import numpy as np\n",
    "\n",
    "x = np.random.random(100)\n",
    "y = np.random.random(100)\n",
    "\n",
    "p = figure(title='Bokeh Scatter Plot', x_axis_label='X', y_axis_label='Y')\n",
    "p.circle(x, y, size=10, color='blue', alpha=0.5)"
   ]
  },
  {
   "cell_type": "code",
   "execution_count": null,
   "id": "7cd64fcf-1dbb-4521-9293-2749485642fe",
   "metadata": {},
   "outputs": [],
   "source": [
    "Use Flask or Django to create a web application: Depending on whether you're using Flask or Django, you'll \n",
    "need to create a web application. Here's an example for each framework:\n",
    "\n",
    "from flask import Flask, render_template\n",
    "app = Flask(__name__)\n",
    "\n",
    "@app.route('/')\n",
    "def index():\n",
    "    script, div = components(p)\n",
    "    return render_template('index.html', script=script, div=div)\n",
    "\n",
    "if __name__ == '__main__':\n",
    "    app.run()\n"
   ]
  }
 ],
 "metadata": {
  "kernelspec": {
   "display_name": "Python 3 (ipykernel)",
   "language": "python",
   "name": "python3"
  },
  "language_info": {
   "codemirror_mode": {
    "name": "ipython",
    "version": 3
   },
   "file_extension": ".py",
   "mimetype": "text/x-python",
   "name": "python",
   "nbconvert_exporter": "python",
   "pygments_lexer": "ipython3",
   "version": "3.10.8"
  }
 },
 "nbformat": 4,
 "nbformat_minor": 5
}
