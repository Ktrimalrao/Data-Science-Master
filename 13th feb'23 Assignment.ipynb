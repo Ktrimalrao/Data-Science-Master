{
 "cells": [
  {
   "cell_type": "code",
   "execution_count": 1,
   "id": "eae6273d-5988-41f5-957d-064977abe90e",
   "metadata": {},
   "outputs": [
    {
     "data": {
      "text/plain": [
       "\"***************************** 13th feb'23 Assignment *****************************\""
      ]
     },
     "execution_count": 1,
     "metadata": {},
     "output_type": "execute_result"
    }
   ],
   "source": [
    "\"\"\"***************************** 13th feb'23 Assignment *****************************\"\"\""
   ]
  },
  {
   "cell_type": "code",
   "execution_count": null,
   "id": "0ac1ef94-2b0b-418b-8c70-310ac7ca067d",
   "metadata": {},
   "outputs": [],
   "source": [
    "\"\"\"Q1. Explain why we have to use the Exception class while creating a Custom Exception.\n",
    "        Note: Here Exception class refers to the base class for all the exceptions.\"\"\"\n",
    "\n",
    "Ans.\n",
    "    In Python, we have the ability to create our own exception classes. \n",
    "    The construction of custom exception classes can enrich our class design. \n",
    "    A custom error class could logs errors, inspect an object.\n",
    "    we can define custom exceptions by creating a new class that is derived from the built-in Exception class."
   ]
  },
  {
   "cell_type": "code",
   "execution_count": 32,
   "id": "d7bb5013-be3b-4e8b-a9b3-06e4e04c7c51",
   "metadata": {},
   "outputs": [
    {
     "name": "stdin",
     "output_type": "stream",
     "text": [
      "Enetr a number : 123\n"
     ]
    },
    {
     "name": "stdout",
     "output_type": "stream",
     "text": [
      "This is positive number\n"
     ]
    }
   ],
   "source": [
    "\"\"\"Q2. Write a python program to print Python Exception Hierarchy.\"\"\"\n",
    "\n",
    "class validmsg(Exception):\n",
    "    def __init__(self,msg):\n",
    "        self.msg=msg\n",
    "\n",
    "def validnum(num):\n",
    "    if num<0:\n",
    "        raise validmsg(\"This is negative number\")\n",
    "    elif num>=0:\n",
    "        raise validmsg(\"This is positive number\")\n",
    "    else:\n",
    "        print(\"Enter valid Number..!\")\n",
    "\n",
    "class positive(validmsg):\n",
    "    \"\"\n",
    "\n",
    "class Negative(validmsg):\n",
    "    \"\"\n",
    "try:\n",
    "    num=int(input(\"Enetr a number :\"))\n",
    "    validnum(num)\n",
    "except validmsg as e:\n",
    "    print(e)"
   ]
  },
  {
   "cell_type": "code",
   "execution_count": null,
   "id": "cc3c27a1-853a-4e9a-9cb8-6da322954e73",
   "metadata": {},
   "outputs": [],
   "source": [
    "\"\"\"Q3. What errors are defined in the ArithmeticError class? Explain any two with an example.\"\"\"\n",
    "\n",
    "Ans.\n",
    "    i.  Zerodivision Error and \n",
    "    ii. Floating point error"
   ]
  },
  {
   "cell_type": "code",
   "execution_count": 7,
   "id": "cb71e810-bb21-40f9-96eb-2381214897b8",
   "metadata": {},
   "outputs": [
    {
     "name": "stdout",
     "output_type": "stream",
     "text": [
      "division by zero\n"
     ]
    }
   ],
   "source": [
    "try:\n",
    "    123/0\n",
    "except ZeroDivisionError as e:\n",
    "    print(e)"
   ]
  },
  {
   "cell_type": "code",
   "execution_count": 13,
   "id": "fd004122-0f1f-450d-925f-1e0aad30f351",
   "metadata": {},
   "outputs": [
    {
     "name": "stdout",
     "output_type": "stream",
     "text": [
      "This is floating point --> 12.98\n"
     ]
    }
   ],
   "source": [
    "try:\n",
    "    a=12.98\n",
    "    print(\"This is floating point -->\",a)\n",
    "except FloatingPointError as e:\n",
    "    print(e)"
   ]
  },
  {
   "cell_type": "code",
   "execution_count": null,
   "id": "a6e076ac-6b49-4dae-9c4d-7cde87e2fe62",
   "metadata": {},
   "outputs": [],
   "source": [
    "\"\"\"Q4. Why LookupError class is used? Explain with an example KeyError and IndexError.\"\"\"\n",
    "\n",
    "Ans.\n",
    "    The LookupError exception in Python forms the base class for all exceptions that are raised\n",
    "    when an index or a key is not found for a sequence or dictionary respectively."
   ]
  },
  {
   "cell_type": "code",
   "execution_count": 16,
   "id": "565b4b30-594a-4ab1-99bd-08cf20bd46a3",
   "metadata": {},
   "outputs": [
    {
     "name": "stdout",
     "output_type": "stream",
     "text": [
      "Index Error:\n",
      "list index out of range\n"
     ]
    }
   ],
   "source": [
    "print(\"Index Error:\")\n",
    "try:\n",
    "    lst=[1,2,3,4]\n",
    "    print(lst[10])\n",
    "except IndexError as e:\n",
    "    print(e)"
   ]
  },
  {
   "cell_type": "code",
   "execution_count": 22,
   "id": "6b1542f7-6bed-458d-aa37-f4ff76d47373",
   "metadata": {},
   "outputs": [
    {
     "name": "stdout",
     "output_type": "stream",
     "text": [
      "Key Error:\n",
      "'Roll'\n"
     ]
    }
   ],
   "source": [
    "print(\"Key Error:\")\n",
    "try:\n",
    "    d={\"name\":\"Trimal\",1:[2,4,5]}\n",
    "    print(d['Roll'])\n",
    "except KeyError as e:\n",
    "    print(e)"
   ]
  },
  {
   "cell_type": "code",
   "execution_count": null,
   "id": "7eaa32f6-57d5-4ca3-b4ec-5d2c8f6262b4",
   "metadata": {},
   "outputs": [],
   "source": [
    "\"\"\"Q5. Explain ImportError. What is ModuleNotFoundError?\"\"\"\n",
    "\n",
    "Ans.\n",
    "    In Python, ImportError occurs when the Python program tries to import module which does not exist in the private table.\n",
    "    This exception can be avoided using exception handling using try and except blocks. \n",
    "    We also saw examples of how the ImportError occurs and how it is handled."
   ]
  },
  {
   "cell_type": "code",
   "execution_count": 24,
   "id": "4ce48ec7-76b1-4d93-877d-b664e3ed785e",
   "metadata": {},
   "outputs": [
    {
     "name": "stdout",
     "output_type": "stream",
     "text": [
      "No module named 'King'\n"
     ]
    }
   ],
   "source": [
    "try:\n",
    "    import King\n",
    "except ImportError as e:\n",
    "    print(e)"
   ]
  },
  {
   "cell_type": "code",
   "execution_count": 26,
   "id": "7136a25a-82ee-4b3b-99ba-15df92b49183",
   "metadata": {},
   "outputs": [
    {
     "name": "stdout",
     "output_type": "stream",
     "text": [
      "file is not found --> [Errno 2] No such file or directory: 'test33238.txt'\n"
     ]
    }
   ],
   "source": [
    "\"\"\"Q6. List down some best practices for exception handling in python.\"\"\"\n",
    "\n",
    "try:\n",
    "    f=open(\"test33238.txt\",'r')\n",
    "except Exception as e:\n",
    "    print(\"file is not found -->\",e)"
   ]
  },
  {
   "cell_type": "code",
   "execution_count": 27,
   "id": "ac582e5b-7a02-450f-b30e-dbe53ed62dcf",
   "metadata": {},
   "outputs": [
    {
     "name": "stdout",
     "output_type": "stream",
     "text": [
      "'str' object has no attribute 'test'\n"
     ]
    }
   ],
   "source": [
    "try:\n",
    "    \"TRiaml\".test()\n",
    "except AttributeError as e:\n",
    "    print(e)"
   ]
  },
  {
   "cell_type": "code",
   "execution_count": 28,
   "id": "b4d171a3-b0ee-43a8-a338-7d9f19c5ff14",
   "metadata": {},
   "outputs": [
    {
     "name": "stdout",
     "output_type": "stream",
     "text": [
      "We acn't divisible by zero--> division by zero\n"
     ]
    }
   ],
   "source": [
    "try:\n",
    "    10/0\n",
    "except ZeroDivisionError as e:\n",
    "    print(\"We acn't divisible by zero-->\",e)"
   ]
  },
  {
   "cell_type": "code",
   "execution_count": 29,
   "id": "0d88f5a2-8e7d-485d-8df1-a4de04c893f1",
   "metadata": {},
   "outputs": [
    {
     "name": "stdout",
     "output_type": "stream",
     "text": [
      "list index out of range\n"
     ]
    }
   ],
   "source": [
    "try:\n",
    "    l=[2,3,5,7]\n",
    "    print(l[7])\n",
    "except IndexError as e:\n",
    "    print(e)"
   ]
  },
  {
   "cell_type": "code",
   "execution_count": null,
   "id": "902a4bc6-f571-4eca-8a7a-361766840ae9",
   "metadata": {},
   "outputs": [],
   "source": []
  }
 ],
 "metadata": {
  "kernelspec": {
   "display_name": "Python 3 (ipykernel)",
   "language": "python",
   "name": "python3"
  },
  "language_info": {
   "codemirror_mode": {
    "name": "ipython",
    "version": 3
   },
   "file_extension": ".py",
   "mimetype": "text/x-python",
   "name": "python",
   "nbconvert_exporter": "python",
   "pygments_lexer": "ipython3",
   "version": "3.10.8"
  }
 },
 "nbformat": 4,
 "nbformat_minor": 5
}
