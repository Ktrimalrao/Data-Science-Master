{
 "cells": [
  {
   "cell_type": "code",
   "execution_count": 1,
   "id": "e3606a5b-d82f-4eaa-b0f3-f19962469371",
   "metadata": {},
   "outputs": [
    {
     "data": {
      "text/plain": [
       "\"***************************** 26th feb'23 Assignment *****************************\""
      ]
     },
     "execution_count": 1,
     "metadata": {},
     "output_type": "execute_result"
    }
   ],
   "source": [
    "\"\"\"***************************** 26th feb'23 Assignment *****************************\"\"\""
   ]
  },
  {
   "cell_type": "code",
   "execution_count": 3,
   "id": "660353ee-ad2f-492d-8966-26a97db51b10",
   "metadata": {},
   "outputs": [
    {
     "data": {
      "text/plain": [
       "array(['1', '2', '3', '4', '5'], dtype='<U1')"
      ]
     },
     "execution_count": 3,
     "metadata": {},
     "output_type": "execute_result"
    }
   ],
   "source": [
    "import numpy as np\n",
    "list_ = [ '1','2','3','4','5' ]\n",
    "array_list = np.array(object = list_)\n",
    "array_list"
   ]
  },
  {
   "cell_type": "code",
   "execution_count": 8,
   "id": "7950592b-941f-4eac-977a-afcd336a5f3b",
   "metadata": {},
   "outputs": [
    {
     "name": "stdout",
     "output_type": "stream",
     "text": [
      "<class 'list'>\n"
     ]
    }
   ],
   "source": [
    "\"\"\"Q1. Is there any difference in the data type of variables list_ and array_list? If there is then write a code\n",
    "        to print the data types of both the variables.\"\"\"\n",
    "\n",
    "print(type(list_))"
   ]
  },
  {
   "cell_type": "code",
   "execution_count": 9,
   "id": "0ca0b8f7-ba87-4f33-9c8f-574691eaf9cb",
   "metadata": {},
   "outputs": [
    {
     "name": "stdout",
     "output_type": "stream",
     "text": [
      "<class 'numpy.ndarray'>\n"
     ]
    }
   ],
   "source": [
    "print(type(array_list))"
   ]
  },
  {
   "cell_type": "code",
   "execution_count": null,
   "id": "e4e5958a-c937-4ac7-9388-b6d81ad9e85c",
   "metadata": {},
   "outputs": [],
   "source": [
    "The list_ variable is a Python list of strings, whereas array_list is a NumPy array of strings. \n",
    "Although they both contain the same string values, they have different data types because they are different types of objects."
   ]
  },
  {
   "cell_type": "code",
   "execution_count": 10,
   "id": "3d4c33ec-e5ec-4e22-beb6-5ff4941b7d2c",
   "metadata": {},
   "outputs": [
    {
     "name": "stdout",
     "output_type": "stream",
     "text": [
      "Value is '1' ---> Dtatype is <class 'str'>\n",
      "Value is '2' ---> Dtatype is <class 'str'>\n",
      "Value is '3' ---> Dtatype is <class 'str'>\n",
      "Value is '4' ---> Dtatype is <class 'str'>\n",
      "Value is '5' ---> Dtatype is <class 'str'>\n"
     ]
    }
   ],
   "source": [
    "\"\"\"Q2. Write a code to print the data type of each and every element of both the variables list_ and\n",
    "        arra_list.\"\"\"\n",
    "\n",
    "for i in list_:\n",
    "    print(f\"Value is '{i}' ---> Dtatype is {type(i)}\")"
   ]
  },
  {
   "cell_type": "code",
   "execution_count": 11,
   "id": "493a5b81-7fb0-4dd9-b632-f6651689533a",
   "metadata": {},
   "outputs": [
    {
     "name": "stdout",
     "output_type": "stream",
     "text": [
      "Value is '1' ---> Dtatype is <class 'numpy.str_'>\n",
      "Value is '2' ---> Dtatype is <class 'numpy.str_'>\n",
      "Value is '3' ---> Dtatype is <class 'numpy.str_'>\n",
      "Value is '4' ---> Dtatype is <class 'numpy.str_'>\n",
      "Value is '5' ---> Dtatype is <class 'numpy.str_'>\n"
     ]
    }
   ],
   "source": [
    "for i in array_list:\n",
    "    print(f\"Value is '{i}' ---> Dtatype is {type(i)}\")"
   ]
  },
  {
   "cell_type": "code",
   "execution_count": 13,
   "id": "7a4f8ec1-755a-4928-a054-846e25e2cbca",
   "metadata": {},
   "outputs": [
    {
     "name": "stdout",
     "output_type": "stream",
     "text": [
      "Value is '1' ---> Datatype is <class 'str'>\n",
      "Value is '2' ---> Datatype is <class 'str'>\n",
      "Value is '3' ---> Datatype is <class 'str'>\n",
      "Value is '4' ---> Datatype is <class 'str'>\n",
      "Value is '5' ---> Datatype is <class 'str'>\n"
     ]
    }
   ],
   "source": [
    "\"\"\"Q3. Considering the following changes in the variable, array_list:\n",
    "        array_list = np.array(object = list_, dtype = int)\n",
    "        Will there be any difference in the data type of the elements present in both the variables, list_ and\n",
    "        arra_list? If so then print the data types of each and every element present in both the variables, list_\n",
    "        and arra_list.\n",
    "        Consider the below code to answer further questions:\"\"\"\n",
    "\n",
    "\n",
    "import numpy as np\n",
    "num_list = [ [ 1 , 2 , 3 ] , [ 4 , 5 , 6 ] ]\n",
    "num_array = np.array(object = num_list)\n",
    "array_list = np.array(object = list_, dtype = int)\n",
    "for i in list_:\n",
    "    print(f\"Value is '{i}' ---> Datatype is {type(i)}\")"
   ]
  },
  {
   "cell_type": "code",
   "execution_count": 14,
   "id": "aed9f341-9478-43c5-800a-18629bb1c929",
   "metadata": {},
   "outputs": [
    {
     "name": "stdout",
     "output_type": "stream",
     "text": [
      "Value is '1' ---> Datatype is <class 'numpy.int64'>\n",
      "Value is '2' ---> Datatype is <class 'numpy.int64'>\n",
      "Value is '3' ---> Datatype is <class 'numpy.int64'>\n",
      "Value is '4' ---> Datatype is <class 'numpy.int64'>\n",
      "Value is '5' ---> Datatype is <class 'numpy.int64'>\n"
     ]
    }
   ],
   "source": [
    "for j in array_list:\n",
    "    print(f\"Value is '{j}' ---> Datatype is {type(j)}\")    "
   ]
  },
  {
   "cell_type": "code",
   "execution_count": 16,
   "id": "a1fd9a7b-6abf-401c-af05-21f0c84f3b7f",
   "metadata": {},
   "outputs": [
    {
     "data": {
      "text/plain": [
       "(2, 3)"
      ]
     },
     "execution_count": 16,
     "metadata": {},
     "output_type": "execute_result"
    }
   ],
   "source": [
    "\"\"\"Q4. Write a code to find the following characteristics of variable, num_array:\n",
    "        (i) shape\n",
    "        (ii) size\"\"\"\n",
    "\n",
    "num_list = [ [ 1 , 2 , 3 ] , [ 4 , 5 , 6 ] ]\n",
    "num_array = np.array(object = num_list)\n",
    "num_array.shape"
   ]
  },
  {
   "cell_type": "code",
   "execution_count": 17,
   "id": "5d8502a5-7799-4d58-b93a-dfb8b9918dcd",
   "metadata": {},
   "outputs": [
    {
     "data": {
      "text/plain": [
       "6"
      ]
     },
     "execution_count": 17,
     "metadata": {},
     "output_type": "execute_result"
    }
   ],
   "source": [
    "num_array.size"
   ]
  },
  {
   "cell_type": "code",
   "execution_count": 20,
   "id": "bb80f61a-5daf-4a45-afa5-7f4acf898eac",
   "metadata": {},
   "outputs": [
    {
     "data": {
      "text/plain": [
       "array([[0., 0., 0.],\n",
       "       [0., 0., 0.],\n",
       "       [0., 0., 0.]])"
      ]
     },
     "execution_count": 20,
     "metadata": {},
     "output_type": "execute_result"
    }
   ],
   "source": [
    "\"\"\"Q5. Write a code to create numpy array of 3*3 matrix containing zeros only, using a numpy array\n",
    "        creation function.\n",
    "        [Hint: The size of the array will be 9 and the shape will be (3,3).]\"\"\"\n",
    "\n",
    "\n",
    "zero_mat = np.zeros((3,3))\n",
    "zero_mat"
   ]
  },
  {
   "cell_type": "code",
   "execution_count": 22,
   "id": "55dc5d66-cc2d-4dd3-8683-dbba43f84d97",
   "metadata": {},
   "outputs": [
    {
     "data": {
      "text/plain": [
       "9"
      ]
     },
     "execution_count": 22,
     "metadata": {},
     "output_type": "execute_result"
    }
   ],
   "source": [
    "zero_mat.size"
   ]
  },
  {
   "cell_type": "code",
   "execution_count": 23,
   "id": "ce35b122-b1c1-4a2d-837f-98812ea1f22f",
   "metadata": {},
   "outputs": [
    {
     "data": {
      "text/plain": [
       "(3, 3)"
      ]
     },
     "execution_count": 23,
     "metadata": {},
     "output_type": "execute_result"
    }
   ],
   "source": [
    "zero_mat.shape"
   ]
  },
  {
   "cell_type": "code",
   "execution_count": 25,
   "id": "dfab34b7-a4e8-4021-b54f-bd12ba17c330",
   "metadata": {},
   "outputs": [
    {
     "data": {
      "text/plain": [
       "array([[1., 0., 0., 0., 0.],\n",
       "       [0., 1., 0., 0., 0.],\n",
       "       [0., 0., 1., 0., 0.],\n",
       "       [0., 0., 0., 1., 0.],\n",
       "       [0., 0., 0., 0., 1.]])"
      ]
     },
     "execution_count": 25,
     "metadata": {},
     "output_type": "execute_result"
    }
   ],
   "source": [
    "\"\"\"Q6. Create an identity matrix of shape (5,5) using numpy functions?\n",
    "    [Hint: An identity matrix is a matrix containing 1 diagonally and other elements will be 0.]\"\"\"\n",
    "\n",
    "identity_mat = np.eye(5,5)\n",
    "identity_mat"
   ]
  },
  {
   "cell_type": "code",
   "execution_count": null,
   "id": "68ce4868-5d4c-43e3-9efd-0d75b27099d8",
   "metadata": {},
   "outputs": [],
   "source": []
  }
 ],
 "metadata": {
  "kernelspec": {
   "display_name": "Python 3 (ipykernel)",
   "language": "python",
   "name": "python3"
  },
  "language_info": {
   "codemirror_mode": {
    "name": "ipython",
    "version": 3
   },
   "file_extension": ".py",
   "mimetype": "text/x-python",
   "name": "python",
   "nbconvert_exporter": "python",
   "pygments_lexer": "ipython3",
   "version": "3.10.8"
  }
 },
 "nbformat": 4,
 "nbformat_minor": 5
}
