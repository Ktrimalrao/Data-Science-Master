{
 "cells": [
  {
   "cell_type": "code",
   "execution_count": 27,
   "id": "0a8cf8c3-1079-4a01-b2f8-a054d2ee14a0",
   "metadata": {},
   "outputs": [
    {
     "data": {
      "text/plain": [
       "\"***************************** 10th feb'23 Assignment *****************************\""
      ]
     },
     "execution_count": 27,
     "metadata": {},
     "output_type": "execute_result"
    }
   ],
   "source": [
    "\"\"\"***************************** 10th feb'23 Assignment *****************************\"\"\""
   ]
  },
  {
   "cell_type": "code",
   "execution_count": null,
   "id": "304ef740-8e8c-4e3b-a4b9-389262b076e6",
   "metadata": {},
   "outputs": [],
   "source": [
    "\"\"\"Q1. Which function is used to open a file? What are the different modes of opening a file? Explain each mode\n",
    "        of file opening.\"\"\"\n",
    "\n",
    "# f = open(\"file_name\" , \"command function\")\n",
    "\n",
    "# There are 8 Different modes.\n",
    "# 1. 'r'- open for reading.\n",
    "# 2. 'w'- open for writting,trancating the file first.\n",
    "# 3. 'x'- Create a file open it for writting.\n",
    "# 4. 'a'- open it for writting ,appending to end the file exist.\n",
    "# 5. 'b'- Binary mode.\n",
    "# 6. 't'- text mode.\n",
    "# 7. '+'- open a dissk file for opdating.\n",
    "# 8. 'u'- universal new line mode.\n",
    "\n",
    "file_1=open(\"test_1.txt\",\"w\")\n",
    "file_1.write(\"This is my first assignment file\")\n",
    "file_1.close()\n",
    "\n",
    "file_2=open(\"test_2.txt\",\"r\")\n",
    "file_2.read()\n",
    "\n",
    "with open(\"test_3.txt\",\"wb\") as file_3:\n",
    "    file_3.write(b\"\\x01\\x02\\x03\\3456\")\n",
    "\n",
    "file_4=open(\"test_4.txt\", \"a\")\n",
    "file_4.write(\"I am using append mode file\")\n",
    "\n",
    "with open('file.txt', 'r+') as file_5:\n",
    "    file_5.write(\"new line \\n\")\n",
    "\n",
    "with open(\"Keys.txt\",\"rU\") as csvfile_6:\n",
    "    csvfile_6.read()\n"
   ]
  },
  {
   "cell_type": "code",
   "execution_count": null,
   "id": "4acb1dff-6253-48dc-b803-31e1fbf504b0",
   "metadata": {},
   "outputs": [],
   "source": [
    "\"\"\"Q2. Why close() function is used? Why is it important to close a file?\"\"\"\n",
    "\n",
    "# The close() method closes an open file.\n",
    "# You should always close your files, in some cases, due to buffering,-\n",
    "#   -changes made to a file may not show until you close the file.\n",
    "\n",
    "# Because - files are limited resources managed by the operating system, \n",
    "#           making sure files are closed after use will protect against hard-to-debug issues.\n",
    "#           like running out of file handles or experiencing corrupted data."
   ]
  },
  {
   "cell_type": "code",
   "execution_count": 59,
   "id": "40f73213-5c3d-4ad1-a4f1-c999456e87f9",
   "metadata": {},
   "outputs": [
    {
     "data": {
      "text/plain": [
       "'I want to become a Data Scientist'"
      ]
     },
     "execution_count": 59,
     "metadata": {},
     "output_type": "execute_result"
    }
   ],
   "source": [
    "\"\"\"Q3. Write a python program to create a text file. Write ‘I want to become a Data Scientist’ in that file. Then\n",
    "        close the file. Open this file and read the content of the file.\"\"\"\n",
    "\n",
    "import json\n",
    "data=open(\"text.txt\",\"w\")\n",
    "data.write(\"I want to become a Data Scientist\")\n",
    "data.close()\n",
    "\n",
    "file_1=open(\"text.txt\",\"r\")\n",
    "file_1.read()"
   ]
  },
  {
   "cell_type": "code",
   "execution_count": 60,
   "id": "707f78e5-8a4b-48f9-8d52-0d74e2e25a28",
   "metadata": {},
   "outputs": [
    {
     "data": {
      "text/plain": [
       "398"
      ]
     },
     "execution_count": 60,
     "metadata": {},
     "output_type": "execute_result"
    }
   ],
   "source": [
    "\"\"\"Q4. Explain the following with python code: read(), readline() and readlines().\"\"\"\n",
    "\n",
    "f=open(\"Text_1.txt\",'a')\n",
    "f.write(\"Data Science Masters course is highly curated and uniquely designed according to the latest industry standards. This program instills students the skills essential to knowledge discovery efforts to identify standard, novel, and truly differentiated solutions and decision-making, including skills in managing, querying, analyzing, visualizing, and extracting meaning from extremely large data sets.\")"
   ]
  },
  {
   "cell_type": "code",
   "execution_count": 61,
   "id": "b7686345-0467-4afc-a8cb-03b4ab51a825",
   "metadata": {},
   "outputs": [
    {
     "data": {
      "text/plain": [
       "'Hello WorldData Science Masters course is highly curated and uniquely designed according to the latest industry standards. This program instills students the skills essential to knowledge discovery efforts to identify standard, novel, and truly differentiated solutions and decision-making, including skills in managing, querying, analyzing, visualizing, and extracting meaning from extremely large data sets.Data Science Masters course is highly curated and uniquely designed according to the latest industry standards. This program instills students the skills essential to knowledge discovery efforts to identify standard, novel, and truly differentiated solutions and decision-making, including skills in managing, querying, analyzing, visualizing, and extracting meaning from extremely large data sets.'"
      ]
     },
     "execution_count": 61,
     "metadata": {},
     "output_type": "execute_result"
    }
   ],
   "source": [
    "f.close()\n",
    "f=open(\"Text_1.txt\",'r')\n",
    "f.read()"
   ]
  },
  {
   "cell_type": "code",
   "execution_count": 62,
   "id": "5756c3e2-ca7f-4749-98a7-deb87e8e8f33",
   "metadata": {},
   "outputs": [
    {
     "data": {
      "text/plain": [
       "''"
      ]
     },
     "execution_count": 62,
     "metadata": {},
     "output_type": "execute_result"
    }
   ],
   "source": [
    "f.readline()    # blank because - pointer in last position."
   ]
  },
  {
   "cell_type": "code",
   "execution_count": 63,
   "id": "46443300-e940-4516-9eb8-556dcdc562bb",
   "metadata": {},
   "outputs": [
    {
     "data": {
      "text/plain": [
       "6"
      ]
     },
     "execution_count": 63,
     "metadata": {},
     "output_type": "execute_result"
    }
   ],
   "source": [
    "f.seek(6)      # seek is point the given index no. "
   ]
  },
  {
   "cell_type": "code",
   "execution_count": 20,
   "id": "5bd681d7-9fd7-4683-ae8e-956af8f2b7a5",
   "metadata": {},
   "outputs": [
    {
     "data": {
      "text/plain": [
       "'WorldData Science Masters course is highly curated and uniquely designed according to the latest industry standards. This program instills students the skills essential to knowledge discovery efforts to identify standard, novel, and truly differentiated solutions and decision-making, including skills in managing, querying, analyzing, visualizing, and extracting meaning from extremely large data sets.'"
      ]
     },
     "execution_count": 20,
     "metadata": {},
     "output_type": "execute_result"
    }
   ],
   "source": [
    "f.read()   # start form 7 index. beacusse \"seek\" function used to pointer fix 6 position."
   ]
  },
  {
   "cell_type": "code",
   "execution_count": 3,
   "id": "f1b3a969-b4a9-4e36-9f70-5e82e0f4dd74",
   "metadata": {},
   "outputs": [
    {
     "name": "stdout",
     "output_type": "stream",
     "text": [
      "['Hello WorldData Science Masters course is highly curated and uniquely designed according to the latest industry standards. This program instills students the skills essential to knowledge discovery efforts to identify standard, novel, and truly differentiated solutions and decision-making, including skills in managing, querying, analyzing, visualizing, and extracting meaning from extremely large data sets.']\n"
     ]
    }
   ],
   "source": [
    "f = open(\"Text_1.txt\", \"r\")\n",
    "print(f.readlines())"
   ]
  },
  {
   "cell_type": "code",
   "execution_count": 40,
   "id": "262fa3a6-0fc7-47ec-b898-162eaa9c0243",
   "metadata": {},
   "outputs": [
    {
     "data": {
      "text/plain": [
       "30"
      ]
     },
     "execution_count": 40,
     "metadata": {},
     "output_type": "execute_result"
    }
   ],
   "source": [
    "\"\"\"Q5. Explain why with statement is used with open(). What is the advantage of using with statement and\n",
    "        open() together?\"\"\"\n",
    "\n",
    "# The with statement works with the open() function to open a file.\n",
    "# So, you can re-write the code we used in the open() function example like this.\n",
    "file_1=open(\"test.txt\",\"w\")\n",
    "file_1.write(\"This is my first file to write\")"
   ]
  },
  {
   "cell_type": "code",
   "execution_count": 38,
   "id": "e1524d56-810d-4654-a3ea-900385d4c165",
   "metadata": {},
   "outputs": [],
   "source": [
    "f.close()"
   ]
  },
  {
   "cell_type": "code",
   "execution_count": 39,
   "id": "0e817ff7-d8f4-4d5f-995f-1d4f331ec9a2",
   "metadata": {},
   "outputs": [
    {
     "name": "stdout",
     "output_type": "stream",
     "text": [
      "This is my first file to write\n"
     ]
    }
   ],
   "source": [
    "with open (\"test.txt\",'r') as f:\n",
    "    print(f.read())"
   ]
  },
  {
   "cell_type": "code",
   "execution_count": 64,
   "id": "c0d80037-98d8-464b-9efc-cf63d5b80e42",
   "metadata": {},
   "outputs": [],
   "source": [
    "# Advantages - the file will be closed as soon as you leave the block.\n",
    "# This is beneficial because closing a file is something that can easily -\n",
    "#   -be forgotten and ties up resources that you no longer need."
   ]
  },
  {
   "cell_type": "code",
   "execution_count": 55,
   "id": "13201c29-4c7e-4e13-bc09-9c63d88b8efa",
   "metadata": {},
   "outputs": [
    {
     "name": "stdout",
     "output_type": "stream",
     "text": [
      "Write() Function\n"
     ]
    },
    {
     "name": "stdin",
     "output_type": "stream",
     "text": [
      "Enter the name of Data Science student:  Trimal\n",
      "Enter the name of Data Science student:  Avinash\n",
      "Enter the name of Data Science student:  Sai ashish\n"
     ]
    },
    {
     "name": "stdout",
     "output_type": "stream",
     "text": [
      "Data is written into the file.\n"
     ]
    }
   ],
   "source": [
    "\"\"\"Q6. Explain the write() and writelines() functions. Give a suitable example.\"\"\"\n",
    "\n",
    "# The only difference between the write() and writelines() is that write() is used  to write a string\n",
    "# to an already opened file while writelines() method is used to write a list of strings in an opened file.\n",
    "\n",
    "\n",
    "print(\"Write() Function\")\n",
    "file = open(\"pwians.txt\", \"w\")\n",
    "for i in range(3):\n",
    "    name = input(\"Enter the name of Data Science student: \")\n",
    "    file.write(name)\n",
    "file.close()\n",
    "print(\"Data is written into the file.\")"
   ]
  },
  {
   "cell_type": "code",
   "execution_count": 53,
   "id": "f058a01d-9e31-4838-bdca-b827f70d9bad",
   "metadata": {},
   "outputs": [
    {
     "name": "stdout",
     "output_type": "stream",
     "text": [
      "Writelines() function\n"
     ]
    },
    {
     "name": "stdin",
     "output_type": "stream",
     "text": [
      "Enter the name of Data Science student:  TRIMAL\n",
      "Enter the name of Data Science student:  AVINASH\n",
      "Enter the name of Data Science student:  SAI ASHISH\n",
      "Enter the name of Data Science student:  HIRANMAHI\n",
      "Enter the name of Data Science student:  SUHANI\n"
     ]
    },
    {
     "name": "stdout",
     "output_type": "stream",
     "text": [
      "Data is written into the file.\n"
     ]
    }
   ],
   "source": [
    "print(\"Writelines() function\")\n",
    "file1 = open(\"PWians_1.txt\", \"w\")\n",
    "lst = []\n",
    "for i in range(5):\n",
    "\tname = input(\"Enter the name of Data Science student: \")\n",
    "\tlst.append(name + '\\n')\n",
    "file1.writelines(lst)\n",
    "file1.close()\n",
    "print(\"Data is written into the file.\")"
   ]
  },
  {
   "cell_type": "code",
   "execution_count": null,
   "id": "c4fce9ea-df93-4524-b55d-357c7695f85e",
   "metadata": {},
   "outputs": [],
   "source": []
  }
 ],
 "metadata": {
  "kernelspec": {
   "display_name": "Python 3 (ipykernel)",
   "language": "python",
   "name": "python3"
  },
  "language_info": {
   "codemirror_mode": {
    "name": "ipython",
    "version": 3
   },
   "file_extension": ".py",
   "mimetype": "text/x-python",
   "name": "python",
   "nbconvert_exporter": "python",
   "pygments_lexer": "ipython3",
   "version": "3.10.8"
  }
 },
 "nbformat": 4,
 "nbformat_minor": 5
}
