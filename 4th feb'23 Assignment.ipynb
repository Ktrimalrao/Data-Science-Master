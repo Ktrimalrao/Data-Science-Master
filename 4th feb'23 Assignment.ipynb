{
 "cells": [
  {
   "cell_type": "code",
   "execution_count": 3,
   "id": "e192e291-94f6-4dd7-8bdb-4c89d7a40338",
   "metadata": {},
   "outputs": [
    {
     "data": {
      "text/plain": [
       "\"***************************** 4th feb'23 Assignment *****************************\""
      ]
     },
     "execution_count": 3,
     "metadata": {},
     "output_type": "execute_result"
    }
   ],
   "source": [
    "\"\"\"***************************** 4th feb'23 Assignment *****************************\"\"\""
   ]
  },
  {
   "cell_type": "code",
   "execution_count": 4,
   "id": "45baa84a-1f0c-4530-9249-a28b667efbd9",
   "metadata": {},
   "outputs": [
    {
     "name": "stdout",
     "output_type": "stream",
     "text": [
      "[('a', 100), ('b', 200), ('c', 300), ('z', 500)]\n"
     ]
    }
   ],
   "source": [
    "\"\"\"Q1. Create a python program to sort the given list of tuples based on integer value using a\n",
    "        lambda function.\"\"\"\n",
    "\n",
    "\n",
    "lst=[('a', 100), ('b',200), ('c',300), ('z',500)]\n",
    "sorted_lst = sorted(lst, key=lambda x: x[1],reverse = False)\n",
    "print(sorted_lst)"
   ]
  },
  {
   "cell_type": "code",
   "execution_count": 5,
   "id": "d97a5aa9-6757-47ee-afd4-b67d457430ea",
   "metadata": {},
   "outputs": [
    {
     "data": {
      "text/plain": [
       "[1, 4, 9, 16, 25, 36, 49, 64, 81, 100]"
      ]
     },
     "execution_count": 5,
     "metadata": {},
     "output_type": "execute_result"
    }
   ],
   "source": [
    "\"\"\"Q2. Write a Python Program to find the squares of all the numbers in the given list of integers using\n",
    "        lambda and map functions.\n",
    "        Given String: [1, 2, 3, 4, 5, 6, 7, 8, 9, 10] \"\"\"\n",
    "\n",
    "lst=[1, 2, 3, 4, 5, 6, 7, 8, 9, 10]\n",
    "list(map(lambda x:x**2,lst))"
   ]
  },
  {
   "cell_type": "code",
   "execution_count": 1,
   "id": "33528ffa-460d-4d24-bf0c-a52a34dc5db8",
   "metadata": {},
   "outputs": [
    {
     "name": "stdout",
     "output_type": "stream",
     "text": [
      "('1', '2', '3', '4', '5', '6', '7', '8', '9', '10')\n"
     ]
    }
   ],
   "source": [
    "\"\"\"Q3. Write a python program to convert the given list of integers into a tuple of strings. Use map and\n",
    "        lambda functions\n",
    "        Given String: [1, 2, 3, 4, 5, 6, 7, 8, 9, 10]\n",
    "        Expected output: ('1', '2', '3', '4', '5', '6', '7', '8', '9', '10')\"\"\"\n",
    "\n",
    "Num_lst=[1,2,3,4,5,6,7,8,9,10]\n",
    "str_lst=tuple(map(str,Num_lst))\n",
    "print(str_lst)"
   ]
  },
  {
   "cell_type": "code",
   "execution_count": 6,
   "id": "735e372e-7e03-414f-9c2d-789b6e87e711",
   "metadata": {},
   "outputs": [
    {
     "data": {
      "text/plain": [
       "15511210043330985984000000"
      ]
     },
     "execution_count": 6,
     "metadata": {},
     "output_type": "execute_result"
    }
   ],
   "source": [
    "\"\"\"Q4. Write a python program using reduce function to compute the product of a list containing numbers\n",
    "        from 1 to 25.\"\"\"\n",
    "\n",
    "from functools import reduce\n",
    "\n",
    "reduce(lambda x,y : x*y ,range(1,26))"
   ]
  },
  {
   "cell_type": "code",
   "execution_count": 7,
   "id": "ff46806f-18d6-4789-aada-f1f06b81a89c",
   "metadata": {},
   "outputs": [
    {
     "data": {
      "text/plain": [
       "[6, 60, 90, 120]"
      ]
     },
     "execution_count": 7,
     "metadata": {},
     "output_type": "execute_result"
    }
   ],
   "source": [
    "\"\"\"Q5. Write a python program to filter the numbers in a given list that are divisible by 2 and 3 using the\n",
    "        filter function.\n",
    "        [2, 3, 6, 9, 27, 60, 90, 120, 55, 46]\"\"\"\n",
    "\n",
    "lst_1=[2, 3, 6, 9, 27, 60, 90, 120, 55, 46]\n",
    "list(filter(lambda x:x%2==0 and x%3==0,lst_1))"
   ]
  },
  {
   "cell_type": "code",
   "execution_count": null,
   "id": "c71b3716-cbe5-4d83-a15c-307f29aa06fe",
   "metadata": {},
   "outputs": [],
   "source": []
  }
 ],
 "metadata": {
  "kernelspec": {
   "display_name": "Python 3 (ipykernel)",
   "language": "python",
   "name": "python3"
  },
  "language_info": {
   "codemirror_mode": {
    "name": "ipython",
    "version": 3
   },
   "file_extension": ".py",
   "mimetype": "text/x-python",
   "name": "python",
   "nbconvert_exporter": "python",
   "pygments_lexer": "ipython3",
   "version": "3.10.8"
  }
 },
 "nbformat": 4,
 "nbformat_minor": 5
}
