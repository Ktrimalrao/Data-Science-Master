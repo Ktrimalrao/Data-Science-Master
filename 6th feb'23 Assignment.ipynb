{
 "cells": [
  {
   "cell_type": "code",
   "execution_count": 11,
   "id": "f5366daf-58d2-4520-ad4c-f1724f1eb41c",
   "metadata": {},
   "outputs": [
    {
     "data": {
      "text/plain": [
       "\"***************************** 6th feb'23 Assignment *****************************\""
      ]
     },
     "execution_count": 11,
     "metadata": {},
     "output_type": "execute_result"
    }
   ],
   "source": [
    "\"\"\"***************************** 6th feb'23 Assignment *****************************\"\"\""
   ]
  },
  {
   "cell_type": "code",
   "execution_count": 8,
   "id": "66951320-782c-4b4e-b3fa-28a417f0ab6f",
   "metadata": {},
   "outputs": [
    {
     "name": "stdout",
     "output_type": "stream",
     "text": [
      "689118639831180913138973540352000\n"
     ]
    }
   ],
   "source": [
    "\"\"\"\"Q1. Create a function which will take a list as an argument and return the product of all the numbers\n",
    "        after creating a flat list.\n",
    "        Use the below-given list as an argument for your function.\n",
    "        list1 = [1,2,3,4, [44,55,66, True], False, (34,56,78,89,34), {1,2,3,3,2,1}, {1:34, \"key2\": [55, 67, 78, 89], 4: (45,\n",
    "        22, 61, 34)}, [56, 'data science'], 'Machine Learning']\n",
    "        Note: you must extract numeric keys and values of the dictionary also.\"\"\"\n",
    "\n",
    "\n",
    "def filtering(lst):\n",
    "    flat_list=[]\n",
    "    for item in lst:\n",
    "        if isinstance(item,list):\n",
    "            flat_list.extend(filtering(item))\n",
    "        elif isinstance(item,tuple):\n",
    "            flat_list.extend(filtering(item))\n",
    "        elif isinstance(item,dict):\n",
    "            for key,value in item.items():\n",
    "                flat_list.extend(filtering([key]))\n",
    "                flat_list.extend(filtering([value]))\n",
    "        elif isinstance(item,(int,float)):\n",
    "            flat_list.append(item)\n",
    "    return flat_list\n",
    "\n",
    "list1 = [1,2,3,4, [44,55,66, True], False, (34,56,78,89,34), {1,2,3,3,2,1}, {1:34, \"key2\": [55, 67, 78, 89], 4: (45, 22, 61, 34)}, [56, 'data science'], 'Machine Learning']\n",
    "filter_list=filtering(list1)\n",
    "product=1\n",
    "for i in filter_list:\n",
    "    if str(i).isdigit():\n",
    "        product=product*i\n",
    "print(product)"
   ]
  },
  {
   "cell_type": "code",
   "execution_count": 10,
   "id": "f6a36810-cbd7-4b37-8ef9-13c80e959702",
   "metadata": {},
   "outputs": [
    {
     "name": "stdout",
     "output_type": "stream",
     "text": [
      "r$dzmg$gl$yvxlnv$z$wzgz$hxrvmgrhg\n"
     ]
    }
   ],
   "source": [
    "\"\"\"Q2. Write a python program for encrypting a message sent to you by your friend. The logic of encryption\n",
    "        should be such that, for a the output should be z. For b, the output should be y. For c, the output should\n",
    "        be x respectively. Also, the whitespace should be replaced with a dollar sign. Keep the punctuation\n",
    "        marks unchanged.\n",
    "        \n",
    "        Input Sentence: I want to become a Data Scientist.\n",
    "        \n",
    "        Encrypt the above input sentence using the program you just created.\n",
    "        Note: Convert the given input sentence into lowercase before encrypting. The final output should be\n",
    "        lowercase.\"\"\"\n",
    "\n",
    "string=(\"I want to become a Data Scientist\").lower()\n",
    "encrypting_str=\"\"\n",
    "for i in string:\n",
    "    if i==\" \":\n",
    "        encrypting_str=encrypting_str+\"$\"\n",
    "    elif i.isalpha():\n",
    "        encrypting_str=encrypting_str+ chr(219-ord(i))\n",
    "    else:\n",
    "        encrypting_str=encrypting_str+i\n",
    "print(encrypting_str)"
   ]
  },
  {
   "cell_type": "code",
   "execution_count": null,
   "id": "31569433-3122-4a88-9e81-ce07c06acdd7",
   "metadata": {},
   "outputs": [],
   "source": []
  }
 ],
 "metadata": {
  "kernelspec": {
   "display_name": "Python 3 (ipykernel)",
   "language": "python",
   "name": "python3"
  },
  "language_info": {
   "codemirror_mode": {
    "name": "ipython",
    "version": 3
   },
   "file_extension": ".py",
   "mimetype": "text/x-python",
   "name": "python",
   "nbconvert_exporter": "python",
   "pygments_lexer": "ipython3",
   "version": "3.10.8"
  }
 },
 "nbformat": 4,
 "nbformat_minor": 5
}
