{
 "cells": [
  {
   "cell_type": "code",
   "execution_count": 1,
   "id": "60b2aff2-35f7-4676-a6ee-e976b61b1a55",
   "metadata": {},
   "outputs": [
    {
     "data": {
      "text/plain": [
       "\"***************************** 14th mar'23 Assignment *****************************\""
      ]
     },
     "execution_count": 1,
     "metadata": {},
     "output_type": "execute_result"
    }
   ],
   "source": [
    "\"\"\"***************************** 14th mar'23 Assignment *****************************\"\"\""
   ]
  },
  {
   "cell_type": "markdown",
   "id": "84bec274-6b68-4e4e-a0a7-f0d6ac1eff36",
   "metadata": {},
   "source": [
    "Q1. Write a Python function that takes in two arrays of data and calculates the F-value for a variance \n",
    "ratio test. The function should return the F-value and the corresponding p-value for the test."
   ]
  },
  {
   "cell_type": "code",
   "execution_count": 5,
   "id": "94e7698f-0eed-46af-b699-7917866ad354",
   "metadata": {},
   "outputs": [
    {
     "name": "stdout",
     "output_type": "stream",
     "text": [
      "F-value: 1039.0\n",
      "p-value: 0.0\n"
     ]
    }
   ],
   "source": [
    "import numpy as np\n",
    "from scipy.stats import f\n",
    "\n",
    "array1 = [1, 2, 3, 4, 5]\n",
    "array2 = [1, 8, 27, 64, 125]\n",
    "\n",
    "def variance_ratio_test(array1, array2):\n",
    "    \"\"\"\n",
    "    Calculates the F-value and p-value for a variance ratio test given two arrays of data.\n",
    "    \"\"\"\n",
    "    # Calculates length of each array\n",
    "    n1 = len(array1)\n",
    "    n2 = len(array2)\n",
    "    \n",
    "    # Calculates Sample Variances , ddof=1\n",
    "    var1 = np.var(array1, ddof=1)\n",
    "    var2 = np.var(array2, ddof=1)\n",
    "    \n",
    "    # Calculates F values along with degrees of freedom    \n",
    "    if var1 >= var2:\n",
    "        f_statistic = var1/var2\n",
    "        dfn = n1-1\n",
    "        dfd = n2-1        \n",
    "    else:\n",
    "        f_statistic = var2/var1\n",
    "        dfn = n2-1\n",
    "        dfd = n1-1\n",
    "    \n",
    "    p_value = 1 - f.cdf(f_statistic, dfn, dfd)\n",
    "    \n",
    "    return f_statistic, p_value\n",
    "\n",
    "\n",
    "F, p_value = variance_ratio_test(array2, array1)\n",
    "\n",
    "print(\"F-value:\", round(F,4))\n",
    "print(\"p-value:\", round(p_value,4))"
   ]
  },
  {
   "cell_type": "markdown",
   "id": "cc1f59b0-1794-4c78-a952-0588a4d8f190",
   "metadata": {},
   "source": [
    "       "
   ]
  },
  {
   "cell_type": "markdown",
   "id": "2cdf045b-b3d6-4cc4-bbbc-a0d805382825",
   "metadata": {},
   "source": [
    "\n",
    "\n",
    "\n",
    "Q2. Given a significance level of 0.05 and the degrees of freedom for the numerator and denominator \n",
    "of an F-distribution, write a Python function that returns the critical F-value for a two-tailed test."
   ]
  },
  {
   "cell_type": "code",
   "execution_count": 7,
   "id": "e698ff26-ff0f-4f61-b12a-835b5749f089",
   "metadata": {},
   "outputs": [
    {
     "name": "stdout",
     "output_type": "stream",
     "text": [
      "Critical F-values are: 0.2925 and 2.7737\n"
     ]
    }
   ],
   "source": [
    "from scipy.stats import f\n",
    "alpha = 0.05\n",
    "dfn = 10\n",
    "dfd = 20\n",
    "\n",
    "def critical_f_value(alpha, dfn, dfd):\n",
    "    \"\"\"\n",
    "    Returns the critical F-value for a two-tailed test given a significance level (alpha)\n",
    "    \"\"\"\n",
    "    # Calculates critical values for two tailed F-test\n",
    "    F_crit1 = f.ppf(alpha/2, dfn, dfd)\n",
    "    F_crit2 = f.ppf(1-alpha/2,dfn, dfd)\n",
    "    return F_crit1, F_crit2\n",
    "\n",
    "F1, F2 = critical_f_value(alpha, dfn, dfd)\n",
    "\n",
    "print(\"Critical F-values are:\",round(F1,4),\"and\" ,round(F2,4))"
   ]
  },
  {
   "cell_type": "markdown",
   "id": "459483de-01d6-43f5-83af-d49930143fc1",
   "metadata": {},
   "source": [
    "       "
   ]
  },
  {
   "cell_type": "markdown",
   "id": "dce3d430-d067-4eed-b6b5-34e324de635d",
   "metadata": {},
   "source": [
    "Q3. Write a Python program that generates random samples from two normal distributions with known\n",
    "variances and uses an F-test to determine if the variances are equal. The program should output the F-\n",
    "value, degrees of freedom, and p-value for the test."
   ]
  },
  {
   "cell_type": "code",
   "execution_count": 8,
   "id": "3bbe87db-4748-4642-a207-5d4046170fb2",
   "metadata": {},
   "outputs": [
    {
     "name": "stdout",
     "output_type": "stream",
     "text": [
      "Sample 1 mean: 10.48, variance: 5.47\n",
      "Sample 2 mean: 19.90, variance: 2.94\n",
      "F-value: 1.86\n",
      "Degrees of freedom: (29, 39)\n",
      "p-value: 0.0711\n",
      "\n",
      "===================================================================\n",
      "\n",
      "Significance Level : 0.05\n",
      "Numerator dof : 29\n",
      "Denominator dof : 39\n",
      "Critical F-values are 0.4920 and 1.9619\n",
      "FAILED to reject the Null Hypothesis\n",
      "Conculsion : Variance of two samples population is same\n"
     ]
    }
   ],
   "source": [
    "import numpy as np\n",
    "from scipy.stats import f\n",
    "\n",
    "# Set seed for reproducibility\n",
    "np.random.seed(456)\n",
    "\n",
    "# Generate random samples from two normal distributions with known variances\n",
    "n1 = 30\n",
    "n2 = 40\n",
    "mean1 = 10\n",
    "mean2 = 20\n",
    "var1 = 6\n",
    "var2 = 4\n",
    "\n",
    "sample1 = np.random.normal(mean1, np.sqrt(var1), n1)\n",
    "sample2 = np.random.normal(mean2, np.sqrt(var2), n2)\n",
    "\n",
    "# Calculate the F-value and p-value for the variance ratio test\n",
    "F = np.var(sample1, ddof=1) / np.var(sample2, ddof=1)\n",
    "dfn = n1 - 1\n",
    "dfd = n2 - 1\n",
    "p_value = 2 * min(f.cdf(F, dfn, dfd), 1 - f.cdf(F, dfn, dfd))\n",
    "\n",
    "# Output the results\n",
    "print(\"Sample 1 mean: {:.2f}, variance: {:.2f}\".format(np.mean(sample1), np.var(sample1, ddof=1)))\n",
    "print(\"Sample 2 mean: {:.2f}, variance: {:.2f}\".format(np.mean(sample2), np.var(sample2, ddof=1)))\n",
    "print(\"F-value: {:.2f}\".format(F))\n",
    "print(\"Degrees of freedom: ({}, {})\".format(dfn, dfd))\n",
    "print(\"p-value: {:.4f}\".format(p_value))\n",
    "\n",
    "print('\\n===================================================================\\n')\n",
    "\n",
    "# Null Hypothesis and Alternate hypothesis \n",
    "null_hypothesis = \"Variance of two samples population is same\"\n",
    "alternate_hypothesis = \"Variance of both samples population is different\"\n",
    "\n",
    "# Assuming alpha value of 0.05 \n",
    "alpha = 0.05\n",
    "\n",
    "# Calculates critical values for two tailed F-test\n",
    "F_crit1 = f.ppf(alpha/2, dfn, dfd)\n",
    "F_crit2 = f.ppf(1-alpha/2,dfn, dfd)\n",
    "\n",
    "# Print Critical F values \n",
    "print(f'Significance Level : {alpha}')\n",
    "print(f'Numerator dof : {dfn}')\n",
    "print(f'Denominator dof : {dfd}')\n",
    "print(f\"Critical F-values are {F_crit1:.4f} and {F_crit2:.4f}\")\n",
    "\n",
    "# Conclusion \n",
    "if (F < F_crit1) or (F > F_crit2):\n",
    "    print('Reject the Null Hypothesis')\n",
    "    print(f'Conculsion : {alternate_hypothesis}')\n",
    "else:\n",
    "    print('FAILED to reject the Null Hypothesis')\n",
    "    print(f'Conculsion : {null_hypothesis}')"
   ]
  },
  {
   "cell_type": "markdown",
   "id": "67f0538f-77a8-4479-94f1-06a76de6f122",
   "metadata": {},
   "source": [
    "                  "
   ]
  },
  {
   "cell_type": "markdown",
   "id": "75a0bb40-8cd6-4b6b-b822-8ae13a08097f",
   "metadata": {},
   "source": [
    "Q4.The variances of two populations are known to be 10 and 15. A sample of 12 observations is taken from\n",
    "each population. Conduct an F-test at the 5% significance level to determine if the variances are\n",
    "significantly different."
   ]
  },
  {
   "cell_type": "code",
   "execution_count": 10,
   "id": "4fdd8e9b-aebf-4650-8e64-a87d4bfb0e9f",
   "metadata": {},
   "outputs": [
    {
     "name": "stdout",
     "output_type": "stream",
     "text": [
      "Sample 1 variance: 10.00\n",
      "Sample 2 variance: 15.00\n",
      "F-value: 0.6667\n",
      "Degrees of freedom: (11, 11)\n",
      "p-value: 0.5124\n",
      "===================================================================\n",
      "Significance Level : 0.05\n",
      "Numerator dof : 11\n",
      "Denominator dof : 11\n",
      "Critical F-values are 0.2879 and 3.4737\n",
      "FAILED to reject the Null Hypothesis\n",
      "Conculsion : Variance of two samples population is same\n"
     ]
    }
   ],
   "source": [
    "from scipy.stats import f\n",
    "\n",
    "# Generate random samples from two normal distributions with known variances\n",
    "n1 = 12\n",
    "n2 = 12\n",
    "var1 = 10\n",
    "var2 = 15\n",
    "\n",
    "# Calculate the F-value and p-value for the variance ratio test\n",
    "F = var1/var2\n",
    "dfn = n1 - 1\n",
    "dfd = n2 - 1\n",
    "p_value = 2 * min(f.cdf(F, dfn, dfd), 1 - f.cdf(F, dfn, dfd))\n",
    "\n",
    "# Output the results\n",
    "print(\"Sample 1 variance: {:.2f}\".format(var1))\n",
    "print(\"Sample 2 variance: {:.2f}\".format(var2))\n",
    "print(\"F-value: {:.4f}\".format(F))\n",
    "print(\"Degrees of freedom: ({}, {})\".format(dfn, dfd))\n",
    "print(\"p-value: {:.4f}\".format(p_value))\n",
    "\n",
    "print('===================================================================')\n",
    "\n",
    "# Null Hypothesis and Alternate hypothesis \n",
    "null_hypothesis = \"Variance of two samples population is same\"\n",
    "alternate_hypothesis = \"Variance of both samples population is different\"\n",
    "\n",
    "# Assuming alpha value of 0.05 \n",
    "alpha = 0.05\n",
    "\n",
    "# Calculates critical values for two tailed F-test\n",
    "F_crit1 = f.ppf(alpha/2, dfn, dfd)\n",
    "F_crit2 = f.ppf(1-alpha/2,dfn, dfd)\n",
    "\n",
    "# Print Critical F values \n",
    "print(f'Significance Level : {alpha}')\n",
    "print(f'Numerator dof : {dfn}')\n",
    "print(f'Denominator dof : {dfd}')\n",
    "print(f\"Critical F-values are {F_crit1:.4f} and {F_crit2:.4f}\")\n",
    "\n",
    "# Conclusion \n",
    "if (F < F_crit1) or (F > F_crit2):\n",
    "    print('Reject the Null Hypothesis')\n",
    "    print(f'Conculsion : {alternate_hypothesis}')\n",
    "else:\n",
    "    print('FAILED to reject the Null Hypothesis')\n",
    "    print(f'Conculsion : {null_hypothesis}')"
   ]
  },
  {
   "cell_type": "markdown",
   "id": "74c1ef35-a1db-4e83-9de4-80a73a39dcff",
   "metadata": {},
   "source": [
    "                     "
   ]
  },
  {
   "cell_type": "markdown",
   "id": "0ff1c12a-4483-40d0-9669-64fffd75706a",
   "metadata": {},
   "source": [
    "Q5. A manufacturer claims that the variance of the diameter of a certain product is 0.005. A sample of 25\n",
    "products is taken, and the sample variance is found to be 0.006. Conduct an F-test at the 1% significance\n",
    "level to determine if the claim is justified.                   "
   ]
  },
  {
   "cell_type": "code",
   "execution_count": 21,
   "id": "9e31e021-f7f8-4357-b99d-272adaa508f6",
   "metadata": {},
   "outputs": [
    {
     "name": "stdout",
     "output_type": "stream",
     "text": [
      "F-statistic: 1.2000\n",
      "F Critical values: 0.3371 and 2.9667\n",
      "P-value: 0.6587\n",
      "FAIL to reject null hypothesis.\n",
      "Conclusion : The variance of the diameter of the product is 0.005\n"
     ]
    }
   ],
   "source": [
    "\n",
    "import scipy.stats as stats\n",
    "\n",
    "# set the significance level\n",
    "alpha = 0.01\n",
    "\n",
    "# set the claimed population variance and sample variance\n",
    "sigma2 = 0.005\n",
    "s2 = 0.006\n",
    "\n",
    "# set the sample size\n",
    "n = 25\n",
    "\n",
    "# Null Hypothesis and alternate hypothesis\n",
    "null_hypothesis = \"The variance of the diameter of the product is 0.005\"\n",
    "alternate_hypothesis = \"The variance of the diameter of the product is NOT 0.005.\"\n",
    "\n",
    "# calculate the F-statistic\n",
    "F = s2 / sigma2\n",
    "\n",
    "# calculate the critical value of the F-distribution\n",
    "dfn = n - 1\n",
    "dfd = n - 1\n",
    "\n",
    "# calculate the p-value\n",
    "p_value = 2 * min(f.cdf(F, dfn, dfd), 1 - f.cdf(F, dfn, dfd))\n",
    "\n",
    "# Calculates critical values for two tailed F-test\n",
    "alpha = 0.01\n",
    "F_crit1 = f.ppf(alpha/2, dfn, dfd)\n",
    "F_crit2 = f.ppf(1-alpha/2,dfn, dfd)\n",
    "\n",
    "# print the results\n",
    "print(f\"F-statistic: {F:.4f}\")\n",
    "print(f\"F Critical values: {F_crit1:.4f} and {F_crit2:.4f}\")\n",
    "print(f\"P-value: {p_value:.4f}\")\n",
    "\n",
    "if p_value < alpha:\n",
    "    print(\"Reject null hypothesis.\")\n",
    "    print(f\"Conclusion : {alternate_hypothesis}\")\n",
    "else:\n",
    "    print(\"FAIL to reject null hypothesis.\")\n",
    "    print(f\"Conclusion : {null_hypothesis}\")"
   ]
  },
  {
   "cell_type": "markdown",
   "id": "66cd87d2-667c-476d-811d-3212a7b6b5ca",
   "metadata": {},
   "source": [
    "           "
   ]
  },
  {
   "cell_type": "markdown",
   "id": "c62cf111-185e-47d6-b5d8-a7bad17f73d4",
   "metadata": {},
   "source": [
    "Q6. Write a Python function that takes in the degrees of freedom for the numerator and denominator of an\n",
    "F-distribution and calculates the mean and variance of the distribution. The function should return the\n",
    "mean and variance as a tuple."
   ]
  },
  {
   "cell_type": "code",
   "execution_count": 24,
   "id": "bdc3e463-8820-4eb3-8e93-d8a30c4a56b4",
   "metadata": {},
   "outputs": [
    {
     "name": "stdout",
     "output_type": "stream",
     "text": [
      "Mean: 1.0952, Variance: 0.3914\n"
     ]
    }
   ],
   "source": [
    "def f_distribution_mean_var(df1:int, df2:int):\n",
    "    \"\"\"\n",
    "    Calculates the mean and variance of an F-distribution with\n",
    "    df1 degrees of freedom in the numerator and df2 degrees of\n",
    "    freedom in the denominator.\n",
    "    \n",
    "    Args:\n",
    "    df1 (int): Degrees of freedom in the numerator.\n",
    "    df2 (int): Degrees of freedom in the denominator.\n",
    "    \n",
    "    Returns:\n",
    "    tuple: Mean and variance of the F-distribution.\n",
    "    \"\"\"\n",
    "    if df1 <= 0 or df2 <= 0:\n",
    "        raise ValueError(\"Degrees of freedom must be positive.\")\n",
    "    \n",
    "    mean = df2 / (df2 - 2)\n",
    "    var = (2 * df2 ** 2 * (df1 + df2 - 2)) / (df1 * (df2 - 2) ** 2 * (df2 - 4))\n",
    "    \n",
    "    return (mean, var)\n",
    "\n",
    "mean, var = f_distribution_mean_var(10, 23)\n",
    "print(f\"Mean: {mean:.4f}, Variance: {var:.4f}\")"
   ]
  },
  {
   "cell_type": "markdown",
   "id": "4bd8c865-bb66-4086-944c-dcc9c09c0aa0",
   "metadata": {},
   "source": [
    "                        "
   ]
  },
  {
   "cell_type": "markdown",
   "id": "c13ba284-316b-4040-9e82-0c2bda17b9c5",
   "metadata": {},
   "source": [
    "Q7. A random sample of 10 measurements is taken from a normal population with unknown variance. The\n",
    "sample variance is found to be 25. Another random sample of 15 measurements is taken from another\n",
    "normal population with unknown variance, and the sample variance is found to be 20. Conduct an F-test\n",
    "at the 10% significance level to determine if the variances are significantly different."
   ]
  },
  {
   "cell_type": "code",
   "execution_count": 39,
   "id": "f113ee8f-9685-40b6-80fa-30e85378da4a",
   "metadata": {},
   "outputs": [
    {
     "name": "stdout",
     "output_type": "stream",
     "text": [
      "F-statistic: 1.2500\n",
      "F Critical value: 2.1220\n",
      "P-value: 0.3416\n",
      "FAIL to reject null hypothesis. \n",
      "Conclusion : Variances are similar\n"
     ]
    }
   ],
   "source": [
    "import numpy as np\n",
    "from scipy.stats import f\n",
    "\n",
    "# Set significance level and degrees of freedom\n",
    "alpha = 0.10\n",
    "n1 = 10\n",
    "n2 = 15\n",
    "df1 = n1-1\n",
    "df2 = n2-1\n",
    "\n",
    "# Variance for each group\n",
    "var1 = 25\n",
    "var2 = 20\n",
    "\n",
    "# Null and Alternate hypothesis\n",
    "null_hypothesis = \"Variances are similar\"\n",
    "alternate_hypothesis =  \"Variances are significantly different\"\n",
    "\n",
    "# Calculate F-statistic\n",
    "f_statistic = var1/var2\n",
    "p_value = 1 - f.cdf(f_statistic, df1, df2) \n",
    "\n",
    "# Calculate F-critical\n",
    "F_crit = f.ppf(1-alpha,df1, df2)\n",
    "\n",
    "# print the results\n",
    "print(f\"F-statistic: {f_statistic:.4f}\")\n",
    "print(f\"F Critical value: {F_crit:.4f}\")\n",
    "print(f\"P-value: {p_value:.4f}\")\n",
    "\n",
    "# Determine if null hypothesis should be rejected\n",
    "if p_value < alpha:\n",
    "    print(\"Reject null hypothesis.\")\n",
    "    print(f\"Conclusion : {alternate_hypothesis}\")\n",
    "else:\n",
    "    print(\"FAIL to reject null hypothesis. \")\n",
    "    print(f\"Conclusion : {null_hypothesis}\")"
   ]
  },
  {
   "cell_type": "markdown",
   "id": "71291059-dd01-4fc5-9e48-3d5fba5a3345",
   "metadata": {},
   "source": [
    "             "
   ]
  },
  {
   "cell_type": "markdown",
   "id": "ef1ce6ed-02ae-48ac-88db-99488a6da264",
   "metadata": {},
   "source": [
    "Q8. The following data represent the waiting times in minutes at two different restaurants on a Saturday\n",
    "night: Restaurant A: 24, 25, 28, 23, 22, 20, 27; Restaurant B: 31, 33, 35, 30, 32, 36. Conduct an F-test at the 5%\n",
    "significance level to determine if the variances are significantly different."
   ]
  },
  {
   "cell_type": "code",
   "execution_count": 43,
   "id": "73279080-d8f4-4c2d-80b7-cb654873c2a1",
   "metadata": {},
   "outputs": [],
   "source": [
    "# Given Sample Data\n",
    "restaurant_A = [24, 25, 28, 23, 22, 20, 27]\n",
    "restaurant_B = [31, 33, 35, 30, 32, 36]\n",
    "\n",
    "import numpy as np\n",
    "import matplotlib.pyplot as plt\n",
    "from scipy.stats import f\n",
    "\n",
    "def plot_decision_boundary(sample1:list, sample2:list, alpha=0.05):\n",
    "\n",
    "    # Calculating Variances of both samples\n",
    "    var1 = np.var(sample1, ddof=1)\n",
    "    var2 = np.var(sample2, ddof=1)\n",
    "\n",
    "    # Calculate F-statistic\n",
    "    if var1 >= var2:\n",
    "        f_statistic = var1/var2\n",
    "        dfn = len(sample1)-1\n",
    "        dfd = len(sample2)-1        \n",
    "    else:\n",
    "        f_statistic = var2/var1\n",
    "        dfn = len(sample2)-1\n",
    "        dfd = len(sample1)-1\n",
    "    \n",
    "    # Calculate F-critical\n",
    "    F_crit = f.ppf(1-alpha, dfn, dfd) \n",
    "    \n",
    "    # plot the F-distribution\n",
    "    x = np.linspace(0, F_crit + 2, 1000)\n",
    "    y = f.pdf(x, dfn, dfd)\n",
    "    plt.plot(x, y, 'k-', label='F-distribution')\n",
    "\n",
    "    # shade the critical region \n",
    "    x_crit = np.linspace(F_crit, F_crit + 2 , 100)\n",
    "    y_crit = f.pdf(x_crit, dfn, dfd)\n",
    "    plt.fill_between(x_crit, y_crit, 0, color='gray', alpha=0.999, label=f'Rejection region , F-critical = {F_crit:.4f}')\n",
    "  \n",
    "    # highlight the F-statistic\n",
    "    y_stat = f.pdf(f_statistic, dfn, dfd)\n",
    "    plt.plot([f_statistic, f_statistic], [0, y_stat], 'g--', linewidth=2, label=f'F-statistic = {f_statistic:.4f}')\n",
    "\n",
    "    # set the plot parameters\n",
    "    plt.xlabel('F-statistic')\n",
    "    plt.ylabel('Probability density')\n",
    "    plt.title('One tailed F-test')\n",
    "    plt.legend()\n",
    "    plt.show()"
   ]
  },
  {
   "cell_type": "code",
   "execution_count": 44,
   "id": "2e004b69-2b31-4610-bfa2-e637a44ad8d0",
   "metadata": {},
   "outputs": [
    {
     "data": {
      "image/png": "[encoded data removed]",
      "text/plain": [
       "<Figure size 640x480 with 1 Axes>"
      ]
     },
     "metadata": {},
     "output_type": "display_data"
    }
   ],
   "source": [
    "plot_decision_boundary(restaurant_A,restaurant_B,alpha=0.05)"
   ]
  },
  {
   "cell_type": "markdown",
   "id": "55bdc7cb-5a8a-4432-9a48-7def4b872596",
   "metadata": {},
   "source": [
    "                         "
   ]
  },
  {
   "cell_type": "markdown",
   "id": "edfb4cb3-0fd4-4e03-bfaa-28a99c80efdb",
   "metadata": {},
   "source": [
    "Q9. The following data represent the test scores of two groups of students: Group A: 80, 85, 90, 92, 87, 83;\n",
    "Group B: 75, 78, 82, 79, 81, 84. Conduct an F-test at the 1% significance level to determine if the variances\n",
    "are significantly different."
   ]
  },
  {
   "cell_type": "code",
   "execution_count": 45,
   "id": "bfe208b5-9bc5-4343-a5e3-2390343efdb6",
   "metadata": {},
   "outputs": [
    {
     "data": {
      "image/png": "[encoded data removed]",
      "text/plain": [
       "<Figure size 640x480 with 1 Axes>"
      ]
     },
     "metadata": {},
     "output_type": "display_data"
    }
   ],
   "source": [
    "# Given Sample data\n",
    "group_A = [80, 85, 90, 92, 87, 83]\n",
    "group_B = [75, 78, 82, 79, 81, 84]\n",
    "\n",
    "\n",
    "plot_decision_boundary(group_A,group_B, alpha=0.01)"
   ]
  },
  {
   "cell_type": "code",
   "execution_count": null,
   "id": "3103f7b9-9e00-4d4c-b34b-f65ddd1910a1",
   "metadata": {},
   "outputs": [],
   "source": []
  }
 ],
 "metadata": {
  "kernelspec": {
   "display_name": "Python 3 (ipykernel)",
   "language": "python",
   "name": "python3"
  },
  "language_info": {
   "codemirror_mode": {
    "name": "ipython",
    "version": 3
   },
   "file_extension": ".py",
   "mimetype": "text/x-python",
   "name": "python",
   "nbconvert_exporter": "python",
   "pygments_lexer": "ipython3",
   "version": "3.10.8"
  }
 },
 "nbformat": 4,
 "nbformat_minor": 5
}
