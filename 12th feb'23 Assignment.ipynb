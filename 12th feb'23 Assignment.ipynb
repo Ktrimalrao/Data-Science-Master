{
 "cells": [
  {
   "cell_type": "code",
   "execution_count": 1,
   "id": "8b035fd8-3a1a-4bd7-9d27-4e457b84089c",
   "metadata": {},
   "outputs": [
    {
     "data": {
      "text/plain": [
       "\"***************************** 12th feb'23 Assignment *****************************\""
      ]
     },
     "execution_count": 1,
     "metadata": {},
     "output_type": "execute_result"
    }
   ],
   "source": [
    "\"\"\"***************************** 12th feb'23 Assignment *****************************\"\"\""
   ]
  },
  {
   "cell_type": "code",
   "execution_count": null,
   "id": "ab19d9d1-8d8b-4879-881b-ae411e528a0d",
   "metadata": {},
   "outputs": [],
   "source": [
    "\"\"\" Q1. What is an Exception in pthon? Write the difference between Exception and syntax errors ?\"\"\"\n",
    "\n",
    "Ans.\n",
    "    An exception in Python is an incident that happens while executing a program that causes the\n",
    "    regular course of the programs commands to be disrupted. When a Python code comes across a condition\n",
    "    it canot handle, it raises an exception. An object in Python that describes an error is called an exception.\n",
    "    \n",
    "Difference:\n",
    "Exception -\n",
    "            i. Exception can be recovered.\n",
    "           ii. Exception classified 2 types (checked & unchecked).\n",
    "\n",
    "Syntax Error -\n",
    "            i. Syntax Error cannot be recovered.\n",
    "           ii. Syntax Error classified 1 types (unchecked)."
   ]
  },
  {
   "cell_type": "code",
   "execution_count": null,
   "id": "55b83d2b-724a-43a4-b138-03a222679a41",
   "metadata": {},
   "outputs": [],
   "source": [
    "\"\"\"\"Q2. What happens when a exception is not handled ? Explin with in example ?\"\"\"\n",
    "Ans.\n",
    "    When an exception occurred, if you don’t handle it, the program terminates abruptly and \n",
    "    the code past the line that caused the exception will not get executed."
   ]
  },
  {
   "cell_type": "code",
   "execution_count": 4,
   "id": "fe9b0a7b-6403-4f22-ad61-fd7329485db4",
   "metadata": {},
   "outputs": [
    {
     "name": "stdout",
     "output_type": "stream",
     "text": [
      "division by zero\n"
     ]
    }
   ],
   "source": [
    "try:\n",
    "    10/0\n",
    "    print(\"code id correct\")\n",
    "except Exception as ee:\n",
    "    print(ee)"
   ]
  },
  {
   "cell_type": "code",
   "execution_count": null,
   "id": "a8bf3386-fff6-4abf-842d-d16176d1da89",
   "metadata": {},
   "outputs": [],
   "source": [
    "\"\"\"Q3. Which Python statements are used to catch and handle exceptions ? Explain with example ?\"\"\"\n",
    "\n",
    "Ans.\n",
    "    The try and except block in Python is used to catch and handle exceptions.    "
   ]
  },
  {
   "cell_type": "code",
   "execution_count": 5,
   "id": "b3e2d062-6a73-432b-8037-a7bc8535218d",
   "metadata": {},
   "outputs": [
    {
     "name": "stdout",
     "output_type": "stream",
     "text": [
      "list index out of range\n"
     ]
    }
   ],
   "source": [
    "try:\n",
    "    l=[2,3,5,7]\n",
    "    print(l[7])\n",
    "except IndexError as e:\n",
    "    print(e)"
   ]
  },
  {
   "cell_type": "code",
   "execution_count": 7,
   "id": "bf4a9b0f-26b7-465e-bec2-a9ec8b4fde62",
   "metadata": {},
   "outputs": [
    {
     "name": "stdout",
     "output_type": "stream",
     "text": [
      "try and else:\n",
      "a + b : 30\n",
      "This willl exicute when try block is srun prroperly\n"
     ]
    }
   ],
   "source": [
    "\"\"\"Q4. Explain with example:\n",
    "\n",
    "1.try and else\n",
    "2.finlly\n",
    "3.raise                      \"\"\"\n",
    "\n",
    "print(\"try and else:\")\n",
    "try:\n",
    "    a,b=10,20\n",
    "    print(\"a + b :\",(a+b))\n",
    "except Exception as e:\n",
    "    print(e)\n",
    "else:\n",
    "    print(\"This willl exicute when try block is srun prroperly\")"
   ]
  },
  {
   "cell_type": "code",
   "execution_count": 9,
   "id": "9ab48fc5-3167-4539-88b2-531b0291f1bf",
   "metadata": {},
   "outputs": [
    {
     "name": "stdout",
     "output_type": "stream",
     "text": [
      "finally:\n",
      "unsupported operand type(s) for +: 'int' and 'str'\n",
      "Finally will exicute itself in any sitution\n"
     ]
    }
   ],
   "source": [
    "print(\"finally:\")\n",
    "try:\n",
    "    23+\"Tri\"\n",
    "except TypeError as e:\n",
    "    print(e)\n",
    "finally:\n",
    "    print(\"Finally will exicute itself in any sitution\")"
   ]
  },
  {
   "cell_type": "code",
   "execution_count": 15,
   "id": "d1f7bf59-a599-4e87-917e-98ca101ce029",
   "metadata": {},
   "outputs": [
    {
     "name": "stdout",
     "output_type": "stream",
     "text": [
      "raise:\n"
     ]
    },
    {
     "name": "stdin",
     "output_type": "stream",
     "text": [
      "Enetr a number : -1\n"
     ]
    },
    {
     "name": "stdout",
     "output_type": "stream",
     "text": [
      "This is negative number\n"
     ]
    }
   ],
   "source": [
    "print(\"raise:\")\n",
    "\n",
    "class validmsg(Exception):\n",
    "    def __init__(self,msg):\n",
    "        self.msg=msg\n",
    "\n",
    "def validnum(num):\n",
    "    if num<0:\n",
    "        raise validmsg(\"This is negative number\")\n",
    "    elif num>=0:\n",
    "        raise validmsg(\"This is positive number\")\n",
    "    else:\n",
    "        print(\"Enter valid Number..!\")\n",
    "\n",
    "try:\n",
    "    num=int(input(\"Enetr a number :\"))\n",
    "    validnum(num)\n",
    "except validmsg as e:\n",
    "    print(e)"
   ]
  },
  {
   "cell_type": "code",
   "execution_count": null,
   "id": "e11e7203-e1a4-4d20-abd7-78be36878263",
   "metadata": {},
   "outputs": [],
   "source": [
    "\"\"\"Q5. What are Custom Exceptions in python? Why do we need Custom Exceptions? Explin withn exmple\"\"\"\n",
    "\n",
    "Ans.\n",
    "    In Python, we can define custom exceptions by creating a new class that is derived from the built-in Exception class.\n",
    "    To catch and provide specific treatment to a subset of existing Java exceptions."
   ]
  },
  {
   "cell_type": "code",
   "execution_count": 25,
   "id": "bb696d9b-ee30-4574-83b7-e11d17445994",
   "metadata": {},
   "outputs": [
    {
     "name": "stdout",
     "output_type": "stream",
     "text": [
      "This is my custom exception\n"
     ]
    }
   ],
   "source": [
    "class CustomException(Exception):\n",
    "    \" \"\n",
    "try:\n",
    "    raise CustomException('This is my custom exception')\n",
    "except CustomException as e:\n",
    "    print(e)"
   ]
  },
  {
   "cell_type": "code",
   "execution_count": 26,
   "id": "58407724-e75c-40ae-ac0c-76e395be12a4",
   "metadata": {},
   "outputs": [
    {
     "name": "stdin",
     "output_type": "stream",
     "text": [
      "Enter your age : -65\n"
     ]
    },
    {
     "name": "stdout",
     "output_type": "stream",
     "text": [
      "Age can't be Negative\n"
     ]
    }
   ],
   "source": [
    "\"\"\"Q6. Create a custom exception class. Use this class to handle an exception ?\"\"\"\n",
    "class valid(Exception):\n",
    "    def __init__(self,msg):\n",
    "        self.msg=msg\n",
    "        \n",
    "def validage(age):\n",
    "    if age<0:\n",
    "        raise valid(\"Age can't be Negative\")\n",
    "    elif age > 110:\n",
    "        raise valid(\"Age can't very high\")\n",
    "    else:\n",
    "        print(\"Valid age\")        \n",
    "        \n",
    "try:\n",
    "    age=int(input(\"Enter your age :\"))\n",
    "    validage(age)\n",
    "except valid as e:\n",
    "    print(e)"
   ]
  },
  {
   "cell_type": "code",
   "execution_count": null,
   "id": "9656c5c9-f434-4c02-b60f-ff739d9ab1b4",
   "metadata": {},
   "outputs": [],
   "source": []
  }
 ],
 "metadata": {
  "kernelspec": {
   "display_name": "Python 3 (ipykernel)",
   "language": "python",
   "name": "python3"
  },
  "language_info": {
   "codemirror_mode": {
    "name": "ipython",
    "version": 3
   },
   "file_extension": ".py",
   "mimetype": "text/x-python",
   "name": "python",
   "nbconvert_exporter": "python",
   "pygments_lexer": "ipython3",
   "version": "3.10.8"
  }
 },
 "nbformat": 4,
 "nbformat_minor": 5
}
