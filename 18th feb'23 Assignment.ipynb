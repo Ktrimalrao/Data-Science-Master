{
 "cells": [
  {
   "cell_type": "code",
   "execution_count": 1,
   "id": "5928b724-3a1f-4a83-988b-bfd4c2ebfab6",
   "metadata": {},
   "outputs": [
    {
     "data": {
      "text/plain": [
       "\"***************************** 18th feb'23 Assignment *****************************\""
      ]
     },
     "execution_count": 1,
     "metadata": {},
     "output_type": "execute_result"
    }
   ],
   "source": [
    "\"\"\"***************************** 18th feb'23 Assignment *****************************\"\"\""
   ]
  },
  {
   "cell_type": "code",
   "execution_count": null,
   "id": "084589a6-fae1-4060-9647-d02446cda49d",
   "metadata": {},
   "outputs": [],
   "source": [
    "\"\"\"Q1. What is an API? Give an example, where an API is used in real life ?\"\"\"\n",
    "\n",
    "Ans.\n",
    "    An API (Application Programming Interface) is a set of rules and protocols that allows \n",
    "    different software applications to communicate and interact with each other.\n",
    "    It defines how different components of software systems should interact, \n",
    "    what data can be requested or sent, and how it should be formatted.\n",
    "    \n",
    "    \n",
    "    In real life, APIs are used extensively in various domains. For instance:\n",
    "        \n",
    " 1. Social Media Integration: When you see a \"Login with Facebook\" or \"Share on Twitter\" \n",
    "    button on a website or app, it uses APIs provided by social media platforms to \n",
    "    authenticate users and perform actions on their behalf.\n",
    "    \n",
    " 2. Weather Applications: Use APIs provided by weather servicesto retrievereal-time weather\n",
    "    data, such as temperature, humidity, and forecasts, which are then displayed in the app.\n",
    "    \n",
    " 3. Online Payment Gateways: Payment gateways like PayPal or Stripe provide APIs that allow e-commerce\n",
    "    websites or apps to securely process payments by integrating their payment systems into the application.\n",
    "    \n",
    " 4. Maps and Location Services: Applications like Google Maps use APIs to access location-based \n",
    "    services, including mapping data, geocoding, routing, and real-time traffic information."
   ]
  },
  {
   "cell_type": "code",
   "execution_count": null,
   "id": "108f89c9-abde-4758-890d-de682a0a09d6",
   "metadata": {},
   "outputs": [],
   "source": [
    "\"\"\"Q2. Give advantages and disadvantages of using API ?\"\"\"\n",
    "\n",
    "Ans.\n",
    "    Advantages of using APIs:\n",
    " 1. Easy Integration: APIs simplify the process of integrating different software applications, \n",
    "    allowing them to work together smoothly.\n",
    " \n",
    " 2. Time and Cost Savings: APIs enable developers to leverage existing functionalities and resources,\n",
    "    saving time and reducing development costs.\n",
    " \n",
    " 3. Expanded Functionality: APIs provide access to additional features and services, allowing developers \n",
    "    to enhance the functionality of their applications without building everything from scratch.\n",
    " \n",
    " 4. Improved User Experience: APIs enable the integration of third-party services, enhancing the user \n",
    "    experience by providing seamless access to various functionalities within a single application.\n",
    "    \n",
    "    Disadvantages of using APIs:\n",
    " 1. Dependency on External Systems: APIs rely on external systems or services. If those systems experience\n",
    "    downtime or undergo changes, it can affect the functioning of the dependent applications.\n",
    " \n",
    " 2. Lack of Control: When using APIs, developers have limited control over the underlying systems or \n",
    "    services.Changes made to the API by the provider may require adjustments in the dependent application.\n",
    " \n",
    " 3. Potential Security Risks: APIs can introduce security vulnerabilities if not implemented and managed\n",
    "    properly. Unauthorized access, data breaches, or API misuse can pose risks to the system and user data.\n",
    " \n",
    " 4. Compatibility and Versioning Issues: APIs evolve over time, and new versions may introduce compatibility issues\n",
    "    with existing applications. Developers need to manage versioning and ensure compatibility when integrating APIs."
   ]
  },
  {
   "cell_type": "code",
   "execution_count": null,
   "id": "3f6d937a-d3d9-4332-a998-9f587f6d0a30",
   "metadata": {},
   "outputs": [],
   "source": [
    "\"\"\"Q3. What is a Web API? Differentiate between API and Web API ?\"\"\"\n",
    "\n",
    "Ans.\n",
    "    A Web API, or web service, is a type of API specifically designed to be accessed over the \n",
    "    internet using the HTTP protocol. It enables communication and data exchange between client \n",
    "    applications, such as web browsers or mobile apps, and server-side applications.\n",
    "    \n",
    "    API :\n",
    " i.  A set of rules and protocols for communication and interaction between software applications.\n",
    " ii. Can be used in various contexts, such as OS, DB, hardware devices, or within a single application.\n",
    "iii. Can enable communication between different software components or systems.\n",
    " iv. Not limited to a specific protocol; can use various protocols like HTTP, TCP, or proprietary protocols.\n",
    "    \n",
    "    WEBAPI :\n",
    " i.  An API specifically designed to be accessed over the internet using the HTTP protocol.\n",
    " ii. Focuses on enabling communication between web-based client applications and server-side applications.\n",
    "iii. Enables comm. b/w client app. (e.g., web browsers, mobile apps) and server-side app. over the internet.\n",
    " iv. Primarily uses the HTTP protocol for data exchange and communication."
   ]
  },
  {
   "cell_type": "code",
   "execution_count": null,
   "id": "0da2767d-bcc6-43d7-aad2-209105ec3463",
   "metadata": {},
   "outputs": [],
   "source": [
    "\"\"\"Q4. Explain REST and SOAP Architecture. Mention shortcomings of SOAP ?\"\"\"\n",
    "\n",
    "Ans.\n",
    "\n",
    "REST Architecture:\n",
    "\n",
    "  *  REST is like having a simple conversation between systems over the internet.\n",
    "  *  It uses standard web protocols (URLs and HTTP) that we use every day to browse the internet.\n",
    "  *  It follows a \"request and response\" approach, where one system sends a request for data, and \n",
    "     the other system responds with the requested data.\n",
    "  *  It is lightweight and easy to understand, making it suitable for most applications.\n",
    "     It allows flexibility in how data is requested and sent.\n",
    "    \n",
    "SOAP Architecture:\n",
    "    \n",
    "  * SOAP is like having a structured and formalized conversation between systems.\n",
    "  * It uses a standardized set of rules & formats for sending messages b/w systems,typically based on XML.\n",
    "  * SOAP can handle complex operations, security features, and other advanced functionalities \n",
    "    required in enterprise systems.\n",
    "  * It can use different protocols (like HTTP, SMTP, etc.) for communication, providing \n",
    "    flexibility in system integration.\n",
    "    \n",
    "Mention shortcomings of SOAP:\n",
    "    SOAP is shortcomings include complexity, overhead, limited compatibility, lack of simplicity, \n",
    "    and potential firewall and proxy issues. These factors can make SOAP less favorable in scenarios\n",
    "    where lightweight, simpler, and more easily compatible communication methods like REST are sufficient."
   ]
  },
  {
   "cell_type": "code",
   "execution_count": null,
   "id": "5729eaa1-7b64-4c53-b479-90e6135b7d96",
   "metadata": {},
   "outputs": [],
   "source": [
    "\"\"\"Q5. Differentiate between REST and SOAP ?\"\"\"\n",
    "\n",
    "Ans.\n",
    "    \t REST (Representational State Transfer)\n",
    " i. Uses lightweight communication over HTTP.\n",
    "ii. Primarily uses JSON or XML for data exchange.\n",
    "iii. Relies on standard HTTP methods (GET, POST, PUT, DELETE).\n",
    "iv. Typically lacks a formal contract or description language.\n",
    "v. Commonly used in web development and APIs.\n",
    "vi.Highly scalable due to its lightweight nature.\n",
    "\n",
    "\n",
    "        SOAP (Simple Object Access Protocol)\n",
    " i. Uses XML-based messaging over various protocols.\n",
    "ii. Uses XML for message formatting.\n",
    "iii. Can operate over various protocols (HTTP, SMTP, etc.).\n",
    "iv. Described using Web Services Description Language (WSDL).\n",
    "v. Frequently used in enterprise-level applications.\n",
    "vi. Scales well but can become complex with advanced features."
   ]
  },
  {
   "cell_type": "code",
   "execution_count": null,
   "id": "abd9d7dd-a226-4aa7-8b17-99e857bd8fb7",
   "metadata": {},
   "outputs": [],
   "source": []
  }
 ],
 "metadata": {
  "kernelspec": {
   "display_name": "Python 3 (ipykernel)",
   "language": "python",
   "name": "python3"
  },
  "language_info": {
   "codemirror_mode": {
    "name": "ipython",
    "version": 3
   },
   "file_extension": ".py",
   "mimetype": "text/x-python",
   "name": "python",
   "nbconvert_exporter": "python",
   "pygments_lexer": "ipython3",
   "version": "3.10.8"
  }
 },
 "nbformat": 4,
 "nbformat_minor": 5
}
