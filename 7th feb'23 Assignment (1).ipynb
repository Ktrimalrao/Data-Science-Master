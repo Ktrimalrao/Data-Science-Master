{
 "cells": [
  {
   "cell_type": "code",
   "execution_count": 1,
   "id": "0f47502f-48cf-4bdc-9f3b-d209d40c336c",
   "metadata": {},
   "outputs": [
    {
     "data": {
      "text/plain": [
       "\"***************************** 7th feb'23 Assignment *****************************\""
      ]
     },
     "execution_count": 1,
     "metadata": {},
     "output_type": "execute_result"
    }
   ],
   "source": [
    "\"\"\"***************************** 7th feb'23 Assignment *****************************\"\"\""
   ]
  },
  {
   "cell_type": "code",
   "execution_count": 3,
   "id": "badf854d-f415-43c2-b228-e1ee3df2417b",
   "metadata": {},
   "outputs": [
    {
     "name": "stdin",
     "output_type": "stream",
     "text": [
      "Enter your password : @TRIMAL_rao!_16\n"
     ]
    },
    {
     "name": "stdout",
     "output_type": "stream",
     "text": [
      "Valid Password\n"
     ]
    }
   ],
   "source": [
    "\"\"\"Q1. You are writing code for a company. The requirement of the company is that you create a python\n",
    "        function that will check whether the password entered by the user is correct or not. The function should\n",
    "        take the password as input and return the string “Valid Password” if the entered password follows the\n",
    "        below-given password guidelines else it should return “Invalid Password”.\n",
    "        \n",
    "        Note: 1. The Password should contain at least two uppercase letters and at least two lowercase letters.\n",
    "              2. The Password should contain at least a number and three special characters.\n",
    "              3. The length of the password should be 10 characters long.\"\"\"\n",
    "\n",
    "import re\n",
    "password=input(\"Enter your password :\")\n",
    "Pass=0\n",
    "C=0\n",
    "c=0\n",
    "ch=0\n",
    "while True:\n",
    "    if (len(password)<=10):\n",
    "        Pass=-1\n",
    "        break\n",
    "    elif not re.search(\"[A-Z]\",password):\n",
    "        C=C+1\n",
    "        if(C>2):\n",
    "            Pass=-1\n",
    "            break\n",
    "    elif not re.search(\"[a-z]\",password):\n",
    "        c=c+1\n",
    "        if(c>2):\n",
    "            Pass=-1\n",
    "            break\n",
    "    elif not re.search(\"[0-9]\",password):\n",
    "        Pass=-1\n",
    "        break\n",
    "    elif not re.search(\"[_@$*!#]\",password):\n",
    "        ch=ch+1\n",
    "        if(ch>3):\n",
    "            Pass=-1\n",
    "            break\n",
    "    else:\n",
    "        Pass=0\n",
    "        print(\"Valid Password\")\n",
    "        break\n",
    "if Pass==-1:        \n",
    "    print(\"Invalid Password\")"
   ]
  },
  {
   "cell_type": "code",
   "execution_count": null,
   "id": "2ee9454c-3b8c-4a43-a07f-e906f81b914d",
   "metadata": {},
   "outputs": [],
   "source": [
    "\"\"\"Q2. Solve the below-given questions using at least one of the following:\n",
    "        1. Lambda function\n",
    "        2. Filter function\n",
    "        3. Zap function\n",
    "        4. List Comprehension\n",
    " * Check if the string starts with a particular letter.\n",
    " * Check if the string is numeric.\n",
    " * Sort a list of tuples having fruit names and their quantity. [(\"mango\",99),(\"orange\",80), (\"grapes\", 1000)]\n",
    " * Find the squares of numbers from 1 to 10.\n",
    " * Find the cube root of numbers from 1 to 10.\n",
    " * Check if a given number is even.\n",
    " * Filter odd numbers from the given list.[1,2,3,4,5,6,7,8,9,10]\n",
    " * Sort a list of integers into positive and negative integers lists.\n",
    "    [1,2,3,4,5,6,-1,-2,-3,-4,-5,0]\"\"\""
   ]
  },
  {
   "cell_type": "code",
   "execution_count": 21,
   "id": "015fda59-07ec-45ef-95d6-e5337cdd7cfd",
   "metadata": {},
   "outputs": [
    {
     "name": "stdin",
     "output_type": "stream",
     "text": [
      "Enter a letter:  T\n",
      "Enter a String: Trimal\n"
     ]
    },
    {
     "data": {
      "text/plain": [
       "True"
      ]
     },
     "execution_count": 21,
     "metadata": {},
     "output_type": "execute_result"
    }
   ],
   "source": [
    "\"\"\" * Check if the string starts with a particular letter.\"\"\"\n",
    "ch=input(\"Enter a letter: \")\n",
    "str_1=input(\"Enter a String:\")\n",
    "a=lambda str_1:True if str_1.startswith(\"T\") else False\n",
    "a(str_1)"
   ]
  },
  {
   "cell_type": "code",
   "execution_count": 20,
   "id": "a5297b4a-6241-4422-8028-991a60f493d3",
   "metadata": {},
   "outputs": [
    {
     "name": "stdin",
     "output_type": "stream",
     "text": [
      "Enter a String : 123Trimal\n"
     ]
    },
    {
     "data": {
      "text/plain": [
       "False"
      ]
     },
     "execution_count": 20,
     "metadata": {},
     "output_type": "execute_result"
    }
   ],
   "source": [
    "\"\"\" * Check if the string is numeric.\"\"\"\n",
    "num=input(\"Enter a String :\")\n",
    "b=lambda num:True if num.isnumeric() else False\n",
    "b(num)"
   ]
  },
  {
   "cell_type": "code",
   "execution_count": 22,
   "id": "a9b59d10-c515-42d8-96bf-6514f8fe45da",
   "metadata": {},
   "outputs": [
    {
     "name": "stdout",
     "output_type": "stream",
     "text": [
      "[('orange', 80), ('mango', 99), ('grapes', 1000)]\n"
     ]
    }
   ],
   "source": [
    "\"\"\"  * Sort a list of tuples having fruit names and their quantity. [(\"mango\",99),(\"orange\",80), (\"grapes\", 1000)]\"\"\"\n",
    "lst=[(\"mango\",99),(\"orange\",80), (\"grapes\", 1000)]\n",
    "lst.sort(key=lambda x:x[1])\n",
    "print(lst)"
   ]
  },
  {
   "cell_type": "code",
   "execution_count": 23,
   "id": "dc00d7fa-8096-4640-8583-d1182234fda5",
   "metadata": {},
   "outputs": [
    {
     "data": {
      "text/plain": [
       "[1, 4, 9, 16, 25, 36, 49, 64, 81, 100]"
      ]
     },
     "execution_count": 23,
     "metadata": {},
     "output_type": "execute_result"
    }
   ],
   "source": [
    "\"\"\" * Find the squares of numbers from 1 to 10.\"\"\"\n",
    "def sq(x):\n",
    "    return x**2\n",
    "list(map(sq,(1,2,3,4,5,6,7,8,9,10)))"
   ]
  },
  {
   "cell_type": "code",
   "execution_count": 27,
   "id": "e5c36b14-8464-4d19-951c-04578edfac2f",
   "metadata": {},
   "outputs": [
    {
     "data": {
      "text/plain": [
       "[1, 8, 27, 64, 125, 216, 343, 512, 729, 1000]"
      ]
     },
     "execution_count": 27,
     "metadata": {},
     "output_type": "execute_result"
    }
   ],
   "source": [
    "\"\"\"\" * Find the cube root of numbers from 1 to 10.\"\"\"\n",
    "def cube(x):\n",
    "    return x**3\n",
    "list(map(cube,(1,2,3,4,5,6,7,8,9,10)))"
   ]
  },
  {
   "cell_type": "code",
   "execution_count": 3,
   "id": "2ee641ec-cf40-4efb-8af7-14d067d5c8e8",
   "metadata": {},
   "outputs": [
    {
     "name": "stdin",
     "output_type": "stream",
     "text": [
      "Enter a number : 22\n"
     ]
    },
    {
     "data": {
      "text/plain": [
       "True"
      ]
     },
     "execution_count": 3,
     "metadata": {},
     "output_type": "execute_result"
    }
   ],
   "source": [
    "\"\"\" * Check if a given number is even.\"\"\"\n",
    "num=int(input(\"Enter a number :\"))\n",
    "c=lambda x:True if x%2==0 else False\n",
    "c(num)"
   ]
  },
  {
   "cell_type": "code",
   "execution_count": 10,
   "id": "3f00b739-e7a0-4e86-9d7a-4441b15f0469",
   "metadata": {},
   "outputs": [
    {
     "data": {
      "text/plain": [
       "[1, 3, 5, 7, 9]"
      ]
     },
     "execution_count": 10,
     "metadata": {},
     "output_type": "execute_result"
    }
   ],
   "source": [
    "\"\"\" * Filter odd numbers from the given list.[1,2,3,4,5,6,7,8,9,10]\"\"\"\n",
    "lst_1=[1,2,3,4,5,6,7,8,9,10]\n",
    "list(filter(lambda x:x%2!=0,lst_1))"
   ]
  },
  {
   "cell_type": "code",
   "execution_count": 19,
   "id": "b882e93e-d3c6-43e8-a62b-61d14d0c15fc",
   "metadata": {},
   "outputs": [
    {
     "name": "stdout",
     "output_type": "stream",
     "text": [
      "[-5, -4, -3, -2, -1, 0, 1, 2, 3, 4, 5, 6]\n"
     ]
    }
   ],
   "source": [
    "\"\"\" * Sort a list of integers into positive and negative integers lists.\n",
    "    [1,2,3,4,5,6,-1,-2,-3,-4,-5,0]\"\"\"\n",
    "lst_2.sort(key=lambda x:x)\n",
    "print(lst_2)"
   ]
  },
  {
   "cell_type": "code",
   "execution_count": null,
   "id": "ba4f6f56-9301-4e62-8dfc-6391d8674b0a",
   "metadata": {},
   "outputs": [],
   "source": []
  }
 ],
 "metadata": {
  "kernelspec": {
   "display_name": "Python 3 (ipykernel)",
   "language": "python",
   "name": "python3"
  },
  "language_info": {
   "codemirror_mode": {
    "name": "ipython",
    "version": 3
   },
   "file_extension": ".py",
   "mimetype": "text/x-python",
   "name": "python",
   "nbconvert_exporter": "python",
   "pygments_lexer": "ipython3",
   "version": "3.10.8"
  }
 },
 "nbformat": 4,
 "nbformat_minor": 5
}
