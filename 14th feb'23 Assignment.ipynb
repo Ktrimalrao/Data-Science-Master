{
 "cells": [
  {
   "cell_type": "code",
   "execution_count": 1,
   "id": "e5ae12b9-52ba-4d93-9bae-c0de13252acc",
   "metadata": {},
   "outputs": [
    {
     "data": {
      "text/plain": [
       "\"***************************** 14th feb'23 Assignment *****************************\""
      ]
     },
     "execution_count": 1,
     "metadata": {},
     "output_type": "execute_result"
    }
   ],
   "source": [
    "\"\"\"***************************** 14th feb'23 Assignment *****************************\"\"\""
   ]
  },
  {
   "cell_type": "code",
   "execution_count": null,
   "id": "8e4ac254-5b28-44be-8412-df96d668191b",
   "metadata": {},
   "outputs": [],
   "source": [
    "\"\"\"Q1. What is multithreading in python? why is it used?  \"\"\"\n",
    "\n",
    "Ans.\n",
    "    Multithreading is a threading technique in Python programming to run multiple threads concurrently \n",
    "    by rapidly switching between threads with a CPU help (called context switching).\n",
    "    \n",
    "    because Python on the Cpython interpreter does not support true multi-core execution via multithreading. \n",
    "    \n",
    "    import threading\n",
    "    The threading module is a high-level implementation of multithreading used to deploy an application in Python."
   ]
  },
  {
   "cell_type": "code",
   "execution_count": null,
   "id": "89070d41-31ef-462a-bb60-47ceee712cd6",
   "metadata": {},
   "outputs": [],
   "source": [
    "\"\"\"Q2. Why threading module used? write the use of the following functions\n",
    "* activeCount()\n",
    "* currentThread()\n",
    "* enumerate()    \"\"\"\n",
    "\n",
    "Ans.\n",
    "    Python threading allows you to have different parts of your program run concurrently and can simplify your design.\n",
    "    \n",
    " * activeCount() − Returns the number of thread objects that are active. \n",
    " * currentThread() − Returns the number of thread objects in the caller's thread control.\n",
    " * enumerate() - function takes a collection (e.g. a tuple) and returns it as an enumerate object."
   ]
  },
  {
   "cell_type": "code",
   "execution_count": null,
   "id": "b51af371-456b-44b2-a881-e1d82cf1a116",
   "metadata": {},
   "outputs": [],
   "source": [
    "\"\"\"Q3. Explain the following functions\n",
    "* run()\n",
    "* start()\n",
    "* join()\n",
    "* isAlive() \"\"\"\n",
    "\n",
    "Ans.\n",
    "     run(): method executes any target function belonging to a given thread object that is now active.\n",
    "    start(): method is used to initiate the activity of a thread. \n",
    "             And it calls only once for each thread so that the execution of the thread can begin.\n",
    "    join(): method delays a program's flow of execution until the target thread has been completely read.\n",
    "    isAlive(): it is used to check whether that thread is alive or not, ie, it is still running or not. \n",
    "                This method returns True before the run() starts until just after the run() method is executed."
   ]
  },
  {
   "cell_type": "code",
   "execution_count": 31,
   "id": "9ead0975-5b11-4cdd-91bb-b43c0b9d1af7",
   "metadata": {},
   "outputs": [
    {
     "name": "stdout",
     "output_type": "stream",
     "text": [
      "List of Square: [100, 81, 64, 49, 36, 25, 16, 9, 4, 1]\n",
      "List of Cube: [1000, 729, 512, 343, 216, 125, 64, 27, 8, 1]\n"
     ]
    }
   ],
   "source": [
    "\"\"\" Q4. Write a python program to create two threads. Thread one must print the list of squares and thread\n",
    "        two must print the list of cubes ? \"\"\"\n",
    "\n",
    "import threading\n",
    "\n",
    "lst = [10,9,8,7,6,5,4,3,2,1]\n",
    "def square():\n",
    "    sq = [i**2 for i in lst]\n",
    "    print(\"List of Square:\",sq)\n",
    "    \n",
    "def cube():\n",
    "    cu = [i**3 for i in lst]\n",
    "    print(\"List of Cube:\",cu)\n",
    "\n",
    "if __name__=='__main__':\n",
    "    the1 = threading.Thread(target=square)\n",
    "    the2 = threading.Thread(target=cube)\n",
    "    \n",
    "    the1.start()\n",
    "    the2.start()\n",
    "    the1.join()\n",
    "    the2.join()"
   ]
  },
  {
   "cell_type": "code",
   "execution_count": null,
   "id": "5a8a0db6-7df2-4a64-92f4-2983e66f1a83",
   "metadata": {},
   "outputs": [],
   "source": [
    "\"\"\"Q5. State advantages and disadvantages of multithreading ? \"\"\"\n",
    "\n",
    "Ans.\n",
    "Advantages of Multithreading:\n",
    "   i.Resource Sharing: All the threads of a process share its resources such as memory, data, files etc.\n",
    "                    A single application can have different threads within the same address space using resource sharing.\n",
    "  ii.Responsiveness: Program responsiveness allows a program to run even if part of it is blocked using multithreading. \n",
    "                     This can also be done if the process is performing a lengthy operation. \n",
    "  iii.Utilization of Multiprocessor Architecture: In a multiprocessor architecture, each thread can run on a different \n",
    "                    processor in parallel using multithreading. This increases concurrency of the system. \n",
    "                    This is in direct contrast to a single processor system, \n",
    "                    where only one process or thread can run on a processor at a time.\n",
    "  iv.Economy: It is more economical to use threads as they share the process resources. Comparatively, \n",
    "                it is more expensive and time-consuming to create processes as they require more memory and resources.\n",
    "                The overhead for process creation and management is much higher than thread creation and management. \n",
    "    \n",
    "Disadvantages of Multithreading:\n",
    "    i. It needs more careful synchronization.\n",
    "   ii. It can consume a large space of stocks of blocked threads.\n",
    "  iii. It needs support for thread or process.\n",
    "   iv. If a parent process has several threads for proper process functioning, \n",
    "        the child processes should also be multithreaded because they may be required.\n",
    "    v. It imposes context switching overhead.\n"
   ]
  },
  {
   "cell_type": "code",
   "execution_count": null,
   "id": "c15c1713-3ab5-44cb-a999-c1951af11de3",
   "metadata": {},
   "outputs": [],
   "source": [
    "\"\"\"Q6. Explain deadlocks and race conditions.\"\"\"\n",
    "\n",
    "Ans.\n",
    "    A race condition means that your programs result might depend on the order of execution of the individual steps.\n",
    "    This becomes essential in concurrent programs that can run multiple threads of execution simultaneously\n",
    "    through context switching, and they access a shared resource like a variable.\n",
    "    \n",
    "    A deadlock is a concurrency failure mode where a thread or threads wait for a condition that never occurs.\n",
    "    The result is that the deadlock threads are unable to progress and the program is stuck or frozen and must be terminated forcefully."
   ]
  }
 ],
 "metadata": {
  "kernelspec": {
   "display_name": "Python 3 (ipykernel)",
   "language": "python",
   "name": "python3"
  },
  "language_info": {
   "codemirror_mode": {
    "name": "ipython",
    "version": 3
   },
   "file_extension": ".py",
   "mimetype": "text/x-python",
   "name": "python",
   "nbconvert_exporter": "python",
   "pygments_lexer": "ipython3",
   "version": "3.10.8"
  }
 },
 "nbformat": 4,
 "nbformat_minor": 5
}
