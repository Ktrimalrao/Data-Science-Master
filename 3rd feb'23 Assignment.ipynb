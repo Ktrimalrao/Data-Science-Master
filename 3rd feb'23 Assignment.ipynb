{
 "cells": [
  {
   "cell_type": "code",
   "execution_count": 6,
   "id": "92b2de16-d709-44d2-9463-77740dc1d0a3",
   "metadata": {},
   "outputs": [
    {
     "data": {
      "text/plain": [
       "\"***************************** 3rd feb'23 Assignment *****************************\""
      ]
     },
     "execution_count": 6,
     "metadata": {},
     "output_type": "execute_result"
    }
   ],
   "source": [
    "\"\"\"***************************** 3rd feb'23 Assignment *****************************\"\"\""
   ]
  },
  {
   "cell_type": "code",
   "execution_count": 7,
   "id": "0cb864c3-f351-40f8-8769-8c3e2f3152e6",
   "metadata": {},
   "outputs": [
    {
     "data": {
      "text/plain": [
       "[1, 3, 5, 7, 9, 11, 13, 15, 17, 19, 21, 23, 25]"
      ]
     },
     "execution_count": 7,
     "metadata": {},
     "output_type": "execute_result"
    }
   ],
   "source": [
    "\"\"\"Q1. Which keyword is used to create a function? Create a function to return a list of odd numbers in the\n",
    "       range of 1 to 25.\"\"\"\n",
    "\n",
    "# The def keyword is used to create, (or define) a function.\n",
    "def odd_num():\n",
    "     return list(range(1,26,2))\n",
    "odd_num()"
   ]
  },
  {
   "cell_type": "code",
   "execution_count": 8,
   "id": "f76eeaad-7009-405d-998f-cb2fd09cd5db",
   "metadata": {},
   "outputs": [
    {
     "data": {
      "text/plain": [
       "{'trimal': 19, 'tilak': 14}"
      ]
     },
     "execution_count": 8,
     "metadata": {},
     "output_type": "execute_result"
    }
   ],
   "source": [
    "\"\"\"Q2. Why *args and **kwargs is used in some functions? Create a function each for *args and **kwargs\n",
    "       to demonstrate their use.\"\"\"\n",
    "\n",
    "# *args: *args in function definitions in python is used to pass a variable number of arguments to a function. \n",
    "#         It is used to pass a non-key worded, variable-length argument list.\n",
    "def test_1(*args):\n",
    "    return args\n",
    "test_1(1,2,3,4)\n",
    "\n",
    "# **kwargs : **kwargs in function definitions in python is used to pass a keyworded, variable-length argument list.\n",
    "#            We use the name kwargs with the double star. The reason is that the double star allows us to pass through keyword arguments\n",
    "def test_2(**kwargs):\n",
    "    return kwargs\n",
    "test_2(trimal=19,tilak=14)"
   ]
  },
  {
   "cell_type": "code",
   "execution_count": 9,
   "id": "2639264e-7169-4814-8fc5-afab6aa59d2b",
   "metadata": {},
   "outputs": [
    {
     "name": "stdout",
     "output_type": "stream",
     "text": [
      "2\n",
      "4\n",
      "6\n",
      "8\n",
      "10\n"
     ]
    }
   ],
   "source": [
    "\"\"\"Q3. What is an iterator in python? Name the method used to initialise the iterator object and the method\n",
    "        used for iteration. Use these methods to print the first five elements of the given list [2, 4, 6, 8, 10, 12, 14,\n",
    "        16, 18, 20].\"\"\"\n",
    "\n",
    "#Iterator in Python is an object that is used to iterate over iterable objects like lists, tuples, dicts, and sets. \n",
    "# which consist of the methods __iter__() and __next__() .\n",
    "\n",
    "lst=[2, 4, 6, 8, 10, 12, 14,16, 18, 20]\n",
    "n1=iter(lst)\n",
    "for i in range(5):\n",
    "    print(next(n1))"
   ]
  },
  {
   "cell_type": "code",
   "execution_count": 10,
   "id": "f1977d40-cb48-4615-9df0-962dc24066e3",
   "metadata": {},
   "outputs": [
    {
     "name": "stdout",
     "output_type": "stream",
     "text": [
      "0\n",
      "1\n",
      "1\n",
      "2\n",
      "3\n"
     ]
    }
   ],
   "source": [
    "\"\"\"Q4. What is a generator function in python? Why yield keyword is used? Give an example of a generator\n",
    "        function.\"\"\"\n",
    "\n",
    "# Generator function : It is python generator function taht returns an iterator that produce a sequence of values when iterated over.\n",
    "# Yeild keyword : it convert an expression that is specified along with it to a generator object and return it to the caller. \n",
    "\n",
    "def test_fibo(n):\n",
    "    a,b=0,1;\n",
    "    for i in range(n):\n",
    "        yield a\n",
    "        a,b=b,a+b\n",
    "\n",
    "for i in test_fibo(5):\n",
    "    print(i)"
   ]
  },
  {
   "cell_type": "code",
   "execution_count": 11,
   "id": "aafdb5c7-5c26-491f-a2ac-9319aee6122e",
   "metadata": {},
   "outputs": [
    {
     "data": {
      "text/plain": [
       "<generator object getPrimes at 0x7f1a88fbe420>"
      ]
     },
     "execution_count": 11,
     "metadata": {},
     "output_type": "execute_result"
    }
   ],
   "source": [
    "\"\"\"Q5. Create a generator function for prime numbers less than 1000. Use the next() method to print the\n",
    "        first 20 prime numbers.\"\"\"\n",
    "\n",
    "\n",
    "def getPrimes(n):\n",
    "    prime=True\n",
    "    i=2\n",
    "    while(i<n):\n",
    "        for a in range(2,i):\n",
    "            if(i%a==0):\n",
    "                prime=False\n",
    "                break\n",
    "        if(prime):    \n",
    "            yield i\n",
    "\n",
    "getPrimes(20)"
   ]
  },
  {
   "cell_type": "code",
   "execution_count": 12,
   "id": "6c6ffb00-cd6c-4703-8310-8ea112ee16c8",
   "metadata": {},
   "outputs": [
    {
     "name": "stdout",
     "output_type": "stream",
     "text": [
      "0\n",
      "1\n",
      "1\n",
      "2\n",
      "3\n",
      "5\n",
      "8\n",
      "13\n",
      "21\n",
      "34\n"
     ]
    }
   ],
   "source": [
    "\"\"\"Q6. Write a python program to print the first 10 Fibonacci numbers using a while loop.\"\"\"\n",
    "\n",
    "a,b=0,1\n",
    "i=0\n",
    "while i<10:\n",
    "    print(a)\n",
    "    c=a+b\n",
    "    a=b\n",
    "    b=c\n",
    "    i=i+1"
   ]
  },
  {
   "cell_type": "code",
   "execution_count": 13,
   "id": "50a8ce72-e649-433c-85fa-feeaa1e5eb87",
   "metadata": {},
   "outputs": [
    {
     "data": {
      "text/plain": [
       "['p', 'w', 's', 'k', 'i', 'l', 'l', 's']"
      ]
     },
     "execution_count": 13,
     "metadata": {},
     "output_type": "execute_result"
    }
   ],
   "source": [
    "\"\"\"Q7. Write a List Comprehension to iterate through the given string: ‘pwskills’.\n",
    "        Expected output: ['p', 'w', 's', 'k', 'i', 'l', 'l', 's']\"\"\"\n",
    "\n",
    "list(i for i in \"pwskills\")"
   ]
  },
  {
   "cell_type": "code",
   "execution_count": 15,
   "id": "0a2c1923-8953-49b0-8607-02de6386e4c6",
   "metadata": {},
   "outputs": [
    {
     "name": "stdin",
     "output_type": "stream",
     "text": [
      "Enter your number : 12321\n"
     ]
    },
    {
     "name": "stdout",
     "output_type": "stream",
     "text": [
      "Palindrome\n"
     ]
    }
   ],
   "source": [
    "\"\"\"Q8. Write a python program to check whether a given number is Palindrome or not using a while loop.\"\"\"\n",
    "\n",
    "num=int(input(\"Enter your number :\"))\n",
    "num_1=num\n",
    "rev=0\n",
    "while num>0:\n",
    "    res=num%10\n",
    "    rev=(rev*10)+res\n",
    "    num=num//10\n",
    "if num_1==rev:\n",
    "    print(\"Palindrome\")\n",
    "else:\n",
    "    print(\"Not palindrome\")"
   ]
  },
  {
   "cell_type": "code",
   "execution_count": 16,
   "id": "151b675e-3808-4398-83ed-e0fff87e9fd7",
   "metadata": {},
   "outputs": [
    {
     "data": {
      "text/plain": [
       "[1,\n",
       " 3,\n",
       " 5,\n",
       " 7,\n",
       " 9,\n",
       " 11,\n",
       " 13,\n",
       " 15,\n",
       " 17,\n",
       " 19,\n",
       " 21,\n",
       " 23,\n",
       " 25,\n",
       " 27,\n",
       " 29,\n",
       " 31,\n",
       " 33,\n",
       " 35,\n",
       " 37,\n",
       " 39,\n",
       " 41,\n",
       " 43,\n",
       " 45,\n",
       " 47,\n",
       " 49,\n",
       " 51,\n",
       " 53,\n",
       " 55,\n",
       " 57,\n",
       " 59,\n",
       " 61,\n",
       " 63,\n",
       " 65,\n",
       " 67,\n",
       " 69,\n",
       " 71,\n",
       " 73,\n",
       " 75,\n",
       " 77,\n",
       " 79,\n",
       " 81,\n",
       " 83,\n",
       " 85,\n",
       " 87,\n",
       " 89,\n",
       " 91,\n",
       " 93,\n",
       " 95,\n",
       " 97,\n",
       " 99]"
      ]
     },
     "execution_count": 16,
     "metadata": {},
     "output_type": "execute_result"
    }
   ],
   "source": [
    "\"\"\"Q9. Write a code to print odd numbers from 1 to 100 using list comprehension.\"\"\"\n",
    "\n",
    "list(i for i in range(1,101) if i%2!=0)"
   ]
  },
  {
   "cell_type": "code",
   "execution_count": null,
   "id": "be2ddc38-4a5a-46ae-89a2-cfa958652b3d",
   "metadata": {},
   "outputs": [],
   "source": []
  }
 ],
 "metadata": {
  "kernelspec": {
   "display_name": "Python 3 (ipykernel)",
   "language": "python",
   "name": "python3"
  },
  "language_info": {
   "codemirror_mode": {
    "name": "ipython",
    "version": 3
   },
   "file_extension": ".py",
   "mimetype": "text/x-python",
   "name": "python",
   "nbconvert_exporter": "python",
   "pygments_lexer": "ipython3",
   "version": "3.10.8"
  }
 },
 "nbformat": 4,
 "nbformat_minor": 5
}
