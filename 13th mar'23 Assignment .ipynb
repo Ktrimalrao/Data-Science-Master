{
 "cells": [
  {
   "cell_type": "code",
   "execution_count": 2,
   "id": "dd3bc8c8-ca16-49ba-8a6b-1c17b2641895",
   "metadata": {},
   "outputs": [
    {
     "data": {
      "text/plain": [
       "\"***************************** 13th mar'23 Assignment *****************************\""
      ]
     },
     "execution_count": 2,
     "metadata": {},
     "output_type": "execute_result"
    }
   ],
   "source": [
    "\"\"\"***************************** 13th mar'23 Assignment *****************************\"\"\""
   ]
  },
  {
   "cell_type": "code",
   "execution_count": null,
   "id": "a359c40e-e337-487c-9c7b-3525b5c570d0",
   "metadata": {},
   "outputs": [],
   "source": [
    "Q1. Explain the assumptions required to use ANOVA and provide examples of violations that could impact\n",
    "the validity of the results."
   ]
  },
  {
   "cell_type": "markdown",
   "id": "bb74f3b1-1e24-47d2-9103-abe4718b3c50",
   "metadata": {},
   "source": [
    "### Analysis of Variance (ANOVA) is a statistical method used to compare means between three or more groups. The method makes several assumptions about the data, which are important to consider when interpreting the results.\n",
    "\n",
    "\n",
    "#### Assumptions of ANOVA:\n",
    "1.Independence: The observations within each group must be independent of each other. This means that the value of one observation should not influence the value of another observation within the same group.\n",
    "\n",
    "2.Normality: The distribution of the data within each group should be approximately normal. This means that the data should be symmetrically distributed around the mean and the majority of the data should be located near the mean.\n",
    "\n",
    "3.Homogeneity of variance: The variance within each group should be approximately equal. This means that the spread of the data should be similar across all groups.\n",
    "\n",
    "#### Violations of these assumptions can impact the validity of ANOVA results and should be carefully considered when interpreting the results. Examples of violations include:\n",
    "\n",
    "1.Independence: If there is a relationship between observations within a group, the assumption of independence is violated. For example, if the same individual is measured multiple times in a study, the observations within that individual are not independent.\n",
    "\n",
    "2.Normality: If the data is not normally distributed within each group, the ANOVA results may not be valid. For example, if the data is highly skewed, the normality assumption may be violated.\n",
    "\n",
    "3.Homogeneity of variance: If the variance is not approximately equal within each group, the ANOVA results may not be valid. For example, if the variance in one group is much larger than the variance in another group, the homogeneity of variance assumption may be violated."
   ]
  },
  {
   "cell_type": "code",
   "execution_count": null,
   "id": "b30d93cd-177f-40c9-a25b-8f5b1f4de791",
   "metadata": {},
   "outputs": [],
   "source": [
    "Q2. What are the three types of ANOVA, and in what situations would each be used?"
   ]
  },
  {
   "cell_type": "markdown",
   "id": "80e300b1-2184-44c0-98d7-9104189e09a2",
   "metadata": {},
   "source": [
    "##### The three types of ANOVA are:\n",
    "\n",
    "1.One-Way ANOVA:\n",
    "One-Way ANOVA is used when there is a single categorical independent variable (also known as a factor) with three or more levels, and the dependent variable is continuous. It is used to determine if there are any statistically significant differences in the means of the dependent variable across the levels of the independent variable. For example, a One-Way ANOVA could be used to compare the mean scores of students in three different teaching methods (e.g., lecture, discussion, and online) to see if there are any significant differences in their performance.\n",
    "\n",
    "2.Two-Way ANOVA:\n",
    "Two-Way ANOVA is used when there are two independent variables, both categorical, and the dependent variable is continuous. It is used to analyze the effects of two independent variables and their interaction on the dependent variable. Two-Way ANOVA can provide insights into whether the main effects of each independent variable and their interaction significantly influence the dependent variable. For example, a Two-Way ANOVA could be used to examine the effects of both gender and treatment type on patient outcomes in a medical study.\n",
    "\n",
    "3.Factorial ANOVA:\n",
    "Factorial ANOVA is an extension of Two-Way ANOVA and is used when there are two or more independent variables, all categorical, and a continuous dependent variable. It allows for the examination of the main effects of each independent variable as well as their interactions. Factorial ANOVA can provide insights into how multiple factors simultaneously affect the dependent variable and whether there are any interactions between the factors. For example, a Factorial ANOVA could be used to analyze the effects of age, gender, and education level on income levels in a survey study."
   ]
  },
  {
   "cell_type": "code",
   "execution_count": null,
   "id": "bbd928f0-afe2-40dc-885b-3599737b4c8b",
   "metadata": {},
   "outputs": [],
   "source": [
    "Q3. What is the partitioning of variance in ANOVA, and why is it important to understand this concept?"
   ]
  },
  {
   "cell_type": "markdown",
   "id": "43369ece-b624-4af9-8590-551f0fa5a323",
   "metadata": {},
   "source": [
    "##### Ans.\n",
    "The partitioning of variance in ANOVA refers to the division of the total variance in the data into different components that can be attributed to specific sources or factors. It decomposes the total variation observed in the dependent variable into distinct parts, providing insights into the contributions of different factors and their interactions.\n",
    "\n",
    "###### In ANOVA, the total variance is partitioned into three components:\n",
    "1.Between-Groups Variance (Treatment Variance):\n",
    "This component represents the variability between different groups or levels of the independent variable(s). It reflects the differences in means among the groups being compared. The larger the between-groups variance, the more likely it is that the groups have different population means.\n",
    "\n",
    "2.Within-Groups Variance (Error Variance):\n",
    "This component represents the variability within each group. It accounts for the random variation or noise that exists within groups and is not explained by the independent variable(s). It represents the individual differences or measurement error that is present in the data.\n",
    "\n",
    "3.Interaction Variance:\n",
    "If there are multiple independent variables, the interaction variance represents the variability due to the interaction between these variables. It captures the unique effects when the combination of the independent variables influences the dependent variable differently than what would be expected from the individual effects of each variable."
   ]
  },
  {
   "cell_type": "code",
   "execution_count": null,
   "id": "ef3fee6b-0a9e-4830-a38e-2cbd7b71d1b5",
   "metadata": {},
   "outputs": [],
   "source": [
    "Q4. How would you calculate the total sum of squares (SST), explained sum of squares (SSE), and residual\n",
    "sum of squares (SSR) in a one-way ANOVA using Python?"
   ]
  },
  {
   "cell_type": "code",
   "execution_count": 8,
   "id": "61a30c10-6190-4596-9b1c-08e8e1eb5dda",
   "metadata": {},
   "outputs": [
    {
     "name": "stdout",
     "output_type": "stream",
     "text": [
      "Top 5 rows of IRIS dataset : \n",
      "   sepal_length  sepal_width  petal_length  petal_width species\n",
      "0           5.1          3.5           1.4          0.2  setosa\n",
      "1           4.9          3.0           1.4          0.2  setosa\n",
      "2           4.7          3.2           1.3          0.2  setosa\n",
      "3           4.6          3.1           1.5          0.2  setosa\n",
      "4           5.0          3.6           1.4          0.2  setosa\n",
      "\n",
      "--------------------------------------------------------------\n",
      "\n",
      "Values for Sepal Length vs Species:\n",
      "SS_between: 63.2121\n",
      "SS_within: 38.9562\n",
      "SS_Total: 102.1683\n",
      "\n",
      "--------------------------------------------------------------\n",
      "\n",
      "             df     sum_sq    mean_sq           F        PR(>F)\n",
      "species     2.0  63.212133  31.606067  119.264502  1.669669e-31\n",
      "Residual  147.0  38.956200   0.265008         NaN           NaN\n"
     ]
    }
   ],
   "source": [
    "import pandas as pd\n",
    "from statsmodels.formula.api import ols\n",
    "import seaborn as sns\n",
    "from statsmodels.stats.anova import anova_lm\n",
    "\n",
    "# Loading Iris dataset from seaborn\n",
    "df_iris = sns.load_dataset('iris')\n",
    "print('Top 5 rows of IRIS dataset : ')\n",
    "print(df_iris.head())\n",
    "print('\\n--------------------------------------------------------------\\n')\n",
    "\n",
    "# Fit the one-way ANOVA model (sepal length vs Species)\n",
    "model = ols('sepal_length ~ species', data=df_iris).fit()\n",
    "\n",
    "# Calculate the sum of squares for the model\n",
    "print('Values for Sepal Length vs Species:')\n",
    "SS_between = model.ess\n",
    "SS_within = model.ssr\n",
    "SS_Total = SS_between + SS_within\n",
    "\n",
    "print('SS_between:', round(SS_between,4))\n",
    "print('SS_within:', round(SS_within,4))\n",
    "print('SS_Total:', round(SS_Total,4))\n",
    "\n",
    "print('\\n--------------------------------------------------------------\\n')\n",
    "# Print the ANOVA table\n",
    "print(anova_lm(model))"
   ]
  },
  {
   "cell_type": "code",
   "execution_count": null,
   "id": "21d6a4bb-796c-4d23-848f-b8bda307fb34",
   "metadata": {},
   "outputs": [],
   "source": [
    "Q5. In a two-way ANOVA, how would you calculate the main effects and interaction effects using Python?"
   ]
  },
  {
   "cell_type": "code",
   "execution_count": 9,
   "id": "d5aeefa1-4728-4395-a53b-692ad2bb8a52",
   "metadata": {},
   "outputs": [
    {
     "name": "stdout",
     "output_type": "stream",
     "text": [
      "Top 5 rows of Tooth Growth Dataset\n",
      "    len supp  dose\n",
      "0   4.2   VC   0.5\n",
      "1  11.5   VC   0.5\n",
      "2   7.3   VC   0.5\n",
      "3   5.8   VC   0.5\n",
      "4   6.4   VC   0.5\n",
      "\n",
      "==============================================================\n",
      "\n",
      "Main effects:\n",
      "C(supp)     205.350000\n",
      "C(dose)    2426.434333\n",
      "Name: sum_sq, dtype: float64\n",
      "\n",
      "==============================\n",
      "\n",
      "Interaction effect:\n",
      "C(supp):C(dose)    108.319\n",
      "Name: sum_sq, dtype: float64\n",
      "\n",
      "==============================\n",
      "\n",
      "ANOVA Table:\n",
      "                      sum_sq    df          F        PR(>F)\n",
      "C(supp)           205.350000   1.0  15.571979  2.311828e-04\n",
      "C(dose)          2426.434333   2.0  91.999965  4.046291e-18\n",
      "C(supp):C(dose)   108.319000   2.0   4.106991  2.186027e-02\n",
      "Residual          712.106000  54.0        NaN           NaN\n"
     ]
    }
   ],
   "source": [
    "import numpy as np\n",
    "import pandas as pd\n",
    "import statsmodels.api as sm\n",
    "from statsmodels.formula.api import ols\n",
    "\n",
    "# Load the inbuilt dataset from statsmodels\n",
    "data = sm.datasets.get_rdataset(\"ToothGrowth\", \"datasets\").data\n",
    "\n",
    "# printing top 5 rows of Tooth Growth dataset\n",
    "print('Top 5 rows of Tooth Growth Dataset')\n",
    "print(data.head())\n",
    "print('\\n==============================================================\\n')\n",
    "\n",
    "# Define the model formula\n",
    "model_formula = \"len ~ C(supp) + C(dose) + C(supp):C(dose)\"\n",
    "\n",
    "# Fit the model using OLS regression\n",
    "model = ols(model_formula, data).fit()\n",
    "\n",
    "# Calculate the main effects and interaction effects\n",
    "main_effects = sm.stats.anova_lm(model, typ=2)['sum_sq'][:2]\n",
    "interaction_effect = sm.stats.anova_lm(model, typ=2)['sum_sq'][2:3]\n",
    "\n",
    "# Print the results\n",
    "print(\"Main effects:\")\n",
    "print(main_effects)\n",
    "print(\"\\n==============================\\n\")\n",
    "print(\"Interaction effect:\")\n",
    "print(interaction_effect)\n",
    "print(\"\\n==============================\\n\")\n",
    "print(\"ANOVA Table:\")\n",
    "print(anova_lm(model,typ=2))"
   ]
  },
  {
   "cell_type": "code",
   "execution_count": null,
   "id": "4e31712b-2351-40a4-9424-465a71d2c3c0",
   "metadata": {},
   "outputs": [],
   "source": [
    "Q6. Suppose you conducted a one-way ANOVA and obtained an F-statistic of 5.23 and a p-value of 0.02.\n",
    "What can you conclude about the differences between the groups, and how would you interpret these\n",
    "results?"
   ]
  },
  {
   "cell_type": "markdown",
   "id": "694f2625-7438-46fc-8cf0-1ed1697434e0",
   "metadata": {},
   "source": [
    "Significance value is not given in above problem I am assuming significance value of alpha = 0.05\n",
    "If the alpha value is 0.05 and the p-value is 0.02, then we can REJECT the null hypothesis at the 0.05 level of significance. This means that there is sufficient evidence to conclude that there is a statistically significant difference between the groups.\n",
    "\n",
    "In this case, we would reject the null hypothesis, indicating that there is a significant difference between the groups. However, we still need to investigate the direction of this difference and which specific groups are different from each other.\n",
    "\n",
    "The F-statistic of 5.23 suggests that there is a difference between the groups, and the magnitude of the F-value indicates that the variability between groups is 5.23 times the variability within groups. However, post-hoc tests or further analyses are necessary to determine which groups are significantly different from each other.\n",
    "\n",
    "Post Hoc methods like Tukey's Honestly Significant Difference (HSD), Bonferroni correction, Scheffe's method can be used for further analysis of means"
   ]
  },
  {
   "cell_type": "code",
   "execution_count": null,
   "id": "bc7a65a3-df69-418b-9c3f-ce6fcf04bcf0",
   "metadata": {},
   "outputs": [],
   "source": [
    "Q7. In a repeated measures ANOVA, how would you handle missing data, and what are the potential\n",
    "consequences of using different methods to handle missing data?"
   ]
  },
  {
   "cell_type": "markdown",
   "id": "b3b472ee-2dab-4ce1-a9f9-8d99ba7e91d4",
   "metadata": {},
   "source": [
    "#### Ans.\n",
    "In repeated measures ANOVA, missing data can occur when one or more measurements are not available for a particular subject at a specific time point. There are several methods to handle missing data in repeated measures ANOVA, each with its own potential consequences:\n",
    "\n",
    "\n",
    "1.Complete Case Analysis (CCA): This method involves excluding any participant with missing data from the analysis. CCA is easy to implement and can lead to unbiased estimates if data are missing at random. However, it can result in a loss of statistical power, and the assumption of missing completely at random (MCAR) may be violated.\n",
    "\n",
    "2.Last Observation Carried Forward (LOCF): This method involves using the last observed value of a variable as a substitute for any missing values for that variable at later time points. LOCF can produce biased estimates if the assumption that missing values are missing completely at random (MCAR) is not met.\n",
    "\n",
    "3.Multiple Imputation (MI): This method involves imputing missing values with plausible values, and then analyzing each of the completed datasets separately. MI can lead to unbiased estimates if data are missing at random (MAR) or missing not at random (MNAR), but it can be computationally intensive and requires making assumptions about the distribution of the missing data.\n",
    "\n",
    "4.Maximum Likelihood (ML): This method involves estimating model parameters using all available data and allowing for missing values. ML can lead to unbiased estimates if data are missing at random (MAR), but it requires making assumptions about the distribution of the missing data."
   ]
  },
  {
   "cell_type": "code",
   "execution_count": null,
   "id": "21f2b35b-da01-4fde-89b5-c53ecc41c854",
   "metadata": {},
   "outputs": [],
   "source": [
    "Q8. What are some common post-hoc tests used after ANOVA, and when would you use each one? Provide\n",
    "an example of a situation where a post-hoc test might be necessary."
   ]
  },
  {
   "cell_type": "markdown",
   "id": "8652ccf2-9c71-4ff1-a516-a056f5c6081f",
   "metadata": {},
   "source": [
    "#### Ans.\n",
    "\n",
    "Post-hoc tests are used in ANOVA to compare specific pairs of groups after a significant main effect or interaction effect has been found. Some common post-hoc tests include:\n",
    "\n",
    "\n",
    "1.Tukey's Honestly Significant Difference (HSD) test: This test compares all possible pairs of group means and controls for the family-wise error rate. It is often used when the number of groups is equal or large, and when there is no prior knowledge about which groups differ.\n",
    "\n",
    "2.Bonferroni correction: This test controls the family-wise error rate by dividing the alpha level by the number of comparisons. It is often used when there are few groups or when there is prior knowledge about which groups differ.\n",
    "\n",
    "3.Scheffe's test: This test also controls the family-wise error rate but is more conservative than Tukey's HSD test. It is often used when the number of groups is large, and when there is no prior knowledge about which groups differ.\n",
    "\n",
    "4.Dunnett's test: This test compares each group mean to a control group mean and controls for the family-wise error rate. It is often used when there is a control group and when the research question is focused on comparing other groups to the control group."
   ]
  },
  {
   "cell_type": "code",
   "execution_count": null,
   "id": "388041dd-f56e-4f10-8fce-df5a3baedd0c",
   "metadata": {},
   "outputs": [],
   "source": [
    "Q9. A researcher wants to compare the mean weight loss of three diets: A, B, and C. They collect data from\n",
    "50 participants who were randomly assigned to one of the diets. Conduct a one-way ANOVA using Python\n",
    "to determine if there are any significant differences between the mean weight loss of the three diets.\n",
    "Report the F-statistic and p-value, and interpret the results."
   ]
  },
  {
   "cell_type": "code",
   "execution_count": 10,
   "id": "f9225441-637a-40b0-825e-cd6b060a975e",
   "metadata": {},
   "outputs": [
    {
     "name": "stdout",
     "output_type": "stream",
     "text": [
      "F-statistic: 57.06379442059458\n",
      "p-value: 4.5619061215783055e-19\n",
      "We reject the null hypothesis.\n",
      "Conclusion : The mean weight loss is different for at least one diet.\n"
     ]
    }
   ],
   "source": [
    "import numpy as np\n",
    "from scipy.stats import f_oneway\n",
    "\n",
    "# Generate simulated data assuming normal distribution with same variance\n",
    "np.random.seed(1)\n",
    "diet_A = np.random.normal(5, 1, 50)\n",
    "diet_B = np.random.normal(4, 1, 50)\n",
    "diet_C = np.random.normal(3, 1, 50)\n",
    "\n",
    "# Perform one-way ANOVA\n",
    "f_statistic, p_value = f_oneway(diet_A, diet_B, diet_C)\n",
    "\n",
    "# Set significance level\n",
    "alpha = 0.05\n",
    "\n",
    "# Null hypothesis: The mean weight loss is the same for all three diets.\n",
    "# Alternative hypothesis: The mean weight loss is different for at least one diet.\n",
    "null_hypothesis = \"The mean weight loss is the same for all three diets.\"\n",
    "alternate_hypothesis = \"The mean weight loss is different for at least one diet.\"\n",
    "\n",
    "print(\"F-statistic:\", f_statistic)\n",
    "print(\"p-value:\", p_value)\n",
    "if p_value < alpha:\n",
    "    print(\"We reject the null hypothesis.\")\n",
    "    print(f\"Conclusion : {alternate_hypothesis}\")\n",
    "else:\n",
    "    print(\"We fail to reject the null hypothesis.\")\n",
    "    print(f\"Conclusion : {null_hypothesis}\")"
   ]
  },
  {
   "cell_type": "code",
   "execution_count": 11,
   "id": "9c91f1f9-3a2b-4492-8a39-f2d45ba762de",
   "metadata": {},
   "outputs": [
    {
     "name": "stdout",
     "output_type": "stream",
     "text": [
      "Multiple Comparison of Means - Tukey HSD, FWER=0.05\n",
      "===================================================\n",
      "group1 group2 meandiff p-adj  lower   upper  reject\n",
      "---------------------------------------------------\n",
      "     A      B  -0.8278   0.0 -1.2477 -0.4079   True\n",
      "     A      C  -1.8898   0.0 -2.3097 -1.4699   True\n",
      "     B      C   -1.062   0.0 -1.4819 -0.6421   True\n",
      "---------------------------------------------------\n"
     ]
    }
   ],
   "source": [
    "import numpy as np\n",
    "from statsmodels.stats.multicomp import pairwise_tukeyhsd\n",
    "\n",
    "#create DataFrame to hold data\n",
    "df = pd.DataFrame({'weight_loss': list(diet_A) + list(diet_B) + list(diet_C),\n",
    "                   'group': np.repeat(['A', 'B', 'C'], repeats=50)})\n",
    "\n",
    "# perform Tukey's test\n",
    "tukey = pairwise_tukeyhsd(endog=df['weight_loss'],\n",
    "                          groups=df['group'],\n",
    "                          alpha=0.05)\n",
    "\n",
    "# Print results\n",
    "print(tukey)"
   ]
  },
  {
   "cell_type": "code",
   "execution_count": null,
   "id": "20ac2b83-21d5-4d1e-8513-1c7f3961afdb",
   "metadata": {},
   "outputs": [],
   "source": [
    "Q10. A company wants to know if there are any significant differences in the average time it takes to\n",
    "complete a task using three different software programs: Program A, Program B, and Program C. They\n",
    "randomly assign 30 employees to one of the programs and record the time it takes each employee to\n",
    "complete the task. Conduct a two-way ANOVA using Python to determine if there are any main effects or\n",
    "interaction effects between the software programs and employee experience level (novice vs.\n",
    "experienced). Report the F-statistics and p-values, and interpret the results."
   ]
  },
  {
   "cell_type": "code",
   "execution_count": 12,
   "id": "ecaff494-f83d-4ab1-b653-7226e32290bb",
   "metadata": {},
   "outputs": [
    {
     "name": "stdout",
     "output_type": "stream",
     "text": [
      "Simulated Data example :\n",
      "  Software Experience       Time\n",
      "0        A     Novice  12.828739\n",
      "1        A     Novice  16.994691\n",
      "2        A     Novice  15.565957\n",
      "3        A     Novice  11.987411\n",
      "4        A     Novice  13.842799\n",
      "\n",
      "======================================================================================\n",
      "\n",
      "                             df      sum_sq     mean_sq          F  \\\n",
      "C(Software)                 2.0  204.881181  102.440590  18.135666   \n",
      "C(Experience)               1.0  165.079097  165.079097  29.224933   \n",
      "C(Software):C(Experience)   2.0   17.481552    8.740776   1.547431   \n",
      "Residual                   56.0  316.319953    5.648571        NaN   \n",
      "\n",
      "                                 PR(>F)  \n",
      "C(Software)                8.460472e-07  \n",
      "C(Experience)              1.375177e-06  \n",
      "C(Software):C(Experience)  2.217544e-01  \n",
      "Residual                            NaN  \n",
      "\n",
      "\n",
      "Conclusion: There is a significant main effect of software.\n",
      "Conclusion: There is a significant main effect of experience.\n",
      "Conclusion: There is no significant interaction effect between software and experience.\n"
     ]
    }
   ],
   "source": [
    "import pandas as pd\n",
    "import statsmodels.api as sm\n",
    "from statsmodels.formula.api import ols\n",
    "\n",
    "# Setting random seed for reproducibility\n",
    "np.random.seed(123)\n",
    "\n",
    "# Generating 2 random time samples for novice and expert\n",
    "time_novice = np.random.normal(loc=15, scale=2, size=30)\n",
    "time_expert = np.random.normal(loc=10, scale=2, size=30)\n",
    "\n",
    "# Generate simulated data\n",
    "data = pd.DataFrame({\n",
    "    'Software': ['A']*20 + ['B']*20 + ['C']*20,\n",
    "    'Experience': ['Novice']*30 + ['Experienced']*30,\n",
    "    'Time': list(time_novice)+list(time_expert)\n",
    "})\n",
    "\n",
    "# Print the simulated data head \n",
    "print('Simulated Data example :')\n",
    "print(data.head())\n",
    "\n",
    "print('\\n======================================================================================\\n')\n",
    "\n",
    "# Fit the two-way ANOVA model\n",
    "model = ols('Time ~ C(Software) + C(Experience) + C(Software):C(Experience)', data=data).fit()\n",
    "table = sm.stats.anova_lm(model, typ=1)\n",
    "\n",
    "# Set significance level\n",
    "alpha = 0.05\n",
    "\n",
    "# Main effects and interaction effect\n",
    "print(table)\n",
    "print('\\n')\n",
    "if table['PR(>F)'][0] < alpha:\n",
    "    print(\"Conclusion: There is a significant main effect of software.\")\n",
    "else:\n",
    "    print(\"Conclusion: There is no significant main effect of software.\")\n",
    "\n",
    "if table['PR(>F)'][1] < alpha:\n",
    "    print(\"Conclusion: There is a significant main effect of experience.\")\n",
    "else:\n",
    "    print(\"Conclusion: There is no significant main effect of experience.\")\n",
    "\n",
    "if table['PR(>F)'][2] < alpha:\n",
    "    print(\"Conclusion: There is a significant interaction effect between software and experience.\")\n",
    "else:\n",
    "    print(\"Conclusion: There is no significant interaction effect between software and experience.\")"
   ]
  },
  {
   "cell_type": "code",
   "execution_count": null,
   "id": "081afb82-38fe-41c5-80a6-289996b8ec5c",
   "metadata": {},
   "outputs": [],
   "source": [
    "Q11. An educational researcher is interested in whether a new teaching method improves student test\n",
    "scores. They randomly assign 100 students to either the control group (traditional teaching method) or the\n",
    "experimental group (new teaching method) and administer a test at the end of the semester. Conduct a\n",
    "two-sample t-test using Python to determine if there are any significant differences in test scores\n",
    "between the two groups. If the results are significant, follow up with a post-hoc test to determine which\n",
    "group(s) differ significantly from each other."
   ]
  },
  {
   "cell_type": "code",
   "execution_count": 15,
   "id": "9c677676-72da-48d8-b200-20e9eb8d937e",
   "metadata": {},
   "outputs": [
    {
     "name": "stdout",
     "output_type": "stream",
     "text": [
      "Simulated data for test_scores:\n",
      "   test_score    group\n",
      "0   70.079124  control\n",
      "1   70.780965  control\n",
      "2   68.814563  control\n",
      "3   69.387097  control\n",
      "4   66.185102  control\n",
      "\n",
      "===============================\n",
      "\n",
      "t-statistic: -28.5074, p-value: 3.096206271894725e-49\n",
      "\n",
      "\n",
      "Reject the Null Hypothesis\n",
      "Conclusion : There is SIGNIFICANT difference in test scores between the control and experimental groups.\n"
     ]
    }
   ],
   "source": [
    "#1. Two sample t-test , alpha=0.05\n",
    "import pandas as pd\n",
    "import numpy as np\n",
    "from scipy.stats import ttest_ind\n",
    "\n",
    "# Setting numpy random seed\n",
    "np.random.seed(45)\n",
    "\n",
    "# Generating normal test scores with same variance for both control groups\n",
    "test_score_control = np.random.normal(loc=70, scale=3, size=50)\n",
    "test_score_experimental = np.random.normal(loc=85, scale=3, size=50)\n",
    "\n",
    "# Creating the dataframe\n",
    "df = pd.DataFrame({'test_score':list(test_score_control)+list(test_score_experimental),\n",
    "                   'group':['control']*50 + ['experimental']*50})\n",
    "\n",
    "# printing the sample dataframe\n",
    "print('Simulated data for test_scores:')\n",
    "print(df.head())\n",
    "print('\\n===============================\\n')\n",
    "\n",
    "null_hypothesis = \"There is NO difference in test scores between the control and experimental groups.\"\n",
    "alt_hypothesis = \"There is SIGNIFICANT difference in test scores between the control and experimental groups.\"\n",
    "\n",
    "# Conduct the two-sample t-test\n",
    "control_scores = df[df['group'] == 'control']['test_score']\n",
    "experimental_scores = df[df['group'] == 'experimental']['test_score']\n",
    "t_stat, p_val = ttest_ind(control_scores, experimental_scores, equal_var=True)\n",
    "print(f\"t-statistic: {t_stat:.4f}, p-value: {p_val}\")\n",
    "print('\\n')\n",
    "\n",
    "# Significance value \n",
    "alpha = 0.05\n",
    "if p_val<alpha:\n",
    "    print('Reject the Null Hypothesis')\n",
    "    print(f'Conclusion : {alt_hypothesis}')\n",
    "else:\n",
    "    print('Failed to reject the Null Hypothesis')\n",
    "    print(f'Conclusion : {null_hypothesis}')"
   ]
  },
  {
   "cell_type": "code",
   "execution_count": 16,
   "id": "f9c25534-ce0b-4b31-81f6-1f44dd3c28f3",
   "metadata": {},
   "outputs": [
    {
     "name": "stdout",
     "output_type": "stream",
     "text": [
      "   Multiple Comparison of Means - Tukey HSD, FWER=0.05    \n",
      "==========================================================\n",
      " group1    group2    meandiff p-adj  lower   upper  reject\n",
      "----------------------------------------------------------\n",
      "control experimental  15.8829   0.0 14.7773 16.9886   True\n",
      "----------------------------------------------------------\n"
     ]
    }
   ],
   "source": [
    "#2. Tukey's HSD test\n",
    "from statsmodels.stats.multicomp import pairwise_tukeyhsd\n",
    "\n",
    "# Conduct post-hoc Tukey's test\n",
    "tukey_results = pairwise_tukeyhsd(df['test_score'], df['group'], 0.05)\n",
    "print(tukey_results)"
   ]
  },
  {
   "cell_type": "code",
   "execution_count": null,
   "id": "0f39fd20-9863-4112-b4d1-8d0cba26079d",
   "metadata": {},
   "outputs": [],
   "source": [
    "Q12. A researcher wants to know if there are any significant differences in the average daily sales of three\n",
    "retail stores: Store A, Store B, and Store C. They randomly select 30 days and record the sales for each store\n",
    "on those days. Conduct a repeated measures ANOVA using Python to determine if there are any\n",
    "\n",
    "significant differences in sales between the three stores. If the results are significant, follow up\n",
    "with a post-hoc test to determine which store(s) differ significantly from each other."
   ]
  },
  {
   "cell_type": "code",
   "execution_count": 17,
   "id": "9b850b07-9e53-4455-b717-403c4f643751",
   "metadata": {},
   "outputs": [
    {
     "name": "stdout",
     "output_type": "stream",
     "text": [
      "Generated data top 5 rows : \n",
      "   Day    Store        Sales\n",
      "0    0  Store A   933.187150\n",
      "1    1  Store A   950.179048\n",
      "2    2  Store A  1061.857582\n",
      "3    3  Store A  1056.869225\n",
      "4    4  Store A  1135.050948\n",
      "\n",
      "================================================\n",
      "\n",
      "               Anova\n",
      "===================================\n",
      "      F Value Num DF  Den DF Pr > F\n",
      "-----------------------------------\n",
      "Store 51.5040 2.0000 58.0000 0.0000\n",
      "===================================\n",
      "\n",
      "Reject the Null Hypothesis : Atleast one of the group has different mean.\n",
      "\n",
      "Tukey HSD posthoc test:\n",
      "    Multiple Comparison of Means - Tukey HSD, FWER=0.05    \n",
      "===========================================================\n",
      " group1  group2  meandiff p-adj    lower     upper   reject\n",
      "-----------------------------------------------------------\n",
      "Store A Store B   21.2439 0.6945   -40.881   83.3688  False\n",
      "Store A Store C -207.8078    0.0 -269.9328 -145.6829   True\n",
      "Store B Store C -229.0517    0.0 -291.1766 -166.9268   True\n",
      "-----------------------------------------------------------\n"
     ]
    }
   ],
   "source": [
    "#Assumed signifincance value of 0.05\n",
    "\n",
    "import numpy as np\n",
    "import pandas as pd\n",
    "from statsmodels.stats.anova import AnovaRM\n",
    "from statsmodels.stats.multicomp import pairwise_tukeyhsd\n",
    "\n",
    "# set random seed for reproducibility\n",
    "np.random.seed(456)\n",
    "\n",
    "# generate sales data for Store A, B, and C\n",
    "sales_a = np.random.normal(loc=1000, scale=100, size=(30,))\n",
    "sales_b = np.random.normal(loc=1050, scale=150, size=(30,))\n",
    "sales_c = np.random.normal(loc=800, scale=80, size=(30,))\n",
    "\n",
    "# create a DataFrame to store the sales data\n",
    "sales_df = pd.DataFrame({'Store A': sales_a, 'Store B': sales_b, 'Store C': sales_c})\n",
    "\n",
    "# reshape the DataFrame for repeated measures ANOVA\n",
    "sales_melted = pd.melt(sales_df.reset_index(), id_vars=['index'], value_vars=['Store A', 'Store B', 'Store C'])\n",
    "sales_melted.columns = ['Day', 'Store', 'Sales']\n",
    "\n",
    "# Printing top 5 rows of generated data\n",
    "print('Generated data top 5 rows : ')\n",
    "print(sales_melted.head())\n",
    "\n",
    "print('\\n================================================\\n')\n",
    "\n",
    "# perform repeated measures ANOVA\n",
    "rm_anova = AnovaRM(sales_melted, 'Sales', 'Day', within=['Store'])\n",
    "rm_results = rm_anova.fit()\n",
    "print(rm_results)\n",
    "\n",
    "# check if null hypothesis should be rejected based on p-value\n",
    "if rm_results.anova_table['Pr > F'][0] < 0.05:\n",
    "    # perform post-hoc Tukey test\n",
    "    print('Reject the Null Hypothesis : Atleast one of the group has different mean.\\n')\n",
    "    print('Tukey HSD posthoc test:')\n",
    "    tukey_results = pairwise_tukeyhsd(sales_melted['Sales'], sales_melted['Store'])\n",
    "    print(tukey_results)\n",
    "else:\n",
    "    print('NO significant difference between groups.')"
   ]
  },
  {
   "cell_type": "markdown",
   "id": "7cd8debd-3a88-4a93-bce4-a27704ea14e1",
   "metadata": {},
   "source": [
    "##### Interpretation of above\n",
    "1.In Repeated Measure ANOVA test we got p_value (Pr>F) as 0.0000 which is less than 0.05 .Reject the Null Hypothesis .Which means atleast one of the mean of groups is different.\n",
    "\n",
    "2.In Tukey's Post Hoc Test we get following interpretation :\n",
    "\n",
    "    *. No significant difference between sales of Store A and Store B. Store B earns 21.24 dollars more than store A(becuse reject=False for this)\n",
    "   \n",
    "    *.Significant difference between sales of Store A and Store C . Store C has approx 207.8 dollars lesser compared to store A (reject=True)\n",
    "    \n",
    "    *.Siginficant difference between sales of Store B and Store C . Store C has approx 229.0 dollars lesser compared to store B (reject=True)"
   ]
  },
  {
   "cell_type": "code",
   "execution_count": null,
   "id": "2bdc6c34-45d6-40da-b59f-d2e1cedfe391",
   "metadata": {},
   "outputs": [],
   "source": []
  }
 ],
 "metadata": {
  "kernelspec": {
   "display_name": "Python 3 (ipykernel)",
   "language": "python",
   "name": "python3"
  },
  "language_info": {
   "codemirror_mode": {
    "name": "ipython",
    "version": 3
   },
   "file_extension": ".py",
   "mimetype": "text/x-python",
   "name": "python",
   "nbconvert_exporter": "python",
   "pygments_lexer": "ipython3",
   "version": "3.10.8"
  }
 },
 "nbformat": 4,
 "nbformat_minor": 5
}
