{
 "cells": [
  {
   "cell_type": "code",
   "execution_count": 10,
   "id": "6921c45c-14ed-4e81-8e9c-58b82ba7bf62",
   "metadata": {},
   "outputs": [
    {
     "data": {
      "text/plain": [
       "\"***************************** 29th April'23 Assignment *****************************\""
      ]
     },
     "execution_count": 10,
     "metadata": {},
     "output_type": "execute_result"
    }
   ],
   "source": [
    "\"\"\"***************************** 29th April'23 Assignment *****************************\"\"\""
   ]
  },
  {
   "cell_type": "markdown",
   "id": "3a0420ac-3601-45ae-be96-9e232908adbe",
   "metadata": {},
   "source": [
    "# Clustering-3"
   ]
  },
  {
   "cell_type": "markdown",
   "id": "2aa29b2a-c60a-4ccc-a196-fb2ba67dfe30",
   "metadata": {},
   "source": [
    "#### Q1. Explain the basic concept of clustering and give examples of applications where clustering is useful.\n",
    "#### Ans.\n",
    "Clustering is a technique in machine learning and data analysis that involves grouping similar data points together based on certain features or characteristics. The goal is to create clusters or groups where data points within the same cluster are more similar to each other than to those in other clusters. This helps in identifying patterns, structure, and relationships within a dataset.\n",
    "\n",
    "***Here's a basic overview of the clustering process:***\n",
    "\n",
    "- Data Representation: Begin with a dataset containing a collection of data points, each described by a set of features.\n",
    "\n",
    "- Similarity Measurement: Define a measure of similarity or dissimilarity between data points. Common methods include Euclidean distance, cosine similarity, or other distance metrics.\n",
    "\n",
    "- Clustering Algorithm: Apply a clustering algorithm to partition the data into groups based on the defined similarity measure. Examples of clustering algorithms include k-means, hierarchical clustering, and DBSCAN.\n",
    "\n",
    "- Evaluation (optional): Assess the quality of the resulting clusters. Evaluation metrics depend on the specific goals of the analysis, such as maximizing intra-cluster similarity and minimizing inter-cluster similarity.\n",
    "\n",
    "***Examples of applications where clustering is useful include:***\n",
    "\n",
    "1. Customer Segmentation: Cluster customers based on their purchasing behavior, demographics, or preferences. This information can be used for targeted marketing strategies.\n",
    "\n",
    "2. Image Segmentation: Group pixels in an image based on color, intensity, or texture, facilitating tasks like object recognition or image compression.\n",
    "\n",
    "3. Anomaly Detection: Identify unusual patterns or outliers in data by clustering normal behavior and flagging instances that deviate significantly from the norm.\n",
    "\n",
    "4. Document Classification: Group documents with similar content, aiding tasks such as topic modeling or document organization.\n",
    "\n",
    "5. Genomic Clustering: Analyze biological data to identify groups of genes or proteins with similar functions, aiding in the understanding of genetic relationships.\n",
    "\n",
    "6. Network Security: Cluster network traffic data to detect abnormal patterns or cyber threats by identifying unusual communication behavior.\n",
    "\n",
    "7. Search Result Clustering: Organize search results into clusters to improve user experience and provide more relevant information."
   ]
  },
  {
   "cell_type": "markdown",
   "id": "2e6b8951-b34d-43b2-8dca-bc708bc21324",
   "metadata": {},
   "source": [
    "#### Q2. What is DBSCAN and how does it differ from other clustering algorithms such as k-means and hierarchical clustering?\n",
    "#### Ans.\n",
    "\n",
    "DBSCAN, or Density-Based Spatial Clustering of Applications with Noise, is a clustering algorithm that groups together data points that are close to each other based on a density criterion. It is particularly useful for discovering clusters of arbitrary shapes and handling noise in the data. DBSCAN defines clusters as dense regions of data separated by sparser regions.\n",
    "\n",
    "***Here are the key characteristics of DBSCAN and how it differs from other clustering algorithms like k-means and hierarchical clustering:***\n",
    "\n",
    "1. Density-Based Approach:\n",
    "\n",
    "    - DBSCAN: Clusters are formed based on the density of data points. It defines clusters as areas of higher data point density separated by areas of lower density. It can identify clusters of different shapes and is robust to outliers.\n",
    "    - K-means: Clusters are formed by assigning data points to the mean of a cluster. It assumes clusters are spherical and equally sized, making it less effective for irregularly shaped clusters.\n",
    "    - Hierarchical Clustering: This method builds a hierarchy of clusters. The linkage between clusters is based on distance metrics. It doesn't explicitly consider density.\n",
    "\n",
    "2. Number of Clusters:\n",
    "\n",
    "    - DBSCAN: Does not require the user to specify the number of clusters in advance. It can discover clusters of varying sizes.\n",
    "    - K-means: Requires the user to specify the number of clusters (k) beforehand, and it can struggle with clusters of different sizes.\n",
    "    - Hierarchical Clustering: The user can choose the number of clusters after inspecting the dendrogram, but it involves a hierarchical structure rather than a fixed number of clusters.\n",
    "\n",
    "3. Handling Outliers:\n",
    "\n",
    "    - DBSCAN: Can identify and label outliers as noise, as they don't belong to any dense cluster.\n",
    "    - K-means: Sensitive to outliers, as they can significantly affect the cluster centroids.\n",
    "    - Hierarchical Clustering: Outliers can be assigned to clusters but might not be explicitly identified.\n",
    "\n",
    "4. Cluster Shape:\n",
    "\n",
    "    - DBSCAN: Can identify clusters of arbitrary shapes because it considers the density of data points.\n",
    "    - K-means: Assumes spherical clusters, which might not be suitable for irregularly shaped clusters.\n",
    "    - Hierarchical Clustering: The linkage method used (single, complete, average, etc.) affects the shapes of clusters, but it doesn't explicitly consider density."
   ]
  },
  {
   "cell_type": "markdown",
   "id": "65931f48-a9e7-45ff-9eea-67d673c71695",
   "metadata": {},
   "source": [
    "#### Q3. How do you determine the optimal values for the epsilon and minimum points parameters in DBSCAN clustering?\n",
    "#### Ans.\n",
    "1. Visual Inspection:\n",
    "\n",
    "    - Plot the data and visually inspect its density distribution. This can help you get a sense of the appropriate scale for the epsilon parameter and the minimum number of points required to form a cluster.\n",
    "\n",
    "2. Knee Point in the K-Distance Graph:\n",
    "\n",
    "    - Compute the distance to the k-nearest neighbor for each data point (k-distance) and plot it. The knee point, where the rate of change sharply increases, can be a good estimate for the optimal epsilon value.\n",
    "\n",
    "3. Reachability Plot:\n",
    "\n",
    "    - Plot the data points based on their reachability distances. The reachability distance is the maximum distance at which a point can be reached from another point in the cluster. Visualizing this plot may help in determining the optimal epsilon.\n",
    "\n",
    "4. Silhouette Score:\n",
    "\n",
    "    - Use the silhouette score to evaluate the quality of the clustering for different parameter values. The silhouette score measures how similar an object is to its own cluster (cohesion) compared to other clusters (separation). Choose parameter values that maximize the silhouette score.\n",
    "\n",
    "5. Grid Search:\n",
    "\n",
    "    - Perform a grid search over a range of parameter values and evaluate the clustering performance using a validation metric. This involves systematically trying different combinations of epsilon and minimum points and selecting the values that yield the best results.\n",
    "\n",
    "6. Domain Knowledge:\n",
    "\n",
    "    - 8Consider any domain-specific knowledge about the data. For example, if you have prior knowledge about the expected size and density of clusters, it can guide the choice of parameter values.\n",
    "\n",
    "7. Trial and Error:\n",
    "\n",
    "    - Iteratively try different parameter values and observe the clustering results. Adjust the parameters based on the visual inspection and evaluation metrics until satisfactory clusters are obtained."
   ]
  },
  {
   "cell_type": "markdown",
   "id": "8109ecc0-ed5a-4a1f-b702-5fe54716cda6",
   "metadata": {},
   "source": [
    "#### Q4. How does DBSCAN clustering handle outliers in a dataset?\n",
    "#### Ans.\n",
    "DBSCAN (Density-Based Spatial Clustering of Applications with Noise) is particularly effective in handling outliers in a dataset. In DBSCAN, outliers are considered as noise, and the algorithm explicitly identifies and labels them as such. Here's how DBSCAN handles outliers:\n",
    "\n",
    "***Outlier Detection:***\n",
    "\n",
    "- Points that are not part of any cluster after the clustering process are labeled as noise or outliers.\n",
    "- These outliers are not assigned to any specific cluster, making DBSCAN robust in handling data points that do not belong to well-defined clusters.\n",
    "\n",
    "***Advantages for Outlier Handling:***\n",
    "\n",
    "- DBSCAN is less sensitive to the influence of outliers compared to certain other clustering algorithms, such as k-means.\n",
    "- The density-based nature of DBSCAN allows it to form clusters of arbitrary shapes while effectively ignoring sparse regions and labeling them as noise."
   ]
  },
  {
   "cell_type": "markdown",
   "id": "7e167c8b-fad8-4eb7-8433-90575f0cf682",
   "metadata": {},
   "source": [
    "#### Q5. How does DBSCAN clustering differ from k-means clustering?\n",
    "#### Ans.\n",
    "1. Cluster Shape:\n",
    "\n",
    "    - DBSCAN: Can identify clusters of arbitrary shapes. It is not constrained by assumptions about the shape of clusters and can find clusters with irregular shapes.\n",
    "    - K-means: Assumes that clusters are spherical and equally sized. It may struggle with clusters that have non-spherical or uneven shapes.\n",
    "\n",
    "2. Number of Clusters:\n",
    "\n",
    "    - DBSCAN: Does not require the user to specify the number of clusters in advance. It discovers clusters based on density and can find clusters of varying sizes.\n",
    "    - K-means: Requires the user to specify the number of clusters (k) before the algorithm is applied. This can be a limitation when the actual number of clusters is unknown.\n",
    "\n",
    "3. Outlier Handling:\n",
    "\n",
    "    - DBSCAN: Explicitly identifies outliers as noise. Data points that do not belong to any cluster are labeled as noise.\n",
    "    - K-means: Sensitive to outliers, and outliers can significantly affect the positions of cluster centroids."
   ]
  },
  {
   "cell_type": "markdown",
   "id": "04f7db55-62b6-46fa-927a-2795520255c7",
   "metadata": {},
   "source": [
    "#### Q6. Can DBSCAN clustering be applied to datasets with high dimensional feature spaces? If so, what are some potential challenges?\n",
    "#### Ans.\n",
    "\n",
    "***Applicability:***\n",
    "\n",
    "- DBSCAN is not limited to low-dimensional spaces and can be applied to datasets with a high number of features. Its density-based approach considers the distribution of points in multi-dimensional space.\n",
    "\n",
    "***Curse of Dimensionality:***\n",
    "\n",
    "- In high-dimensional spaces, the \"curse of dimensionality\" becomes a concern. As the number of dimensions increases, the notion of distance becomes less meaningful, and points tend to become uniformly distributed. This can impact the effectiveness of distance-based clustering algorithms, including DBSCAN.\n",
    "\n",
    "***Feature Scaling:***\n",
    "\n",
    "- It is crucial to scale features appropriately. The distance metric used in DBSCAN (typically Euclidean distance) is sensitive to the scale of features. Therefore, normalization or standardization of features may be necessary to ensure that all features contribute equally to the distance calculations.\n",
    "\n",
    "***Dimensionality Reduction:***\n",
    "\n",
    "- Consider employing dimensionality reduction techniques before applying DBSCAN. Techniques like Principal Component Analysis (PCA) or t-Distributed Stochastic Neighbor Embedding (t-SNE) can help reduce the dimensionality of the data while retaining important information, making clustering more effective."
   ]
  },
  {
   "cell_type": "markdown",
   "id": "7cd483cb-451b-4ad7-8ac4-9542a51538fa",
   "metadata": {},
   "source": [
    "#### Q7. How does DBSCAN clustering handle clusters with varying densities?\n",
    "#### Ans.\n",
    "1. Density-Based Clustering:\n",
    "    - DBSCAN identifies clusters based on the density of data points rather than assuming a specific geometric shape for the clusters.\n",
    "    - A cluster in DBSCAN is a dense region of data points, separated by areas of lower density. This allows DBSCAN to find clusters of arbitrary shapes and sizes.\n",
    "\n",
    "2. Core Points, Border Points, and Noise:\n",
    "    - DBSCAN categorizes data points into three types: core points, border points, and noise.\n",
    "    - Core Points: Data points that have at least a specified number of neighbors (minPts) within a specified distance (epsilon, ε).\n",
    "    - Border Points: Points within the ε-distance of a core point but with fewer than minPts neighbors.\n",
    "    - Noise (Outliers): Points that are not core points or border points.\n",
    "\n",
    "3. Cluster Formation:\n",
    "    - The algorithm starts by selecting a random data point. If the point is a core point, a new cluster is formed by including all points that are within the ε-distance of the core point.\n",
    "    - If a border point is reached, it is added to the cluster, but the algorithm does not continue expanding the cluster from the border point.\n",
    "\n",
    "4. Epsilon and MinPts Parameters:\n",
    "    - The epsilon (ε) parameter defines the maximum distance between two data points for one to be considered as in the neighborhood of the other.\n",
    "    - The minPts parameter specifies the minimum number of data points required to form a dense region (core point).\n",
    "    - Adjusting these parameters allows the algorithm to adapt to varying densities in the dataset."
   ]
  },
  {
   "cell_type": "markdown",
   "id": "ebe60066-3abc-4b06-b683-50582b179ad1",
   "metadata": {},
   "source": [
    "#### Q8. What are some common evaluation metrics used to assess the quality of DBSCAN clustering results?\n",
    "#### Ans.\n",
    "1. Silhouette Score:\n",
    "\n",
    "    - The silhouette score measures how similar an object is to its own cluster (cohesion) compared to other clusters (separation). It ranges from -1 to 1, where a higher score indicates better-defined clusters.\n",
    "\n",
    "2. Calinski-Harabasz Index:\n",
    "\n",
    "    - The Calinski-Harabasz index is a ratio of the between-cluster variance to the within-cluster variance. Higher values indicate better-defined and more separated clusters.\n",
    "\n",
    "3. Davies-Bouldin Index:\n",
    "\n",
    "    - The Davies-Bouldin index measures the compactness and separation of clusters. It considers the average similarity between each cluster and its most similar cluster, with lower values indicating better clustering.\n",
    "\n",
    "4. Adjusted Rand Index (ARI):\n",
    "\n",
    "    - The ARI measures the similarity between true and predicted cluster assignments, adjusted for chance. It ranges from -1 to 1, where higher values indicate better clustering.\n",
    "\n",
    "5. Normalized Mutual Information (NMI):\n",
    "\n",
    "    - NMI measures the mutual information between true and predicted cluster assignments, normalized by the entropy of the two assignments. It ranges from 0 to 1, with higher values indicating better clustering."
   ]
  },
  {
   "cell_type": "markdown",
   "id": "bf3ca754-4875-4705-9e1c-e933e6a7e66c",
   "metadata": {},
   "source": [
    "#### Q9. Can DBSCAN clustering be used for semi-supervised learning tasks?\n",
    "#### Ans.\n",
    "DBSCAN (Density-Based Spatial Clustering of Applications with Noise) is primarily an unsupervised clustering algorithm, meaning it doesn't require labeled training data to form clusters. However, it can be used in a semi-supervised learning context when combined with additional information or constraints.\n",
    "\n",
    "It's essential to note that while DBSCAN can be adapted for semi-supervised learning scenarios, it may not be the first choice for tasks with a significant amount of labeled data. Semi-supervised learning methods that are specifically designed to leverage both labeled and unlabeled data, such as self-training or co-training approaches, might be more appropriate in such cases."
   ]
  },
  {
   "cell_type": "markdown",
   "id": "cb63f24d-a277-461a-a649-bfc9bcb3f80a",
   "metadata": {},
   "source": [
    "#### Q10. How does DBSCAN clustering handle datasets with noise or missing values?\n",
    "#### Ans.\n",
    "**Handling Noise:***\n",
    "\n",
    "1. Noise Identification:\n",
    "\n",
    "    - DBSCAN explicitly identifies outliers or noise in the dataset. Points that do not belong to any cluster are labeled as noise.\n",
    "2. Robustness to Outliers:\n",
    "\n",
    "    - DBSCAN is less sensitive to outliers compared to centroid-based methods like k-means. Outliers are typically assigned to their own clusters or labeled as noise.\n",
    "3. Outlier Tolerance:\n",
    "\n",
    "    - The algorithm allows for the specification of parameters like epsilon (ε) and minimum points (minPts), which influence the definition of clusters and, consequently, noise. Tuning these parameters can impact the algorithm's sensitivity to noise.\n",
    "\n",
    "***Handling Missing Values:***\n",
    "1. Impact on Distance Calculations:\n",
    "\n",
    "    - DBSCAN relies on distance metrics (e.g., Euclidean distance) to determine point density and cluster assignments. If there are missing values, the distance between points may be affected. Some implementations of DBSCAN may handle missing values by ignoring them or imputing values, depending on the specific implementation.\n",
    "2. Imputation Strategies:\n",
    "\n",
    "    - Prior to applying DBSCAN, you may choose to impute missing values using various strategies, such as mean imputation, median imputation, or more sophisticated imputation methods. The choice of imputation method should be made based on the characteristics of the data.\n",
    "3. Data Preprocessing:\n",
    "\n",
    "    - Before applying DBSCAN, consider preprocessing the data to handle missing values appropriately. This may involve imputing missing values or removing instances with missing values, depending on the nature of the missing data and its impact on clustering.\n",
    "4. Distance Metrics and Missing Values:\n",
    "\n",
    "    - Some distance metrics can handle missing values, while others cannot. It's important to choose a distance metric that aligns with the treatment of missing values in the dataset. Alternatively, preprocessing steps can be taken to handle missing values before calculating distances.\n",
    "5. Handling Categorical Missing Values:\n",
    "\n",
    "    - For categorical features with missing values, consider encoding them appropriately or imputing them using methods suitable for categorical data."
   ]
  },
  {
   "cell_type": "markdown",
   "id": "a9abc414-f9e2-4d63-9dc4-9e4959d15bf8",
   "metadata": {},
   "source": [
    "#### Q11. Implement the DBSCAN algorithm using a python programming language, and apply it to a sample dataset. Discuss the clustering results and interpret the meaning of the obtained clusters."
   ]
  },
  {
   "cell_type": "code",
   "execution_count": 1,
   "id": "15b2743a-c7f7-4081-887a-b88d5ff5e51b",
   "metadata": {},
   "outputs": [],
   "source": [
    "import pandas as pd\n",
    "import numpy as np\n",
    "import matplotlib.pyplot as plt"
   ]
  },
  {
   "cell_type": "code",
   "execution_count": 2,
   "id": "eed8e217-231f-4b97-9140-04bdbcd4e5c4",
   "metadata": {},
   "outputs": [],
   "source": [
    "from sklearn.datasets import make_moons\n",
    "X,y = make_moons(n_samples=1000)"
   ]
  },
  {
   "cell_type": "code",
   "execution_count": 5,
   "id": "90d57f92-3e9f-4338-9fb9-85c4fed8100a",
   "metadata": {},
   "outputs": [
    {
     "data": {
      "text/plain": [
       "<matplotlib.collections.PathCollection at 0x7f5b93d24400>"
      ]
     },
     "execution_count": 5,
     "metadata": {},
     "output_type": "execute_result"
    },
    {
     "data": {
      "image/png": "[encoded data removed]",
      "text/plain": [
       "<Figure size 640x480 with 1 Axes>"
      ]
     },
     "metadata": {},
     "output_type": "display_data"
    }
   ],
   "source": [
    "plt.scatter(X[:,0],X[:,1])"
   ]
  },
  {
   "cell_type": "code",
   "execution_count": 3,
   "id": "ade1d2b5-8c0d-486a-a6c7-659541bd3921",
   "metadata": {},
   "outputs": [],
   "source": [
    "from sklearn.preprocessing import StandardScaler\n",
    "scaler = StandardScaler()\n",
    "X_scaler = scaler.fit_transform(X)"
   ]
  },
  {
   "cell_type": "code",
   "execution_count": 4,
   "id": "4f305d4f-70c6-48b2-a78b-6c4eb169f3be",
   "metadata": {},
   "outputs": [],
   "source": [
    "from sklearn.cluster import DBSCAN\n",
    "dbscan = DBSCAN(eps=0.75)"
   ]
  },
  {
   "cell_type": "code",
   "execution_count": 6,
   "id": "3c5e669b-c04f-4a16-bc31-fe86c3635746",
   "metadata": {},
   "outputs": [
    {
     "data": {
      "text/html": [
       "<style>#sk-container-id-1 {color: black;background-color: white;}#sk-container-id-1 pre{padding: 0;}#sk-container-id-1 div.sk-toggleable {background-color: white;}#sk-container-id-1 label.sk-toggleable__label {cursor: pointer;display: block;width: 100%;margin-bottom: 0;padding: 0.3em;box-sizing: border-box;text-align: center;}#sk-container-id-1 label.sk-toggleable__label-arrow:before {content: \"▸\";float: left;margin-right: 0.25em;color: #696969;}#sk-container-id-1 label.sk-toggleable__label-arrow:hover:before {color: black;}#sk-container-id-1 div.sk-estimator:hover label.sk-toggleable__label-arrow:before {color: black;}#sk-container-id-1 div.sk-toggleable__content {max-height: 0;max-width: 0;overflow: hidden;text-align: left;background-color: #f0f8ff;}#sk-container-id-1 div.sk-toggleable__content pre {margin: 0.2em;color: black;border-radius: 0.25em;background-color: #f0f8ff;}#sk-container-id-1 input.sk-toggleable__control:checked~div.sk-toggleable__content {max-height: 200px;max-width: 100%;overflow: auto;}#sk-container-id-1 input.sk-toggleable__control:checked~label.sk-toggleable__label-arrow:before {content: \"▾\";}#sk-container-id-1 div.sk-estimator input.sk-toggleable__control:checked~label.sk-toggleable__label {background-color: #d4ebff;}#sk-container-id-1 div.sk-label input.sk-toggleable__control:checked~label.sk-toggleable__label {background-color: #d4ebff;}#sk-container-id-1 input.sk-hidden--visually {border: 0;clip: rect(1px 1px 1px 1px);clip: rect(1px, 1px, 1px, 1px);height: 1px;margin: -1px;overflow: hidden;padding: 0;position: absolute;width: 1px;}#sk-container-id-1 div.sk-estimator {font-family: monospace;background-color: #f0f8ff;border: 1px dotted black;border-radius: 0.25em;box-sizing: border-box;margin-bottom: 0.5em;}#sk-container-id-1 div.sk-estimator:hover {background-color: #d4ebff;}#sk-container-id-1 div.sk-parallel-item::after {content: \"\";width: 100%;border-bottom: 1px solid gray;flex-grow: 1;}#sk-container-id-1 div.sk-label:hover label.sk-toggleable__label {background-color: #d4ebff;}#sk-container-id-1 div.sk-serial::before {content: \"\";position: absolute;border-left: 1px solid gray;box-sizing: border-box;top: 0;bottom: 0;left: 50%;z-index: 0;}#sk-container-id-1 div.sk-serial {display: flex;flex-direction: column;align-items: center;background-color: white;padding-right: 0.2em;padding-left: 0.2em;position: relative;}#sk-container-id-1 div.sk-item {position: relative;z-index: 1;}#sk-container-id-1 div.sk-parallel {display: flex;align-items: stretch;justify-content: center;background-color: white;position: relative;}#sk-container-id-1 div.sk-item::before, #sk-container-id-1 div.sk-parallel-item::before {content: \"\";position: absolute;border-left: 1px solid gray;box-sizing: border-box;top: 0;bottom: 0;left: 50%;z-index: -1;}#sk-container-id-1 div.sk-parallel-item {display: flex;flex-direction: column;z-index: 1;position: relative;background-color: white;}#sk-container-id-1 div.sk-parallel-item:first-child::after {align-self: flex-end;width: 50%;}#sk-container-id-1 div.sk-parallel-item:last-child::after {align-self: flex-start;width: 50%;}#sk-container-id-1 div.sk-parallel-item:only-child::after {width: 0;}#sk-container-id-1 div.sk-dashed-wrapped {border: 1px dashed gray;margin: 0 0.4em 0.5em 0.4em;box-sizing: border-box;padding-bottom: 0.4em;background-color: white;}#sk-container-id-1 div.sk-label label {font-family: monospace;font-weight: bold;display: inline-block;line-height: 1.2em;}#sk-container-id-1 div.sk-label-container {text-align: center;}#sk-container-id-1 div.sk-container {/* jupyter's `normalize.less` sets `[hidden] { display: none; }` but bootstrap.min.css set `[hidden] { display: none !important; }` so we also need the `!important` here to be able to override the default hidden behavior on the sphinx rendered scikit-learn.org. See: https://github.com/scikit-learn/scikit-learn/issues/21755 */display: inline-block !important;position: relative;}#sk-container-id-1 div.sk-text-repr-fallback {display: none;}</style><div id=\"sk-container-id-1\" class=\"sk-top-container\"><div class=\"sk-text-repr-fallback\"><pre>DBSCAN(eps=0.75)</pre><b>In a Jupyter environment, please rerun this cell to show the HTML representation or trust the notebook. <br />On GitHub, the HTML representation is unable to render, please try loading this page with nbviewer.org.</b></div><div class=\"sk-container\" hidden><div class=\"sk-item\"><div class=\"sk-estimator sk-toggleable\"><input class=\"sk-toggleable__control sk-hidden--visually\" id=\"sk-estimator-id-1\" type=\"checkbox\" checked><label for=\"sk-estimator-id-1\" class=\"sk-toggleable__label sk-toggleable__label-arrow\">DBSCAN</label><div class=\"sk-toggleable__content\"><pre>DBSCAN(eps=0.75)</pre></div></div></div></div></div>"
      ],
      "text/plain": [
       "DBSCAN(eps=0.75)"
      ]
     },
     "execution_count": 6,
     "metadata": {},
     "output_type": "execute_result"
    }
   ],
   "source": [
    "dbscan.fit(X_scaler)"
   ]
  },
  {
   "cell_type": "code",
   "execution_count": 8,
   "id": "2f76fd78-45c2-4c92-bf71-e200589150fc",
   "metadata": {},
   "outputs": [
    {
     "data": {
      "text/plain": [
       "array([0, 1, 0, 0, 0, 0, 1, 1, 0, 0])"
      ]
     },
     "execution_count": 8,
     "metadata": {},
     "output_type": "execute_result"
    }
   ],
   "source": [
    "dbscan.labels_[:10]"
   ]
  },
  {
   "cell_type": "code",
   "execution_count": 9,
   "id": "554978f7-25db-4f7c-95b3-11cb0ca7feb0",
   "metadata": {},
   "outputs": [
    {
     "data": {
      "text/plain": [
       "<matplotlib.collections.PathCollection at 0x7f5b93a80eb0>"
      ]
     },
     "execution_count": 9,
     "metadata": {},
     "output_type": "execute_result"
    },
    {
     "data": {
      "image/png": "[encoded data removed]",
      "text/plain": [
       "<Figure size 640x480 with 1 Axes>"
      ]
     },
     "metadata": {},
     "output_type": "display_data"
    }
   ],
   "source": [
    "plt.scatter(X_scaler[:,0],X_scaler[:,1],c=dbscan.labels_)"
   ]
  },
  {
   "cell_type": "code",
   "execution_count": null,
   "id": "755eb51a-b402-45ca-8de4-8ce10f24fd96",
   "metadata": {},
   "outputs": [],
   "source": []
  }
 ],
 "metadata": {
  "kernelspec": {
   "display_name": "Python 3 (ipykernel)",
   "language": "python",
   "name": "python3"
  },
  "language_info": {
   "codemirror_mode": {
    "name": "ipython",
    "version": 3
   },
   "file_extension": ".py",
   "mimetype": "text/x-python",
   "name": "python",
   "nbconvert_exporter": "python",
   "pygments_lexer": "ipython3",
   "version": "3.10.8"
  }
 },
 "nbformat": 4,
 "nbformat_minor": 5
}
