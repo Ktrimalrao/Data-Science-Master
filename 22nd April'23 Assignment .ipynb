{
 "cells": [
  {
   "cell_type": "code",
   "execution_count": 1,
   "id": "e00fb292-86d1-4c3f-9263-3b452c3fd1d7",
   "metadata": {},
   "outputs": [
    {
     "data": {
      "text/plain": [
       "\"***************************** 22nd April'23 Assignment *****************************\""
      ]
     },
     "execution_count": 1,
     "metadata": {},
     "output_type": "execute_result"
    }
   ],
   "source": [
    "\"\"\"***************************** 22nd April'23 Assignment *****************************\"\"\""
   ]
  },
  {
   "cell_type": "markdown",
   "id": "d7053b3e-1051-4fc9-af1a-955d8e0c9ee7",
   "metadata": {},
   "source": [
    "# KNN-3"
   ]
  },
  {
   "cell_type": "markdown",
   "id": "78624e83-2463-4aa9-b754-5bf839cd5c92",
   "metadata": {},
   "source": [
    "#### Q1. Write a Python code to implement the KNN classifier algorithm on load_iris dataset in sklearn.datasets."
   ]
  },
  {
   "cell_type": "code",
   "execution_count": 28,
   "id": "cf1837e6-89a2-4bd2-abb8-d3e5b8dd5ae1",
   "metadata": {},
   "outputs": [],
   "source": [
    "import pandas as pd\n",
    "import seaborn as sns\n",
    "import matplotlib.pyplot as plt\n",
    "import numpy as np"
   ]
  },
  {
   "cell_type": "code",
   "execution_count": 29,
   "id": "c1f77a08-915d-4286-993f-c9fb8f98f913",
   "metadata": {},
   "outputs": [],
   "source": [
    "from sklearn.datasets import load_iris\n",
    "from sklearn.model_selection import train_test_split\n",
    "df = load_iris()\n",
    "X_train,X_test,y_train,y_test=train_test_split(df.data, df.target,test_size=0.33,random_state=42)"
   ]
  },
  {
   "cell_type": "code",
   "execution_count": 30,
   "id": "e9d1a592-9f5e-48a5-a5e7-c559d7a1d280",
   "metadata": {},
   "outputs": [],
   "source": [
    "from sklearn.neighbors import KNeighborsClassifier\n",
    "clasifier = KNeighborsClassifier(n_neighbors=5,algorithm='auto')\n",
    "clasifier.fit(X_train,y_train)\n",
    "y_pred = clasifier.predict(X_test)"
   ]
  },
  {
   "cell_type": "code",
   "execution_count": 31,
   "id": "146055b0-2052-4ba4-8b9e-09398fef5bec",
   "metadata": {},
   "outputs": [
    {
     "name": "stdout",
     "output_type": "stream",
     "text": [
      "Accuracy is : 0.98\n"
     ]
    }
   ],
   "source": [
    "from sklearn.metrics import accuracy_score\n",
    "print(\"Accuracy is :\",accuracy_score(y_test,y_pred))"
   ]
  },
  {
   "cell_type": "markdown",
   "id": "d7868e26-ec8c-4e47-b99d-6943153272c7",
   "metadata": {},
   "source": [
    "#### Q2. Write a Python code to implement the KNN regressor algorithm on load_boston dataset in sklearn.datasets."
   ]
  },
  {
   "cell_type": "code",
   "execution_count": 32,
   "id": "06b385ad-81d5-49aa-ae09-9030d0bceda5",
   "metadata": {},
   "outputs": [
    {
     "data": {
      "text/html": [
       "<div>\n",
       "<style scoped>\n",
       "    .dataframe tbody tr th:only-of-type {\n",
       "        vertical-align: middle;\n",
       "    }\n",
       "\n",
       "    .dataframe tbody tr th {\n",
       "        vertical-align: top;\n",
       "    }\n",
       "\n",
       "    .dataframe thead th {\n",
       "        text-align: right;\n",
       "    }\n",
       "</style>\n",
       "<table border=\"1\" class=\"dataframe\">\n",
       "  <thead>\n",
       "    <tr style=\"text-align: right;\">\n",
       "      <th></th>\n",
       "      <th>RM</th>\n",
       "      <th>LSTAT</th>\n",
       "      <th>PTRATIO</th>\n",
       "      <th>MEDV</th>\n",
       "    </tr>\n",
       "  </thead>\n",
       "  <tbody>\n",
       "    <tr>\n",
       "      <th>0</th>\n",
       "      <td>6.575</td>\n",
       "      <td>4.98</td>\n",
       "      <td>15.3</td>\n",
       "      <td>504000.0</td>\n",
       "    </tr>\n",
       "    <tr>\n",
       "      <th>1</th>\n",
       "      <td>6.421</td>\n",
       "      <td>9.14</td>\n",
       "      <td>17.8</td>\n",
       "      <td>453600.0</td>\n",
       "    </tr>\n",
       "    <tr>\n",
       "      <th>2</th>\n",
       "      <td>7.185</td>\n",
       "      <td>4.03</td>\n",
       "      <td>17.8</td>\n",
       "      <td>728700.0</td>\n",
       "    </tr>\n",
       "    <tr>\n",
       "      <th>3</th>\n",
       "      <td>6.998</td>\n",
       "      <td>2.94</td>\n",
       "      <td>18.7</td>\n",
       "      <td>701400.0</td>\n",
       "    </tr>\n",
       "    <tr>\n",
       "      <th>4</th>\n",
       "      <td>7.147</td>\n",
       "      <td>5.33</td>\n",
       "      <td>18.7</td>\n",
       "      <td>760200.0</td>\n",
       "    </tr>\n",
       "  </tbody>\n",
       "</table>\n",
       "</div>"
      ],
      "text/plain": [
       "      RM  LSTAT  PTRATIO      MEDV\n",
       "0  6.575   4.98     15.3  504000.0\n",
       "1  6.421   9.14     17.8  453600.0\n",
       "2  7.185   4.03     17.8  728700.0\n",
       "3  6.998   2.94     18.7  701400.0\n",
       "4  7.147   5.33     18.7  760200.0"
      ]
     },
     "execution_count": 32,
     "metadata": {},
     "output_type": "execute_result"
    }
   ],
   "source": [
    "#from sklearn.datasets import load_bston\n",
    "df1 = pd.read_csv(\"housing.csv\")\n",
    "df1.head()"
   ]
  },
  {
   "cell_type": "code",
   "execution_count": 33,
   "id": "41c61b3f-3561-4786-8260-e8b48ccd3f2e",
   "metadata": {},
   "outputs": [],
   "source": [
    "X1 = df1.drop('MEDV', axis=1)\n",
    "y1 = df1['MEDV']"
   ]
  },
  {
   "cell_type": "code",
   "execution_count": 34,
   "id": "19f53970-7be7-4e38-9753-b7269ffe9322",
   "metadata": {},
   "outputs": [
    {
     "name": "stdout",
     "output_type": "stream",
     "text": [
      "Accuracy :  0.0\n",
      "[[0 0 0 ... 0 0 0]\n",
      " [0 0 0 ... 0 0 0]\n",
      " [0 0 0 ... 0 0 0]\n",
      " ...\n",
      " [0 0 0 ... 0 0 0]\n",
      " [0 0 0 ... 1 0 0]\n",
      " [0 0 0 ... 0 0 0]]\n"
     ]
    }
   ],
   "source": [
    "from sklearn.model_selection import train_test_split\n",
    "from sklearn.neighbors import KNeighborsRegressor\n",
    "from sklearn.metrics import confusion_matrix\n",
    "X1_train,X1_test,y1_train,y1_test = train_test_split(X1,y1,random_state=42,test_size=0.2)\n",
    "clss = KNeighborsRegressor(n_neighbors=10)\n",
    "clss.fit(X1_train,y1_train)\n",
    "y1_pred = clss.predict(X1_test)\n",
    "print(\"Accuracy : \",accuracy_score(y1_test,y1_pred))\n",
    "print(confusion_matrix(y1_test,y1_pred))"
   ]
  },
  {
   "cell_type": "markdown",
   "id": "65ad4c89-e0e9-488d-b01c-b32f1d94e613",
   "metadata": {},
   "source": [
    "#### Q3. Write a Python code snippet to find the optimal value of K for the KNN classifier algorithm using cross-validation on load_iris dataset in sklearn.datasets."
   ]
  },
  {
   "cell_type": "code",
   "execution_count": 46,
   "id": "7c8ed92b-2019-463c-b000-8586f77bfa4d",
   "metadata": {},
   "outputs": [
    {
     "name": "stdout",
     "output_type": "stream",
     "text": [
      "Optimal Value is :  1\n"
     ]
    }
   ],
   "source": [
    "from sklearn.model_selection import KFold,cross_val_score\n",
    "df=load_iris()\n",
    "lst=[]\n",
    "ran=range(1,16)\n",
    "for i in ran:\n",
    "    clasf = KNeighborsClassifier(n_neighbors=i,algorithm='auto')\n",
    "    cv = KFold(n_splits=7)\n",
    "    score = cross_val_score(clasf,df.data,df.target,cv=cv,scoring='accuracy')\n",
    "    lst.append(score.mean())\n",
    "\n",
    "result = ran[lst.index(max(lst))]\n",
    "print(\"Optimal Value is : \",result)"
   ]
  },
  {
   "cell_type": "markdown",
   "id": "cf86a9fb-06f5-469f-b76b-9ac268db9891",
   "metadata": {},
   "source": [
    "#### Q4. Implement the KNN regressor algorithm with feature scaling on load_boston dataset in sklearn.datasets."
   ]
  },
  {
   "cell_type": "code",
   "execution_count": 7,
   "id": "802cb524-dd8f-4cda-9cb6-881e5d208474",
   "metadata": {},
   "outputs": [
    {
     "data": {
      "text/html": [
       "<div>\n",
       "<style scoped>\n",
       "    .dataframe tbody tr th:only-of-type {\n",
       "        vertical-align: middle;\n",
       "    }\n",
       "\n",
       "    .dataframe tbody tr th {\n",
       "        vertical-align: top;\n",
       "    }\n",
       "\n",
       "    .dataframe thead th {\n",
       "        text-align: right;\n",
       "    }\n",
       "</style>\n",
       "<table border=\"1\" class=\"dataframe\">\n",
       "  <thead>\n",
       "    <tr style=\"text-align: right;\">\n",
       "      <th></th>\n",
       "      <th>RM</th>\n",
       "      <th>LSTAT</th>\n",
       "      <th>PTRATIO</th>\n",
       "      <th>MEDV</th>\n",
       "    </tr>\n",
       "  </thead>\n",
       "  <tbody>\n",
       "    <tr>\n",
       "      <th>0</th>\n",
       "      <td>6.575</td>\n",
       "      <td>4.98</td>\n",
       "      <td>15.3</td>\n",
       "      <td>504000.0</td>\n",
       "    </tr>\n",
       "    <tr>\n",
       "      <th>1</th>\n",
       "      <td>6.421</td>\n",
       "      <td>9.14</td>\n",
       "      <td>17.8</td>\n",
       "      <td>453600.0</td>\n",
       "    </tr>\n",
       "  </tbody>\n",
       "</table>\n",
       "</div>"
      ],
      "text/plain": [
       "      RM  LSTAT  PTRATIO      MEDV\n",
       "0  6.575   4.98     15.3  504000.0\n",
       "1  6.421   9.14     17.8  453600.0"
      ]
     },
     "execution_count": 7,
     "metadata": {},
     "output_type": "execute_result"
    }
   ],
   "source": [
    "import pandas as pd\n",
    "import numpy as np\n",
    "import matplotlib.pyplot as plt\n",
    "import seaborn as sns\n",
    "\n",
    "df = pd.read_csv(\"housing.csv\")\n",
    "df.head(2)"
   ]
  },
  {
   "cell_type": "code",
   "execution_count": 8,
   "id": "1a19e330-1c39-4539-acab-e7c5b58984d2",
   "metadata": {},
   "outputs": [],
   "source": [
    "y=df['MEDV']\n",
    "X=df.drop('MEDV',axis=1)"
   ]
  },
  {
   "cell_type": "code",
   "execution_count": 10,
   "id": "cb24b314-14f2-4d7f-8d79-7b50d7470261",
   "metadata": {},
   "outputs": [],
   "source": [
    "from sklearn.model_selection import train_test_split\n",
    "from sklearn.preprocessing import StandardScaler\n",
    "from sklearn.neighbors import KNeighborsRegressor\n",
    "X_train,X_test,y_train,y_test = train_test_split(X,y,test_size=0.2,random_state=42)\n",
    "scaler = StandardScaler()\n",
    "X_train = scaler.fit_transform(X_train)\n",
    "X_test = scaler.transform(X_test)\n",
    "clsi = KNeighborsRegressor(n_neighbors=5,algorithm='auto')\n",
    "clsi.fit(X_train,y_train)\n",
    "y_pred = clsi.predict(X_test)"
   ]
  },
  {
   "cell_type": "code",
   "execution_count": 13,
   "id": "07c30928-3967-44fd-b285-7cbaaaa2f679",
   "metadata": {},
   "outputs": [
    {
     "name": "stdout",
     "output_type": "stream",
     "text": [
      "Accuracy is :  0.030612244897959183\n"
     ]
    }
   ],
   "source": [
    "from sklearn.metrics import accuracy_score\n",
    "print(\"Accuracy is : \",accuracy_score(y_test,y_pred))"
   ]
  },
  {
   "cell_type": "markdown",
   "id": "c07d6c86-e5e2-4202-b065-ae9bf93600bf",
   "metadata": {},
   "source": [
    "#### Q5. Write a Python code snippet to implement the KNN classifier algorithm with weighted voting on load_iris dataset in sklearn.datasets."
   ]
  },
  {
   "cell_type": "code",
   "execution_count": 14,
   "id": "191d1e20-5d74-467f-a5cc-6462005342d2",
   "metadata": {},
   "outputs": [],
   "source": [
    "from sklearn.datasets import load_iris\n",
    "df = load_iris()\n",
    "X=df.data\n",
    "y=df.target"
   ]
  },
  {
   "cell_type": "code",
   "execution_count": 15,
   "id": "c763c023-f121-4a56-9482-bfe69d58fa70",
   "metadata": {},
   "outputs": [],
   "source": [
    "from sklearn.neighbors import KNeighborsClassifier\n",
    "cl = KNeighborsClassifier(n_neighbors=10,weights='distance')"
   ]
  },
  {
   "cell_type": "code",
   "execution_count": 16,
   "id": "fad40843-1419-40ef-b297-1c9f0031ed7e",
   "metadata": {},
   "outputs": [],
   "source": [
    "cl.fit(X,y)\n",
    "y_pred = cl.predict(X)"
   ]
  },
  {
   "cell_type": "code",
   "execution_count": 17,
   "id": "c73c9980-6598-4d77-a3a0-6fc5135793ec",
   "metadata": {},
   "outputs": [
    {
     "name": "stdout",
     "output_type": "stream",
     "text": [
      "Pridect data :  [0 0 0 0 0 0 0 0 0 0 0 0 0 0 0 0 0 0 0 0 0 0 0 0 0 0 0 0 0 0 0 0 0 0 0 0 0\n",
      " 0 0 0 0 0 0 0 0 0 0 0 0 0 1 1 1 1 1 1 1 1 1 1 1 1 1 1 1 1 1 1 1 1 1 1 1 1\n",
      " 1 1 1 1 1 1 1 1 1 1 1 1 1 1 1 1 1 1 1 1 1 1 1 1 1 1 2 2 2 2 2 2 2 2 2 2 2\n",
      " 2 2 2 2 2 2 2 2 2 2 2 2 2 2 2 2 2 2 2 2 2 2 2 2 2 2 2 2 2 2 2 2 2 2 2 2 2\n",
      " 2 2]\n"
     ]
    }
   ],
   "source": [
    "print(\"Pridect data : \",y_pred)"
   ]
  },
  {
   "cell_type": "markdown",
   "id": "2c3d4669-cb77-445d-b4f5-2b2085db9323",
   "metadata": {},
   "source": [
    "#### Q6. Implement a function to standardise the features before applying KNN classifier."
   ]
  },
  {
   "cell_type": "code",
   "execution_count": 20,
   "id": "46fce024-831b-439d-a6db-0069f15564d5",
   "metadata": {},
   "outputs": [
    {
     "name": "stdout",
     "output_type": "stream",
     "text": [
      "Prdct data :  [0 0 0 0 0 0 0 0 0 0 0 0 0 0 0 0 0 0 0 0 0 0 0 0 0 0 0 0 0 0 0 0 0 0 0 0 0\n",
      " 0 0 0 0 0 0 0 0 0 0 0 0 0 1 1 1 1 1 1 1 1 1 1 1 1 1 1 1 1 1 1 1 1 1 1 2 1\n",
      " 1 1 1 1 1 1 1 1 1 2 1 1 1 1 1 1 1 1 1 1 1 1 1 1 1 1 2 2 2 2 2 2 1 2 2 2 2\n",
      " 2 2 2 2 2 2 2 2 1 2 2 2 2 2 2 2 2 2 2 2 2 2 1 2 2 2 2 2 2 2 2 2 2 2 2 2 2\n",
      " 2 2]\n"
     ]
    }
   ],
   "source": [
    "from sklearn.preprocessing import StandardScaler\n",
    "def standardise(X):\n",
    "    scaler = StandardScaler()\n",
    "    X_std=scaler.fit_transform(X)\n",
    "    return X_std\n",
    "\n",
    "X_std = standardise(X)\n",
    "\n",
    "clss = KNeighborsClassifier(n_neighbors=7,algorithm='auto')\n",
    "clss.fit(X_std,y)\n",
    "y_pred = clss.predict(X_std)\n",
    "print(\"Prdct data : \",y_pred)"
   ]
  },
  {
   "cell_type": "markdown",
   "id": "154faafc-0ded-4ebd-8c9d-76761dde18cf",
   "metadata": {},
   "source": [
    "#### Q7. Write a Python function to calculate the euclidean distance between two points."
   ]
  },
  {
   "cell_type": "code",
   "execution_count": 32,
   "id": "0b657690-4a89-433d-8e2c-5969452c3c72",
   "metadata": {},
   "outputs": [],
   "source": [
    "from sklearn.datasets import load_iris\n",
    "iris = load_iris()\n",
    "x1=iris.data[0]\n",
    "x2=iris.data[100]"
   ]
  },
  {
   "cell_type": "code",
   "execution_count": 34,
   "id": "2e93993e-2c82-4221-aeae-c122664e8f15",
   "metadata": {},
   "outputs": [
    {
     "name": "stdout",
     "output_type": "stream",
     "text": [
      "[5.1 3.5 1.4 0.2] [6.3 3.3 6.  2.5]\n"
     ]
    }
   ],
   "source": [
    "print(x1,x2)"
   ]
  },
  {
   "cell_type": "code",
   "execution_count": 36,
   "id": "2df9dded-28be-44ae-ac10-795c3523f961",
   "metadata": {},
   "outputs": [
    {
     "name": "stdout",
     "output_type": "stream",
     "text": [
      "Euclidean Distance is :  5.2848841046895245\n"
     ]
    }
   ],
   "source": [
    "import math\n",
    "def euclidean(x1,x2):\n",
    "    distance =0\n",
    "    for i in range(len(x1)):\n",
    "        distance+=(x1[i]-x2[i])**2\n",
    "    distance=math.sqrt(distance)\n",
    "    return distance\n",
    "\n",
    "res = euclidean(x1,x2)\n",
    "print(\"Euclidean Distance is : \",res)"
   ]
  },
  {
   "cell_type": "markdown",
   "id": "ce1936e9-2172-4693-b29e-c340657f8cee",
   "metadata": {},
   "source": [
    "#### Q8. Write a Python function to calculate the manhattan distance between two points."
   ]
  },
  {
   "cell_type": "code",
   "execution_count": 39,
   "id": "3f47c357-be9d-49a4-9d4a-b749e609b1de",
   "metadata": {},
   "outputs": [
    {
     "name": "stdout",
     "output_type": "stream",
     "text": [
      "Manhatten Distance :  8.3\n"
     ]
    }
   ],
   "source": [
    "def manhatten(x1,x2):\n",
    "    dis=0\n",
    "    for i in range(len(x1)):\n",
    "        dis+=abs(x1[i]-x2[i])\n",
    "    return dis\n",
    "res1=manhatten(x1,x2)\n",
    "print(\"Manhatten Distance : \",res1)"
   ]
  },
  {
   "cell_type": "code",
   "execution_count": null,
   "id": "c0535c7c-9884-4484-9dd6-73e97ba6d0a6",
   "metadata": {},
   "outputs": [],
   "source": []
  }
 ],
 "metadata": {
  "kernelspec": {
   "display_name": "Python 3 (ipykernel)",
   "language": "python",
   "name": "python3"
  },
  "language_info": {
   "codemirror_mode": {
    "name": "ipython",
    "version": 3
   },
   "file_extension": ".py",
   "mimetype": "text/x-python",
   "name": "python",
   "nbconvert_exporter": "python",
   "pygments_lexer": "ipython3",
   "version": "3.10.8"
  }
 },
 "nbformat": 4,
 "nbformat_minor": 5
}
