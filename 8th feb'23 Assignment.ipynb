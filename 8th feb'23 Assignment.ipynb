{
 "cells": [
  {
   "cell_type": "code",
   "execution_count": 39,
   "id": "889c14d5-f4c3-4a71-ab6f-55379c905f08",
   "metadata": {},
   "outputs": [
    {
     "data": {
      "text/plain": [
       "\"***************************** 8th feb'23 Assignment *****************************\""
      ]
     },
     "execution_count": 39,
     "metadata": {},
     "output_type": "execute_result"
    }
   ],
   "source": [
    "\"\"\"***************************** 8th feb'23 Assignment *****************************\"\"\""
   ]
  },
  {
   "cell_type": "code",
   "execution_count": 14,
   "id": "199bb83f-f301-4a5f-90c9-529a9eef760b",
   "metadata": {},
   "outputs": [
    {
     "name": "stdout",
     "output_type": "stream",
     "text": [
      "This is Data Scientist Masters (cost-3500)\n",
      "This is Web devlopment (cost-3500)\n",
      "This is java DSA (cost-3500)\n"
     ]
    }
   ],
   "source": [
    "\"\"\"Q1. What is Abstraction in OOps? Explain with an example.\"\"\"\n",
    "\n",
    "# Abstraction is used to hide the internal functionality of the function from the users.\n",
    "# The users only interact with the basic implementation of the function, but inner working is hidden.\n",
    "\n",
    "import abc\n",
    "class Pwskills:\n",
    "    @abc.abstractmethod\n",
    "    def cost(self):\n",
    "        pass\n",
    "\n",
    "class D_S_M(Pwskills):\n",
    "    def cost(self):\n",
    "        print(\"This is Data Scientist Masters (cost-3500)\")\n",
    "class Web_dev(Pwskills):\n",
    "    def cost(self):\n",
    "        print(\"This is Web devlopment (cost-3500)\")\n",
    "class Java_DSA(Pwskills):\n",
    "    def cost(self):\n",
    "        print(\"This is java DSA (cost-3500)\")\n",
    "        \n",
    "d=D_S_M()\n",
    "d.cost()\n",
    "\n",
    "w=Web_dev()\n",
    "w.cost()\n",
    "\n",
    "J=Java_DSA()\n",
    "J.cost()"
   ]
  },
  {
   "cell_type": "code",
   "execution_count": 24,
   "id": "2668cdbd-d6d5-4121-b1db-db3d8398dff2",
   "metadata": {},
   "outputs": [
    {
     "name": "stdout",
     "output_type": "stream",
     "text": [
      "Abstraction Example :\n"
     ]
    },
    {
     "data": {
      "text/plain": [
       "'This is Electronics and Communication Engineering'"
      ]
     },
     "execution_count": 24,
     "metadata": {},
     "output_type": "execute_result"
    }
   ],
   "source": [
    "\"\"\"Q2. Differentiate between Abstraction and Encapsulation. Explain with an example.\"\"\"\n",
    "\n",
    "# Abstraction: Abstraction solves the problem and issues that arise at the design stage.\n",
    "#              Focus mainly on what should be done.\n",
    "#              You can use abstraction using Interface and Abstract Class.\n",
    "\n",
    "# Encapsulation: Encapsulation solves the problem and issue that arise at the implementation stage.\n",
    "#                Focus primarily on how it should be done.\n",
    "#                You can implement encapsulation using Access Modifiers (Public, Protected & Private.)\n",
    "\n",
    "print(\"Abstraction Example :\")\n",
    "import abc\n",
    "class NIST:\n",
    "    @abc.abstractmethod\n",
    "    def courses(self):\n",
    "        pass\n",
    "class Btech(NIST):\n",
    "    def cse(self):\n",
    "        return \"This is computer science Engg.\"\n",
    "    def it(self):\n",
    "        return \"This is information Technology\"\n",
    "    def eec(self):\n",
    "        return \"This is Electronics and Communication Engineering\"\n",
    "\n",
    "class Mtech(NIST):\n",
    "    def cse(self):\n",
    "        return \"This is high level computer science engg.\"\n",
    "    def it(self):\n",
    "        return \"This is high level information technology\"\n",
    "\n",
    "Std_1=Btech()\n",
    "Std_1.eec()"
   ]
  },
  {
   "cell_type": "code",
   "execution_count": 25,
   "id": "0874552c-cdd3-4196-9a76-03e3bb996dea",
   "metadata": {},
   "outputs": [
    {
     "data": {
      "text/plain": [
       "'This is high level computer science engg.'"
      ]
     },
     "execution_count": 25,
     "metadata": {},
     "output_type": "execute_result"
    }
   ],
   "source": [
    "Std_2=Mtech()\n",
    "Std_2.cse()"
   ]
  },
  {
   "cell_type": "code",
   "execution_count": 32,
   "id": "085d341a-636d-46f8-9d22-7d0410f52735",
   "metadata": {},
   "outputs": [
    {
     "name": "stdout",
     "output_type": "stream",
     "text": [
      "Encapsulation Example :\n"
     ]
    },
    {
     "data": {
      "text/plain": [
       "10000000"
      ]
     },
     "execution_count": 32,
     "metadata": {},
     "output_type": "execute_result"
    }
   ],
   "source": [
    "print(\"Encapsulation Example :\")\n",
    "class car:\n",
    "    def __init__(self,brand,avg_price):\n",
    "        self.brand=brand\n",
    "        self.__avg_price=avg_price\n",
    "        a=avg_price\n",
    "    def set_price(self,amt):\n",
    "        self.__avg_price=10000000 if amt<10000000 else amt\n",
    "    def get_price(self):\n",
    "        return self.__avg_price\n",
    "Trimal=car(\"Mercedes\",10000000)\n",
    "Trimal._car__avg_price"
   ]
  },
  {
   "cell_type": "code",
   "execution_count": 33,
   "id": "7bc61d64-c2dd-4dee-a8d5-c7c490792670",
   "metadata": {},
   "outputs": [],
   "source": [
    "Trimal.set_price(12500000)"
   ]
  },
  {
   "cell_type": "code",
   "execution_count": 35,
   "id": "561d13d5-1d87-4f95-a8f5-d676032b6b6f",
   "metadata": {},
   "outputs": [
    {
     "data": {
      "text/plain": [
       "12500000"
      ]
     },
     "execution_count": 35,
     "metadata": {},
     "output_type": "execute_result"
    }
   ],
   "source": [
    "Trimal.get_price()"
   ]
  },
  {
   "cell_type": "code",
   "execution_count": 36,
   "id": "efef0461-a58c-497a-9c3e-ea5f69ad59b9",
   "metadata": {},
   "outputs": [
    {
     "data": {
      "text/plain": [
       "'abc stands for \"Abstract Base Classes\"\\n# This module provides abstract base classes that can be used to test whether a class provides a particular interface.\\n# It help you define a blueprint for other classes that may have something in common.'"
      ]
     },
     "execution_count": 36,
     "metadata": {},
     "output_type": "execute_result"
    }
   ],
   "source": [
    "\"\"\"Q3. What is abc module in python? Why is it used?\"\"\"\n",
    "\n",
    "# abc stands for \"Abstract Base Classes\"\n",
    "# This module provides abstract base classes that can be used to test whether a class provides a particular interface.\n",
    "# It help you define a blueprint for other classes that may have something in common.\n",
    "\"\"\"abc stands for \"Abstract Base Classes\"\n",
    "# This module provides abstract base classes that can be used to test whether a class provides a particular interface.\n",
    "# It help you define a blueprint for other classes that may have something in common.\"\"\""
   ]
  },
  {
   "cell_type": "code",
   "execution_count": 37,
   "id": "2ea5a67c-1a03-431c-8934-0d7129517c03",
   "metadata": {},
   "outputs": [
    {
     "data": {
      "text/plain": [
       "'# The process of hiding the real implementation of an application from the user and emphasizing only on usage of it.\\n# Basically, Abstraction focuses on hiding the internal implementations of a process or method from the user.\\n# An abstract method is a method that is declared, but does not contain implementation.\\n'"
      ]
     },
     "execution_count": 37,
     "metadata": {},
     "output_type": "execute_result"
    }
   ],
   "source": [
    "\"\"\"Q4. How can we achieve data abstraction?\"\"\"\n",
    "\n",
    "# The process of hiding the real implementation of an application from the user and emphasizing only on usage of it.\n",
    "# Basically, Abstraction focuses on hiding the internal implementations of a process or method from the user.\n",
    "# An abstract method is a method that is declared, but does not contain implementation.\n",
    "\"\"\"# The process of hiding the real implementation of an application from the user and emphasizing only on usage of it.\n",
    "# Basically, Abstraction focuses on hiding the internal implementations of a process or method from the user.\n",
    "# An abstract method is a method that is declared, but does not contain implementation.\n",
    "\"\"\""
   ]
  },
  {
   "cell_type": "code",
   "execution_count": 38,
   "id": "f53c0214-77d8-45e5-8897-7d15f5a1f637",
   "metadata": {},
   "outputs": [
    {
     "data": {
      "text/plain": [
       "'# \"NO\",\\n# We cannot create an abstract class in Python directly. \\n# However, Python does provide a module that allows us to define abstract classes.\\n# The module we can use to create an abstract class in Python is abc(abstract base class) module.\\n'"
      ]
     },
     "execution_count": 38,
     "metadata": {},
     "output_type": "execute_result"
    }
   ],
   "source": [
    "\"\"\"Q5. Can we create an instance of an abstract class? Explain your answer.\"\"\"\n",
    "\n",
    "# \"NO\",\n",
    "# We cannot create an abstract class in Python directly. \n",
    "# However, Python does provide a module that allows us to define abstract classes.\n",
    "# The module we can use to create an abstract class in Python is abc(abstract base class) module.\n",
    "\"\"\"# \"NO\",\n",
    "# We cannot create an abstract class in Python directly. \n",
    "# However, Python does provide a module that allows us to define abstract classes.\n",
    "# The module we can use to create an abstract class in Python is abc(abstract base class) module.\n",
    "\"\"\""
   ]
  },
  {
   "cell_type": "code",
   "execution_count": null,
   "id": "251d39ee-3d22-4c33-8b38-cfaabd736bef",
   "metadata": {},
   "outputs": [],
   "source": []
  }
 ],
 "metadata": {
  "kernelspec": {
   "display_name": "Python 3 (ipykernel)",
   "language": "python",
   "name": "python3"
  },
  "language_info": {
   "codemirror_mode": {
    "name": "ipython",
    "version": 3
   },
   "file_extension": ".py",
   "mimetype": "text/x-python",
   "name": "python",
   "nbconvert_exporter": "python",
   "pygments_lexer": "ipython3",
   "version": "3.10.8"
  }
 },
 "nbformat": 4,
 "nbformat_minor": 5
}
