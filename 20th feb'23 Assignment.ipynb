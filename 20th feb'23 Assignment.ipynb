{
 "cells": [
  {
   "cell_type": "code",
   "execution_count": 1,
   "id": "6ac6b9ab-7286-4b90-a899-37a7acfe6aa7",
   "metadata": {},
   "outputs": [
    {
     "data": {
      "text/plain": [
       "\"***************************** 20th feb'23 Assignment *****************************\""
      ]
     },
     "execution_count": 1,
     "metadata": {},
     "output_type": "execute_result"
    }
   ],
   "source": [
    "\"\"\"***************************** 20th feb'23 Assignment *****************************\"\"\""
   ]
  },
  {
   "cell_type": "code",
   "execution_count": null,
   "id": "0fdf41e5-fc49-428b-a93f-163fbca17dc6",
   "metadata": {},
   "outputs": [],
   "source": [
    "\"\"\"Q1. Explain GET and POST methods ?\"\"\"\n",
    "\n",
    "Ans.\n",
    "    GET: \n",
    "        It is used to retrieve data from a server. When a client sends a GET request,\n",
    "        it asks the server to provide a specific resource or information. \n",
    "        For example, when you enter a URL in your browser, a GET request is sent to \n",
    "        fetch the webpage associated with that URL. GET requests are typically used \n",
    "        for reading data, like retrieving blog posts or user profiles.\n",
    "        \n",
    "    POST: \n",
    "        It is used to send data to the server for processing or modification.\n",
    "        When a client sends a POST request, it submits data to the server.\n",
    "        For instance, when you submit a form on a website, the form data is sent to the server\n",
    "        using a POST request. The server can then use this data to create a new user account,\n",
    "        update a database, or perform other actions that involve modifying data."
   ]
  },
  {
   "cell_type": "code",
   "execution_count": null,
   "id": "1958d4b6-23b5-4b43-bcc7-3a7238b20f4a",
   "metadata": {},
   "outputs": [],
   "source": [
    "\"\"\"Q2. Why is request used in Flask?\"\"\"\n",
    "\n",
    "Ans.\n",
    "    the '''request''' object in Flask is a tool that helps your application interact with and extract\n",
    "    relevant data from incoming requests made by clients, allowing you to build dynamic & interactive web app.\n",
    "    \n",
    "    For example, if a client submits a form with data, you can use the 'request' object to access that form\n",
    "    data & perform actions like saving it to a database or processing it in some way. If a client \n",
    "    includes query parameters in the URL, you can use the 'request' object to extract & utilize those parameters."
   ]
  },
  {
   "cell_type": "code",
   "execution_count": null,
   "id": "4e53779d-60ee-469b-ab24-87520954a721",
   "metadata": {},
   "outputs": [],
   "source": [
    "\"\"\"Q3. Why is redirect() used in Flask ?\"\"\"\n",
    "\n",
    "Ans.\n",
    "    redirect() in Flask is used to send the users web browser to a different URL.\n",
    "    It is used when you want to guide the user from one page to another.\n",
    "    For example, after submitting a form, you can use redirect() to send the user to a \"thank you\" \n",
    "    page or to a different section of the website. Redirecting allows you to control the flow of the \n",
    "    application and provide a better user experience by automatically taking the user to the appropriate\n",
    "    destination without them needing to manually enter a new URL"
   ]
  },
  {
   "cell_type": "code",
   "execution_count": null,
   "id": "22f10d29-a08c-4087-9ff2-94c7cd8d96a7",
   "metadata": {},
   "outputs": [],
   "source": [
    "\"\"\"Q4. What are templates in Flask? Why is the render_template() function used ?\"\"\"\n",
    "\n",
    "Ans.\n",
    "     templates in Flask are files that contain the structure and layout of web pages.\n",
    "    They are written in HTML, CSS, and may include placeholders for dynamic content. \n",
    "    \n",
    "    \n",
    "The render_template() function in Flask is used to combine a template file (containing HTML, CSS, etc.)\n",
    "with data from your Flask application and generate a complete HTML page as a response to the clients request.\n",
    "By using render_template(), you can pass variables and data from your Flask views (Python code) to the template,\n",
    "allowing you to customize the content & generate dynamic web pages tailored to the specific needs of each request."
   ]
  },
  {
   "cell_type": "code",
   "execution_count": null,
   "id": "fa785e6d-eadc-41b0-9a9c-a1896426cd05",
   "metadata": {},
   "outputs": [],
   "source": [
    "\"\"\"Q5. Create a simple API. Use Postman to test it. Attach the screenshot of the output in the Jupyter Notebook.\"\"\"\n",
    "\n",
    "Ans.\n",
    "from flask import Flask,request ,render_template , jsonify\n",
    "\n",
    "app = Flask(__name__)\n",
    "\n",
    "\n",
    "@app.route('/')\n",
    "def home_page():\n",
    "    return render_template('index.html')\n",
    "\n",
    "\n",
    "@app.route('/math',methods=['POST'])\n",
    "def math_ops():\n",
    "    if(request.method == 'POST'):\n",
    "        ops = request.form['operation']\n",
    "        num1 = int(request.form['num1'])\n",
    "        num2 = int(request.form['num2'])\n",
    "        if ops == 'add':\n",
    "            r = num1+num2\n",
    "            result = \"The sum of \" + str(num1) + 'and ' + str(num2) + \"is \" + str(r)\n",
    "        if ops == 'subtract':\n",
    "            r = num1-num2\n",
    "            result = \"The subtract of \" + str(num1) + 'and ' + str(num2) + \"is \" + str(r)\n",
    "        if ops == 'multiply':\n",
    "            r = num1*num2\n",
    "            result = \"The multiply of \" + str(num1) + 'and ' + str(num2) + \"is \" + str(r)\n",
    "        if ops == 'divide':\n",
    "            r = num1/num2\n",
    "            result = \"The divide of \" + str(num1) + 'and ' + str(num2) + \"is \" + str(r)\n",
    "            \n",
    "        return render_template('results.html' , result = result)\n",
    "    \n",
    "if __name__==\"__main__\":\n",
    "    app.run(host=\"0.0.0.0\")    "
   ]
  },
  {
   "cell_type": "code",
   "execution_count": null,
   "id": "046b0aaa-fee2-449f-874d-c6e9129f990d",
   "metadata": {},
   "outputs": [],
   "source": [
    "Run this code.\n",
    "Then see the terminal.\n",
    "172.18.0.2 - - [01/Jun/2023 22:30:23] \"POST /postman_action HTTP/1.1\" 200 -\n",
    "\n",
    "Then you open new browser url copy the <url_link> + :5000\n",
    "output:\n",
    "Disgned show like HTML program."
   ]
  },
  {
   "cell_type": "code",
   "execution_count": null,
   "id": "79724eb8-f9a3-48fb-a6a9-900086ef5983",
   "metadata": {},
   "outputs": [],
   "source": [
    "if,\n",
    "    num1 = 4\n",
    "    num2 = 2\n",
    "    operation : add\n",
    "\n",
    "The sum of 4 and 2 is :6"
   ]
  },
  {
   "cell_type": "code",
   "execution_count": null,
   "id": "6407c326-6a6b-472d-b379-7ee50c1770dd",
   "metadata": {},
   "outputs": [],
   "source": []
  }
 ],
 "metadata": {
  "kernelspec": {
   "display_name": "Python 3 (ipykernel)",
   "language": "python",
   "name": "python3"
  },
  "language_info": {
   "codemirror_mode": {
    "name": "ipython",
    "version": 3
   },
   "file_extension": ".py",
   "mimetype": "text/x-python",
   "name": "python",
   "nbconvert_exporter": "python",
   "pygments_lexer": "ipython3",
   "version": "3.10.8"
  }
 },
 "nbformat": 4,
 "nbformat_minor": 5
}
