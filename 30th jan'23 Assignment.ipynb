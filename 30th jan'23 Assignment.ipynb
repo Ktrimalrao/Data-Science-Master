{
 "cells": [
  {
   "cell_type": "code",
   "execution_count": 1,
   "id": "fa8c39b2-06a0-4ee6-94c8-eb4a87d4edf8",
   "metadata": {},
   "outputs": [
    {
     "data": {
      "text/plain": [
       "\"***************************** 30th jan'23 Assignment *****************************\""
      ]
     },
     "execution_count": 1,
     "metadata": {},
     "output_type": "execute_result"
    }
   ],
   "source": [
    "\"\"\"***************************** 30th jan'23 Assignment *****************************\"\"\""
   ]
  },
  {
   "cell_type": "code",
   "execution_count": 2,
   "id": "d2b18b06-26df-44a6-bc3b-c3df625bfb51",
   "metadata": {},
   "outputs": [
    {
     "name": "stdin",
     "output_type": "stream",
     "text": [
      "Enter your Marks :  81\n"
     ]
    },
    {
     "name": "stdout",
     "output_type": "stream",
     "text": [
      "B Grade\n"
     ]
    }
   ],
   "source": [
    "\"\"\"1. Write a program to accept percentage from the user and display the grade according to the following .\n",
    "\n",
    "       ________________________________________________\n",
    "       | Marks___________________________________Grade |\n",
    "       |                                               |\n",
    "       | >90______________________________________A____|\n",
    "       |                                               |\n",
    "       | >80 and <=90 ____________________________B____|\n",
    "       |                                               |\n",
    "       | >60 and <=80_____________________________c____|\n",
    "       |                                               |\n",
    "       | below 60_________________________________D____|\n",
    "       |_______________________________________________|\n",
    "\"\"\"\n",
    "\n",
    "marks=int(input(\"Enter your Marks : \"))\n",
    "if marks>90:\n",
    "    print(\"A Grade\")\n",
    "elif marks>80 and marks<=90:\n",
    "    print(\"B Grade\")\n",
    "elif marks>60 and marks<=80:\n",
    "    print(\"C Grade\")\n",
    "else:\n",
    "    print(\"D Garde\")"
   ]
  },
  {
   "cell_type": "code",
   "execution_count": 3,
   "id": "487564ee-b607-44d2-8471-da79aacf97dd",
   "metadata": {},
   "outputs": [
    {
     "name": "stdin",
     "output_type": "stream",
     "text": [
      "Enter your cost : 75000\n"
     ]
    },
    {
     "name": "stdout",
     "output_type": "stream",
     "text": [
      "82500.0\n"
     ]
    }
   ],
   "source": [
    "\"\"\"2. Write a program to accept the cost price of a bike and display the road tax to be paid according to the \n",
    "following criteria\n",
    "        ________________________________________________\n",
    "       | Tax________________|_______ Cost Price(in Rs) |\n",
    "       |                    |                          |\n",
    "       | 15%________________|____________>100000_______|\n",
    "       |                    |                          |\n",
    "       | 10%________________|__>50000 and <= 100000____|\n",
    "       |                    |                          |\n",
    "       | 5%_________________|___________<= 50000_______|\n",
    "\"\"\"\n",
    "\n",
    "price=int(input(\"Enter your cost :\"))\n",
    "total_price=0\n",
    "if price>100000:\n",
    "    total_price=((price*15)/100) + price\n",
    "elif price > 50000 and price <=100000:\n",
    "    total_price=((price*10)/100) + price\n",
    "else:\n",
    "    total_price=((price*5)/100) + price\n",
    "print(total_price)"
   ]
  },
  {
   "cell_type": "code",
   "execution_count": 4,
   "id": "2141c70e-9636-4e62-a412-f90cc40942d8",
   "metadata": {},
   "outputs": [
    {
     "name": "stdin",
     "output_type": "stream",
     "text": [
      "Enter your City name : agra\n"
     ]
    },
    {
     "name": "stdout",
     "output_type": "stream",
     "text": [
      "Mountain is :Taj mahal\n"
     ]
    }
   ],
   "source": [
    "\"\"\"3. Accept any city from the user and display monuments of that city. \n",
    "        ________________________________________________\n",
    "       |___city_____________|_______Mountain___________|\n",
    "       |                    |                          |\n",
    "       |___Delhi____________|________Red fort__________|\n",
    "       |                    |                          |\n",
    "       |___Agra_____________|________taj nahal_________|\n",
    "       |                    |                          |\n",
    "       |___Jaipur___________|________jai mahal_________|\n",
    "\n",
    "\"\"\"\n",
    "city=str(input(\"Enter your City name :\"))\n",
    "if city.upper()==\"DELHI\":\n",
    "    print(\"Mountain is :Red fort\")\n",
    "elif city.upper()==\"AGRA\":\n",
    "    print(\"Mountain is :Taj mahal\")\n",
    "elif city.upper==\"JAIPUR\":\n",
    "    print(\"Mountain is :Jai mahal\")\n",
    "else:\n",
    "    print(\"Invalid input\")"
   ]
  },
  {
   "cell_type": "code",
   "execution_count": 12,
   "id": "7dc09c68-b807-4e89-a7e0-d0f383e720a0",
   "metadata": {},
   "outputs": [
    {
     "name": "stdout",
     "output_type": "stream",
     "text": [
      "3\n"
     ]
    }
   ],
   "source": [
    "\"\"\"4. Check how many times a given number can be divided by 3 before it is less than or equal to 10.\"\"\"\n",
    "\n",
    "n=range(1,11)\n",
    "count=0\n",
    "for i in n:\n",
    "    if(i%3==0):\n",
    "        count=count+1\n",
    "    else:\n",
    "        continue\n",
    "print(count)"
   ]
  },
  {
   "cell_type": "code",
   "execution_count": 6,
   "id": "e5f92124-4916-492a-82d6-2261b03fcf5f",
   "metadata": {},
   "outputs": [
    {
     "name": "stdin",
     "output_type": "stream",
     "text": [
      "enter a number:  10\n"
     ]
    },
    {
     "name": "stdout",
     "output_type": "stream",
     "text": [
      "The sum is:  55\n"
     ]
    }
   ],
   "source": [
    "\"\"\"5. Why and When to Use while Loop in Python give a detailed description with example.\"\"\"\n",
    "\n",
    "# Python While Loop is used to execute a block of statements repeatedly until a given condition is satisfied.\n",
    "# And when the condition becomes false, the line immediately after the loop in the program is executed.\n",
    "# Evaluate a test condition and iterate over the loop body until the condition returns True.\n",
    "\n",
    "# program to calculate the sum of numbers\n",
    "# until the user enters zero\n",
    "\n",
    "# example : Sum of N natural numbers .\n",
    "n = int(input(\"enter a number: \"))\n",
    "i = 1\n",
    "sum = 0\n",
    "while (i <= n):\n",
    "    sum = sum + i\n",
    "    i = i + 1\n",
    "print(\"The sum is: \", sum)\n"
   ]
  },
  {
   "cell_type": "code",
   "execution_count": 7,
   "id": "fbb07fb7-ec57-4e6c-b462-90e20a731e57",
   "metadata": {},
   "outputs": [
    {
     "name": "stdout",
     "output_type": "stream",
     "text": [
      "Pattern-1\n"
     ]
    },
    {
     "name": "stdin",
     "output_type": "stream",
     "text": [
      "Enter number of rows :  5\n"
     ]
    },
    {
     "name": "stdout",
     "output_type": "stream",
     "text": [
      "* \n",
      "* * \n",
      "* * * \n",
      "* * * * \n",
      "* * * * * \n"
     ]
    }
   ],
   "source": [
    "\"\"\"\"6. Use nested while loop to print 3 different pattern. \"\"\"\n",
    "\n",
    "print(\"Pattern-1\")\n",
    "n = int(input('Enter number of rows : '))\n",
    "\n",
    "i = 1\n",
    "while i <= n :\n",
    "    j = 1\n",
    "    while j <= i:\n",
    "        print(\"*\", end = \" \")\n",
    "        j += 1\n",
    "    print()\n",
    "    i += 1"
   ]
  },
  {
   "cell_type": "code",
   "execution_count": 8,
   "id": "ceaa9d03-07e2-4c4a-ade3-4654aed5f329",
   "metadata": {},
   "outputs": [
    {
     "name": "stdout",
     "output_type": "stream",
     "text": [
      "Pattern-2\n"
     ]
    },
    {
     "name": "stdin",
     "output_type": "stream",
     "text": [
      "Enter number of rows :  5\n"
     ]
    },
    {
     "name": "stdout",
     "output_type": "stream",
     "text": [
      "* * * * * \n",
      "* * * * \n",
      "* * * \n",
      "* * \n",
      "* \n"
     ]
    }
   ],
   "source": [
    "print(\"Pattern-2\")\n",
    "n = int(input('Enter number of rows : '))\n",
    "\n",
    "i = 1\n",
    "while i <= n :\n",
    "    j = n\n",
    "    while j >= i:\n",
    "        print(\"*\", end = \" \")\n",
    "        j -= 1\n",
    "    print()\n",
    "    i += 1"
   ]
  },
  {
   "cell_type": "code",
   "execution_count": 16,
   "id": "12be7fd8-1ab3-4c57-bb3b-b0c31bcc7cc5",
   "metadata": {},
   "outputs": [
    {
     "name": "stdout",
     "output_type": "stream",
     "text": [
      "pattern-3\n"
     ]
    },
    {
     "name": "stdin",
     "output_type": "stream",
     "text": [
      "Enter no. of rows: 5\n"
     ]
    },
    {
     "name": "stdout",
     "output_type": "stream",
     "text": [
      "     \n",
      "    *\n",
      "   **\n",
      "  ***\n",
      " ****\n",
      "*****\n"
     ]
    }
   ],
   "source": [
    "print(\"pattern-3\")\n",
    "n=int(input(\"Enter no. of rows:\"))\n",
    "i=0\n",
    "while (i<=n):\n",
    "    print(\" \" * (n-i) + \"*\" * i)\n",
    "    i=i+1"
   ]
  },
  {
   "cell_type": "code",
   "execution_count": 9,
   "id": "b0cd30ca-21d4-4bb6-9d1c-6d4a770e5017",
   "metadata": {},
   "outputs": [
    {
     "name": "stdout",
     "output_type": "stream",
     "text": [
      "10\n",
      "9\n",
      "8\n",
      "7\n",
      "6\n",
      "5\n",
      "4\n",
      "3\n",
      "2\n",
      "1\n"
     ]
    }
   ],
   "source": [
    "\"\"\"7. Reverse a while loop to display numbers from 10 to 1. \"\"\"\n",
    "\n",
    "num=10\n",
    "while num>0:\n",
    "    print(num)\n",
    "    num=num-1"
   ]
  },
  {
   "cell_type": "code",
   "execution_count": 10,
   "id": "cfa08e9b-35fd-40b6-8e72-69e64b3f1a21",
   "metadata": {},
   "outputs": [
    {
     "name": "stdout",
     "output_type": "stream",
     "text": [
      "10\n",
      "9\n",
      "8\n",
      "7\n",
      "6\n",
      "5\n",
      "4\n",
      "3\n",
      "2\n",
      "1\n"
     ]
    }
   ],
   "source": [
    "\"\"\"8. Reverse a while loop to display numbers from 10 to 1. \"\"\"\n",
    "\n",
    "number=10\n",
    "while number>0:\n",
    "    print(number)\n",
    "    number=number-1"
   ]
  },
  {
   "cell_type": "code",
   "execution_count": null,
   "id": "caecb8e9-d725-484c-ba49-336353ca89f8",
   "metadata": {},
   "outputs": [],
   "source": []
  }
 ],
 "metadata": {
  "kernelspec": {
   "display_name": "Python 3 (ipykernel)",
   "language": "python",
   "name": "python3"
  },
  "language_info": {
   "codemirror_mode": {
    "name": "ipython",
    "version": 3
   },
   "file_extension": ".py",
   "mimetype": "text/x-python",
   "name": "python",
   "nbconvert_exporter": "python",
   "pygments_lexer": "ipython3",
   "version": "3.10.8"
  }
 },
 "nbformat": 4,
 "nbformat_minor": 5
}
