{
 "cells": [
  {
   "cell_type": "code",
   "execution_count": 1,
   "id": "1ec2f0ab-4605-4890-bede-8e5766c0531b",
   "metadata": {},
   "outputs": [
    {
     "data": {
      "text/plain": [
       "\"***************************** 29th jan'23 Assignment *****************************\""
      ]
     },
     "execution_count": 1,
     "metadata": {},
     "output_type": "execute_result"
    }
   ],
   "source": [
    "\"\"\"***************************** 29th jan'23 Assignment *****************************\"\"\""
   ]
  },
  {
   "cell_type": "code",
   "execution_count": 2,
   "id": "3f11ef14-5273-4750-a66f-4b82db8dbdfc",
   "metadata": {},
   "outputs": [
    {
     "data": {
      "text/plain": [
       "'Python was created by Guido van Rossum'"
      ]
     },
     "execution_count": 2,
     "metadata": {},
     "output_type": "execute_result"
    }
   ],
   "source": [
    "\"\"\"1. Who developed Python Programming Language?\"\"\"\n",
    "\n",
    "# Python was created by Guido van Rossum.\n",
    "\"\"\"Python was created by Guido van Rossum\"\"\""
   ]
  },
  {
   "cell_type": "code",
   "execution_count": 4,
   "id": "bdad5de0-9e40-4a92-9844-448c59e3b153",
   "metadata": {},
   "outputs": [
    {
     "data": {
      "text/plain": [
       "'Python is an interpreted programming language, supporting object-oriented, structured, and functional programming.'"
      ]
     },
     "execution_count": 4,
     "metadata": {},
     "output_type": "execute_result"
    }
   ],
   "source": [
    "\"\"\"2. Which type of Programming does Python support?\"\"\"\n",
    "\n",
    "# Python is an interpreted programming language, supporting object-oriented, structured, and functional programming.\n",
    "\"\"\"Python is an interpreted programming language, supporting object-oriented, structured, and functional programming.\"\"\""
   ]
  },
  {
   "cell_type": "code",
   "execution_count": 5,
   "id": "97568573-19e1-4ed5-a9ba-8f80c0a68e1b",
   "metadata": {},
   "outputs": [
    {
     "data": {
      "text/plain": [
       "'Yes, Python is a case−sensitive programming language. This means that it considers uppercase and lowercase letters differently.'"
      ]
     },
     "execution_count": 5,
     "metadata": {},
     "output_type": "execute_result"
    }
   ],
   "source": [
    "\"\"\"3. Is Python case sensitive when dealing with identifiers?\"\"\"\n",
    "\n",
    "# Yes, Python is a case−sensitive programming language. This means that it considers uppercase and lowercase letters differently.\n",
    "\"\"\"Yes, Python is a case−sensitive programming language. This means that it considers uppercase and lowercase letters differently.\"\"\""
   ]
  },
  {
   "cell_type": "code",
   "execution_count": 7,
   "id": "461b07fd-ddf6-4f84-9bf2-19f2b81027f9",
   "metadata": {},
   "outputs": [
    {
     "data": {
      "text/plain": [
       "'# The extensions for Python files are \". py\" & PW extension is \".ipynb\" .'"
      ]
     },
     "execution_count": 7,
     "metadata": {},
     "output_type": "execute_result"
    }
   ],
   "source": [
    "\"\"\"4. What is the correct extension of the Python file? \"\"\"\n",
    "# The extensions for Python files are \". py\" & PW extension is \".ipynb\" .\n",
    "\"\"\"# The extensions for Python files are \". py\" & PW extension is \".ipynb\" .\"\"\""
   ]
  },
  {
   "cell_type": "code",
   "execution_count": 10,
   "id": "f3610640-33ba-40d2-8cbc-8355d1870125",
   "metadata": {},
   "outputs": [
    {
     "data": {
      "text/plain": [
       "'Python is an interpreted language,\\nwhich means the source code of a Python program is converted into bytecode that is then executed by the Python virtual machine.'"
      ]
     },
     "execution_count": 10,
     "metadata": {},
     "output_type": "execute_result"
    }
   ],
   "source": [
    "\"\"\"5. Is Python code compiled or interpreted? \"\"\"\n",
    "\n",
    "#Python is an interpreted language, which means the source code of a Python program is converted into bytecode that is then executed by the Python virtual machine.\n",
    "\"\"\"Python is an interpreted language,\n",
    "which means the source code of a Python program is converted into bytecode that is then executed by the Python virtual machine.\"\"\""
   ]
  },
  {
   "cell_type": "code",
   "execution_count": 14,
   "id": "c3fefb13-f82f-4414-ada1-98afb2b08100",
   "metadata": {},
   "outputs": [
    {
     "data": {
      "text/plain": [
       "' *input. \\n *output. \\n *sequential execution. \\n *conditional execution. \\n *repeated execution. \\n *reuse.'"
      ]
     },
     "execution_count": 14,
     "metadata": {},
     "output_type": "execute_result"
    }
   ],
   "source": [
    "\"\"\"6. Name a few blocks of code used to define in Python language?\"\"\"\n",
    "\n",
    "#input. ...\n",
    "#output. ...\n",
    "#sequential execution. ...\n",
    "#conditional execution. ...\n",
    "#repeated execution. ...\n",
    "#reuse.\n",
    "\n",
    "\"\"\" *input. \n",
    " *output. \n",
    " *sequential execution. \n",
    " *conditional execution. \n",
    " *repeated execution. \n",
    " *reuse.\"\"\""
   ]
  },
  {
   "cell_type": "code",
   "execution_count": 16,
   "id": "cad692f8-8d68-44ab-96c1-3304629f4b8d",
   "metadata": {},
   "outputs": [
    {
     "data": {
      "text/plain": [
       "\"We can write a single-line comment by adding a single '#' character before any statement or line of code.\""
      ]
     },
     "execution_count": 16,
     "metadata": {},
     "output_type": "execute_result"
    }
   ],
   "source": [
    "\"\"\"7. State a character used to give single-line comments in Python? \"\"\"\n",
    "\n",
    "# We can write a single-line comment by adding a single # character before any statement or line of code.\n",
    "\"\"\"We can write a single-line comment by adding a single '#' character before any statement or line of code.\"\"\""
   ]
  },
  {
   "cell_type": "code",
   "execution_count": 17,
   "id": "7db7a23c-cd87-41b1-b10a-222301653cb1",
   "metadata": {},
   "outputs": [
    {
     "data": {
      "text/plain": [
       "' The function sys. version can help us to find the version of python that we are currently working on.'"
      ]
     },
     "execution_count": 17,
     "metadata": {},
     "output_type": "execute_result"
    }
   ],
   "source": [
    "\"\"\"8. Mention functions which can help us to find the version of python that we are currently working on?\"\"\"\n",
    "\n",
    "# The function sys. version can help us to find the version of python that we are currently working on.\n",
    "\"\"\" The function sys. version can help us to find the version of python that we are currently working on.\"\"\""
   ]
  },
  {
   "cell_type": "code",
   "execution_count": 18,
   "id": "63c4b992-7e42-4e60-bba2-6d742dcf676a",
   "metadata": {},
   "outputs": [
    {
     "data": {
      "text/plain": [
       "'lambda'"
      ]
     },
     "execution_count": 18,
     "metadata": {},
     "output_type": "execute_result"
    }
   ],
   "source": [
    "\"\"\"9. Python supports the creation of anonymous functions at runtime, using a construct called ______________.\"\"\"\n",
    "\n",
    "# lambda\n",
    "\"\"\"lambda\"\"\""
   ]
  },
  {
   "cell_type": "code",
   "execution_count": 19,
   "id": "08b38fb5-4cb9-453c-be66-3bc1984bf122",
   "metadata": {},
   "outputs": [
    {
     "data": {
      "text/plain": [
       "'pip Install Packages'"
      ]
     },
     "execution_count": 19,
     "metadata": {},
     "output_type": "execute_result"
    }
   ],
   "source": [
    "\"\"\"10. What does pip stand for python? \"\"\"\n",
    "\n",
    "# pip Install Packages\n",
    "\"\"\"pip Install Packages\"\"\""
   ]
  },
  {
   "cell_type": "code",
   "execution_count": 22,
   "id": "805ee4d4-3f23-407d-b96b-6ccbc6f0d46a",
   "metadata": {},
   "outputs": [
    {
     "data": {
      "text/plain": [
       "' * print( ) function.\\n * type( ) function.\\n * input( ) function.\\n * dir( ) function.\\n * sorted( ) function.\\n * max( ) function.'"
      ]
     },
     "execution_count": 22,
     "metadata": {},
     "output_type": "execute_result"
    }
   ],
   "source": [
    "\"\"\"11. Mention a few built-in functions in python? \"\"\"\n",
    "\n",
    "#print( ) function.\n",
    "#type( ) function.\n",
    "#input( ) function.\n",
    "#dir( ) function.\n",
    "#sorted( ) function.\n",
    "#max( ) function.\n",
    "\n",
    "\"\"\" * print( ) function.\n",
    " * type( ) function.\n",
    " * input( ) function.\n",
    " * dir( ) function.\n",
    " * sorted( ) function.\n",
    " * max( ) function.\"\"\""
   ]
  },
  {
   "cell_type": "code",
   "execution_count": 23,
   "id": "2aa803d1-419a-410d-8407-59e59c845bd1",
   "metadata": {},
   "outputs": [
    {
     "data": {
      "text/plain": [
       "'An identifier can have a maximum length of 79 characters in Python.'"
      ]
     },
     "execution_count": 23,
     "metadata": {},
     "output_type": "execute_result"
    }
   ],
   "source": [
    "\"\"\"12. What is the maximum possible length of an identifier in Python? \"\"\"\n",
    "\n",
    "#An identifier can have a maximum length of 79 characters in Python.\n",
    "\"\"\"An identifier can have a maximum length of 79 characters in Python.\"\"\""
   ]
  },
  {
   "cell_type": "code",
   "execution_count": 27,
   "id": "f4ce6613-68c7-44d1-880a-05c9888f25ec",
   "metadata": {},
   "outputs": [
    {
     "data": {
      "text/plain": [
       "' * Data science (Ml , DL , Daata Analytic , computer vision , Big Data).\\n * Scientific and mathematical computing.\\n * Web development.\\n * Finance and trading.'"
      ]
     },
     "execution_count": 27,
     "metadata": {},
     "output_type": "execute_result"
    }
   ],
   "source": [
    "\"\"\"13. What are the benefits of using Python?\"\"\"\n",
    "\n",
    "# Data science (Ml , DL , Daata Analytic , computer vision , Big Data).\n",
    "# Scientific and mathematical computing.\n",
    "# Web development.\n",
    "# Finance and trading.\n",
    "\"\"\" * Data science (Ml , DL , Daata Analytic , computer vision , Big Data).\n",
    " * Scientific and mathematical computing.\n",
    " * Web development.\n",
    " * Finance and trading.\"\"\""
   ]
  },
  {
   "cell_type": "code",
   "execution_count": 28,
   "id": "65b29567-84f1-4183-a1e1-e9fb21e739ef",
   "metadata": {},
   "outputs": [
    {
     "data": {
      "text/plain": [
       "\"Memory in Python is managed by Python private heap space. All Python objects and data structures are located in a private heap.\\n This private heap is taken care of by Python Interpreter itself, and a programmer doesn't have access to this private heap.\""
      ]
     },
     "execution_count": 28,
     "metadata": {},
     "output_type": "execute_result"
    }
   ],
   "source": [
    "\"\"\"14. How is memory managed in Python?\"\"\"\n",
    "\n",
    "# Memory in Python is managed by Python private heap space. All Python objects and data structures are located in a private heap. This private heap is taken care of by Python Interpreter itself, and a programmer doesn't have access to this private heap.\n",
    "\"\"\"Memory in Python is managed by Python private heap space. All Python objects and data structures are located in a private heap.\n",
    " This private heap is taken care of by Python Interpreter itself, and a programmer doesn't have access to this private heap.\"\"\""
   ]
  },
  {
   "cell_type": "code",
   "execution_count": 32,
   "id": "5ff2e4f8-d245-48ea-a726-5b80da722ea0",
   "metadata": {},
   "outputs": [
    {
     "data": {
      "text/plain": [
       "' i. Right-clicking This PC and going to Properties.\\n\\n ii. Clicking on the Advanced system settings in the menu on the left.\\n\\n iii. Clicking on the Environment Variables button o\\u200bn the bottom right.\\n\\n iv. In the System variables section, selecting the Path variable and clicking on Edit. The next screen will show all the directories that are currently a part of the PATH variable.\\n\\n v. Clicking on New and entering Python’s install directory.'"
      ]
     },
     "execution_count": 32,
     "metadata": {},
     "output_type": "execute_result"
    }
   ],
   "source": [
    "\"\"\"15. How to install Python on Windows and set path variables? \"\"\"\n",
    "\n",
    "# Right-clicking This PC and going to Properties.\n",
    "\n",
    "# Clicking on the Advanced system settings in the menu on the left.\n",
    "\n",
    "# Clicking on the Environment Variables button o​n the bottom right.\n",
    "\n",
    "# In the System variables section, selecting the Path variable and clicking on Edit. The next screen will show all the directories that are currently a part of the PATH variable.\n",
    "\n",
    "# Clicking on New and entering Python’s install directory.\n",
    "\n",
    "\"\"\" i. Right-clicking This PC and going to Properties.\n",
    "\n",
    " ii. Clicking on the Advanced system settings in the menu on the left.\n",
    "\n",
    " iii. Clicking on the Environment Variables button o​n the bottom right.\n",
    "\n",
    " iv. In the System variables section, selecting the Path variable and clicking on Edit. The next screen will show all the directories that are currently a part of the PATH variable.\n",
    "\n",
    " v. Clicking on New and entering Python’s install directory.\"\"\""
   ]
  },
  {
   "cell_type": "code",
   "execution_count": 33,
   "id": "c7119e2b-253b-44e7-a624-367b208ec2c5",
   "metadata": {},
   "outputs": [
    {
     "data": {
      "text/plain": [
       "\"Indentation is important to Python because it's how you determine scope. Scope is how Python knows what code belongs to what part of the program.\""
      ]
     },
     "execution_count": 33,
     "metadata": {},
     "output_type": "execute_result"
    }
   ],
   "source": [
    "\"\"\"16. Is indentation required in python? \"\"\"\n",
    "\n",
    "# Indentation is important to Python because it's how you determine scope. Scope is how Python knows what code belongs to what part of the program.\n",
    "\"\"\"Indentation is important to Python because it's how you determine scope. Scope is how Python knows what code belongs to what part of the program.\"\"\""
   ]
  },
  {
   "cell_type": "code",
   "execution_count": null,
   "id": "e77706e4-fd32-44ca-af5a-035af1d6d608",
   "metadata": {},
   "outputs": [],
   "source": []
  }
 ],
 "metadata": {
  "kernelspec": {
   "display_name": "Python 3 (ipykernel)",
   "language": "python",
   "name": "python3"
  },
  "language_info": {
   "codemirror_mode": {
    "name": "ipython",
    "version": 3
   },
   "file_extension": ".py",
   "mimetype": "text/x-python",
   "name": "python",
   "nbconvert_exporter": "python",
   "pygments_lexer": "ipython3",
   "version": "3.10.8"
  }
 },
 "nbformat": 4,
 "nbformat_minor": 5
}
