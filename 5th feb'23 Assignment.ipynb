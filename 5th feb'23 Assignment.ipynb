{
 "cells": [
  {
   "cell_type": "code",
   "execution_count": 7,
   "id": "bb40c3e0-ef52-4f08-8422-e9a74d964a82",
   "metadata": {},
   "outputs": [
    {
     "data": {
      "text/plain": [
       "\"***************************** 5th feb'23 Assignment *****************************\""
      ]
     },
     "execution_count": 7,
     "metadata": {},
     "output_type": "execute_result"
    }
   ],
   "source": [
    "\"\"\"***************************** 5th feb'23 Assignment *****************************\"\"\""
   ]
  },
  {
   "cell_type": "code",
   "execution_count": 9,
   "id": "6fcee8cf-b748-4add-8a71-0749be2223d1",
   "metadata": {},
   "outputs": [
    {
     "name": "stdout",
     "output_type": "stream",
     "text": [
      "Name: Mercedes, Speed: 300 \n"
     ]
    }
   ],
   "source": [
    "\"\"\"Explain Class and Object with respect to Object-Oriented Programming. Give a suitable example.\"\"\"\n",
    "\n",
    "#Object − Objects have states and behaviors.An object is an instance of a class.\n",
    "#     Example: A student has states - roll no., name, mark & color – black,white,red,green. \n",
    "\n",
    "#Class − A class can be defined as a template/blueprint that describes the behavior/state that the object of its type support.\n",
    "\n",
    "class car:\n",
    "    name = \"\"\n",
    "    speed = 0\n",
    "    \n",
    "car_1 = car()\n",
    "\n",
    "car_1.speed = 300\n",
    "car_1.name = \"Mercedes\"\n",
    "\n",
    "print(f\"Name: {car_1.name}, Speed: {car_1.speed} \")"
   ]
  },
  {
   "cell_type": "code",
   "execution_count": 10,
   "id": "09e931b9-1f15-4b8b-b8d8-59bc1f9d1683",
   "metadata": {},
   "outputs": [
    {
     "data": {
      "text/plain": [
       "'Inheritance, polymorphism, encapsulation, and abstraction'"
      ]
     },
     "execution_count": 10,
     "metadata": {},
     "output_type": "execute_result"
    }
   ],
   "source": [
    "\"\"\"Q2. Name the four pillars of OOPs.\"\"\"\n",
    "# OOPs stand for object oriented programing language.\n",
    "# 1. Inheritance\n",
    "# 2. polymorphism \n",
    "# 3. encapsulation\n",
    "# 4. abstraction\n",
    "\"\"\"Inheritance, polymorphism, encapsulation, and abstraction\"\"\""
   ]
  },
  {
   "cell_type": "code",
   "execution_count": 15,
   "id": "ec3f059a-7219-40ea-8201-5c792687f9d9",
   "metadata": {},
   "outputs": [
    {
     "data": {
      "text/plain": [
       "'K.Trimal Rao'"
      ]
     },
     "execution_count": 15,
     "metadata": {},
     "output_type": "execute_result"
    }
   ],
   "source": [
    "\"\"\"Explain why the __init__() function is used. Give a suitable example.\"\"\"\n",
    "\n",
    "# Use the __init__() function to assign values to object properties, or other operations that are necessary to do when the object is being created.\n",
    "# All classes have a function called __init__(), which is always executed when the class is being initiated.\n",
    "\n",
    "class Student:\n",
    "    def __init__(self,roll,name):\n",
    "        self.roll=roll\n",
    "        self.name=name\n",
    "stnd=Student(202110435,\"K.Trimal Rao\")\n",
    "\n",
    "stnd.name"
   ]
  },
  {
   "cell_type": "code",
   "execution_count": 17,
   "id": "a5625dff-de94-4108-b35c-9daa11a5e935",
   "metadata": {},
   "outputs": [
    {
     "data": {
      "text/plain": [
       "'The self variable is used to represent the instance of the class which is often used in object-oriented programming. It works as a reference to the object. Python uses the self parameter to refer to instance attributes and methods of the class.'"
      ]
     },
     "execution_count": 17,
     "metadata": {},
     "output_type": "execute_result"
    }
   ],
   "source": [
    "\"\"\"Q4. Why self is used in OOPs?\"\"\"\n",
    "\n",
    "# The self variable is used to represent the instance of the class which is often used in object-oriented programming.\n",
    "# It works as a reference to the object.\n",
    "# Python uses the self parameter to refer to instance attributes and methods of the class.\n",
    "\"\"\"The self variable is used to represent the instance of the class which is often used in object-oriented programming. It works as a reference to the object. Python uses the self parameter to refer to instance attributes and methods of the class.\"\"\""
   ]
  },
  {
   "cell_type": "code",
   "execution_count": 18,
   "id": "7d89f81b-d205-4b12-a4e0-564314fdc413",
   "metadata": {},
   "outputs": [
    {
     "name": "stdout",
     "output_type": "stream",
     "text": [
      "This is pw\n",
      "This is PW and inueron merge\n"
     ]
    }
   ],
   "source": [
    "\"\"\"Q5. What is inheritance? Give an example for each type of inheritance.\"\"\"\n",
    "\n",
    "# Inheritance relationship defines the classes that inherit from other classes as derived, subclass, or sub-type classes.\n",
    "\n",
    "#Single inheritance\n",
    "class pwskills:\n",
    "    def pw(self):\n",
    "         print(\"This is pw\");\n",
    "class inueron(pwskills):\n",
    "    def inu(self):\n",
    "         print(\"This is PW and inueron merge\");\n",
    "st =inueron();\n",
    "st.pw();\n",
    "st.inu();"
   ]
  },
  {
   "cell_type": "code",
   "execution_count": 22,
   "id": "c3486144-27c5-46d5-8613-7c687f4e33ff",
   "metadata": {},
   "outputs": [
    {
     "name": "stdout",
     "output_type": "stream",
     "text": [
      "dog barking\n",
      "Animal Speaking\n",
      "Eating bread…\n"
     ]
    }
   ],
   "source": [
    "\"\"\"Multi-Level inheritance\"\"\"\n",
    "class Animal:  \n",
    "    def speak(self):  \n",
    "        print(\"Animal Speaking\")   \n",
    "class Dog(Animal):  \n",
    "    def bark(self):  \n",
    "        print(\"dog barking\")  \n",
    "class DogChild(Dog):  \n",
    "    def eat(self):  \n",
    "        print(\"Eating bread…\")  \n",
    "ram = DogChild()  \n",
    "ram.bark()  \n",
    "ram.speak()  \n",
    "ram.eat() "
   ]
  },
  {
   "cell_type": "code",
   "execution_count": 23,
   "id": "723df24b-4a20-4ace-a1c2-da7fcc347722",
   "metadata": {},
   "outputs": [
    {
     "name": "stdout",
     "output_type": "stream",
     "text": [
      "30\n",
      "200\n",
      "0.5\n"
     ]
    }
   ],
   "source": [
    "\"\"\"Multiple Inheritance\"\"\"\n",
    "class Calculation1:  \n",
    "    def Summation(self,a,b):  \n",
    "        return a+b;  \n",
    "class Calculation2:  \n",
    "    def Multiplication(self,a,b):  \n",
    "        return a*b;  \n",
    "class Derived(Calculation1,Calculation2):  \n",
    "    def Divide(self,a,b):  \n",
    "        return a/b;  \n",
    "d = Derived()  \n",
    "print(d.Summation(10,20))  \n",
    "print(d.Multiplication(10,20))  \n",
    "print(d.Divide(10,20))"
   ]
  },
  {
   "cell_type": "code",
   "execution_count": null,
   "id": "fe50c275-1a4a-4899-a334-b1a1aa8940d1",
   "metadata": {},
   "outputs": [],
   "source": []
  }
 ],
 "metadata": {
  "kernelspec": {
   "display_name": "Python 3 (ipykernel)",
   "language": "python",
   "name": "python3"
  },
  "language_info": {
   "codemirror_mode": {
    "name": "ipython",
    "version": 3
   },
   "file_extension": ".py",
   "mimetype": "text/x-python",
   "name": "python",
   "nbconvert_exporter": "python",
   "pygments_lexer": "ipython3",
   "version": "3.10.8"
  }
 },
 "nbformat": 4,
 "nbformat_minor": 5
}
